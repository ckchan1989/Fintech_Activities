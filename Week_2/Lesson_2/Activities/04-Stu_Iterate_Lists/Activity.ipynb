{
 "cells": [
  {
   "cell_type": "code",
   "execution_count": 19,
   "id": "suitable-gravity",
   "metadata": {},
   "outputs": [],
   "source": [
    "Days = 0\n",
    "Profit_Days = 0\n",
    "Minimum = 0\n",
    "Maximum = 0\n",
    "Loss_Days = 0\n",
    "Cum_Profit = 0\n"
   ]
  },
  {
   "cell_type": "code",
   "execution_count": 7,
   "id": "earned-eleven",
   "metadata": {},
   "outputs": [],
   "source": [
    "#positive function\n",
    "def pos(lst):\n",
    "    return [x for x in lst if x > 0] or None\n",
    "\n",
    "#negative function\n",
    "def neg(lst):\n",
    "    return [x for x in lst if x < 0] or None"
   ]
  },
  {
   "cell_type": "code",
   "execution_count": 8,
   "id": "moral-glasgow",
   "metadata": {},
   "outputs": [],
   "source": [
    "# List of trading profits/losses\n",
    "trading_pnl = [ -224,  352, 252, 354, -544,\n",
    "                -650,   56, 123, -43,  254,\n",
    "                 325, -123,  47, 321,  123,\n",
    "                 133, -151, 613, 232, -311 ]\n"
   ]
  },
  {
   "cell_type": "code",
   "execution_count": 20,
   "id": "liberal-wallet",
   "metadata": {},
   "outputs": [],
   "source": [
    "# @TODO: Iterate over each element of the list\n",
    "for x in trading_pnl:\n",
    "    Cum_Profit += x\n",
    "    Days += 1\n",
    "\n",
    "    if Minimum == 0:\n",
    "        Minimum = x\n",
    "    elif x < Minimum:\n",
    "        Minimum = x\n",
    "    elif x > Maximum:\n",
    "        Maximum = x\n",
    "    \n",
    "    "
   ]
  },
  {
   "cell_type": "code",
   "execution_count": 28,
   "id": "encouraging-thesaurus",
   "metadata": {},
   "outputs": [
    {
     "data": {
      "text/plain": [
       "[352, 252, 354, 56, 123, 254, 325, 47, 321, 123, 133, 613, 232]"
      ]
     },
     "execution_count": 28,
     "metadata": {},
     "output_type": "execute_result"
    }
   ],
   "source": [
    "profitable_days  = pos(trading_pnl)\n",
    "profitable_days"
   ]
  },
  {
   "cell_type": "code",
   "execution_count": 30,
   "id": "horizontal-harassment",
   "metadata": {},
   "outputs": [
    {
     "data": {
      "text/plain": [
       "[-224, -544, -650, -43, -123, -151, -311]"
      ]
     },
     "execution_count": 30,
     "metadata": {},
     "output_type": "execute_result"
    }
   ],
   "source": [
    "unprofitable_days   = neg(trading_pnl)\n",
    "unprofitable_days "
   ]
  },
  {
   "cell_type": "code",
   "execution_count": 36,
   "id": "compliant-pattern",
   "metadata": {},
   "outputs": [
    {
     "data": {
      "text/plain": [
       "20"
      ]
     },
     "execution_count": 36,
     "metadata": {},
     "output_type": "execute_result"
    }
   ],
   "source": [
    "#Total Trading Days\n",
    "total_days = Days\n",
    "total_days"
   ]
  },
  {
   "cell_type": "code",
   "execution_count": 35,
   "id": "cardiac-wrong",
   "metadata": {},
   "outputs": [
    {
     "data": {
      "text/plain": [
       "1139"
      ]
     },
     "execution_count": 35,
     "metadata": {},
     "output_type": "execute_result"
    }
   ],
   "source": [
    "#total profit/loss\n",
    "total_profit = Cum_Profit\n",
    "total_profit"
   ]
  },
  {
   "cell_type": "code",
   "execution_count": 38,
   "id": "compressed-account",
   "metadata": {},
   "outputs": [
    {
     "data": {
      "text/plain": [
       "3185"
      ]
     },
     "execution_count": 38,
     "metadata": {},
     "output_type": "execute_result"
    }
   ],
   "source": [
    "#profit\n",
    "profit = sum(e for e in trading_pnl if e >= 0)\n",
    "profit"
   ]
  },
  {
   "cell_type": "code",
   "execution_count": 39,
   "id": "surrounded-alaska",
   "metadata": {},
   "outputs": [
    {
     "data": {
      "text/plain": [
       "-2046"
      ]
     },
     "execution_count": 39,
     "metadata": {},
     "output_type": "execute_result"
    }
   ],
   "source": [
    "#loss\n",
    "loss = sum(e for e in trading_pnl if e < 0)\n",
    "loss"
   ]
  },
  {
   "cell_type": "code",
   "execution_count": 41,
   "id": "immediate-broad",
   "metadata": {},
   "outputs": [
    {
     "data": {
      "text/plain": [
       "56.95"
      ]
     },
     "execution_count": 41,
     "metadata": {},
     "output_type": "execute_result"
    }
   ],
   "source": [
    "#Average\n",
    "avg_day = total_profit / total_days\n",
    "avg_day"
   ]
  },
  {
   "cell_type": "code",
   "execution_count": null,
   "id": "affiliated-theology",
   "metadata": {},
   "outputs": [],
   "source": []
  }
 ],
 "metadata": {
  "kernelspec": {
   "display_name": "Python 3",
   "language": "python",
   "name": "python3"
  },
  "language_info": {
   "codemirror_mode": {
    "name": "ipython",
    "version": 3
   },
   "file_extension": ".py",
   "mimetype": "text/x-python",
   "name": "python",
   "nbconvert_exporter": "python",
   "pygments_lexer": "ipython3",
   "version": "3.8.5"
  }
 },
 "nbformat": 4,
 "nbformat_minor": 5
}
