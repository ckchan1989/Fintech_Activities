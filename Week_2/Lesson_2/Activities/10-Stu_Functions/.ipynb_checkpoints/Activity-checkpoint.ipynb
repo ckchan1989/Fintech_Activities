{
 "cells": [
  {
   "cell_type": "code",
   "execution_count": null,
   "id": "wanted-estate",
   "metadata": {},
   "outputs": [],
   "source": [
    "beginning_balance = 29000.00\n",
    "ending_balance = 45000.10\n",
    "years = 1.0\n",
    "\n",
    "growth_rates = []"
   ]
  },
  {
   "cell_type": "code",
   "execution_count": null,
   "id": "instructional-municipality",
   "metadata": {},
   "outputs": [],
   "source": [
    "def calculate_compound_growth_rate(beginning_balance,ending_balance,years):\n",
    "    growth_rate = (ending_balance / beginning_balance) ** (1/years) -1\n",
    "    return growth_rate"
   ]
  },
  {
   "cell_type": "code",
   "execution_count": null,
   "id": "educational-cursor",
   "metadata": {},
   "outputs": [],
   "source": [
    "year_one_growth = calculate_compound_growth_rate(beginning_balance,ending_balance,years)\n",
    "year_one_growth"
   ]
  },
  {
   "cell_type": "code",
   "execution_count": null,
   "id": "educational-prayer",
   "metadata": {},
   "outputs": [],
   "source": [
    "beginning_balance = 45000.00\n",
    "ending_balance = 47000.00"
   ]
  },
  {
   "cell_type": "code",
   "execution_count": null,
   "id": "smooth-processing",
   "metadata": {},
   "outputs": [],
   "source": [
    "year_two_growth = calculate_compound_growth_rate(beginning_balance,ending_balance,years)\n",
    "year_two_growth"
   ]
  },
  {
   "cell_type": "code",
   "execution_count": 6,
   "id": "similar-radiation",
   "metadata": {},
   "outputs": [
    {
     "data": {
      "text/plain": [
       "3.0"
      ]
     },
     "execution_count": 6,
     "metadata": {},
     "output_type": "execute_result"
    }
   ],
   "source": [
    "beginning_balance = 47000.00\n",
    "ending_balance = 48930.00"
   ]
  },
  {
   "cell_type": "code",
   "execution_count": 7,
   "id": "durable-arrow",
   "metadata": {},
   "outputs": [
    {
     "data": {
      "text/plain": [
       "0.013504744157719184"
      ]
     },
     "execution_count": 7,
     "metadata": {},
     "output_type": "execute_result"
    }
   ],
   "source": [
    "year_three_growth = calculate_compound_growth_rate(beginning_balance,ending_balance,years)\n",
    "year_three_growth"
   ]
  },
  {
   "cell_type": "code",
   "execution_count": 8,
   "id": "balanced-covering",
   "metadata": {},
   "outputs": [],
   "source": [
    "year1_growth = round(year_one_growth,4)\n",
    "year2_growth = round(year_two_growth,4)\n",
    "year3_growth = round(year_three_growth,4)"
   ]
  },
  {
   "cell_type": "code",
   "execution_count": 9,
   "id": "awful-revision",
   "metadata": {},
   "outputs": [
    {
     "name": "stdout",
     "output_type": "stream",
     "text": [
      "55.17%\n",
      "2.20%\n",
      "1.35%\n"
     ]
    }
   ],
   "source": [
    "print(f\"{year1_growth:0.2%}\")\n",
    "print(f\"{year2_growth:0.2%}\")\n",
    "print(f\"{year3_growth:0.2%}\")"
   ]
  },
  {
   "cell_type": "code",
   "execution_count": 13,
   "id": "focused-trash",
   "metadata": {},
   "outputs": [],
   "source": [
    "#challenge\n",
    "beginning_balance = 29000.00\n",
    "ending_balance = 45000.10\n",
    "years = 1.0\n",
    "\n",
    "growth_rates = []"
   ]
  },
  {
   "cell_type": "code",
   "execution_count": 14,
   "id": "buried-ministry",
   "metadata": {},
   "outputs": [],
   "source": [
    "#challenge\n",
    "def calculate_compound_growth_rate(beginning_balance,ending_balance,years):\n",
    "    x = (ending_balance / beginning_balance) ** (1/years) -1\n",
    "    growth_rates.append(x)\n"
   ]
  },
  {
   "cell_type": "code",
   "execution_count": 15,
   "id": "junior-jersey",
   "metadata": {},
   "outputs": [
    {
     "name": "stdout",
     "output_type": "stream",
     "text": [
      "Growth Rates : [0.5517275862068964, 0.021980647783726104, 0.013504744157719184]\n"
     ]
    }
   ],
   "source": [
    "#challenge\n",
    "calculate_compound_growth_rate(beginning_balance,ending_balance,years)\n",
    "\n",
    "beginning_balance = 45000.00\n",
    "ending_balance = 47000.00\n",
    "calculate_compound_growth_rate(beginning_balance,ending_balance,years)\n",
    "\n",
    "beginning_balance = 47000.00\n",
    "ending_balance = 48930.00\n",
    "calculate_compound_growth_rate(beginning_balance,ending_balance,years)\n",
    "\n",
    "print(\"Growth Rates :\", growth_rates)\n"
   ]
  },
  {
   "cell_type": "code",
   "execution_count": null,
   "id": "julian-daisy",
   "metadata": {},
   "outputs": [],
   "source": []
  }
 ],
 "metadata": {
  "kernelspec": {
   "display_name": "Python 3",
   "language": "python",
   "name": "python3"
  },
  "language_info": {
   "codemirror_mode": {
    "name": "ipython",
    "version": 3
   },
   "file_extension": ".py",
   "mimetype": "text/x-python",
   "name": "python",
   "nbconvert_exporter": "python",
   "pygments_lexer": "ipython3",
   "version": "3.8.5"
  }
 },
 "nbformat": 4,
 "nbformat_minor": 5
}
