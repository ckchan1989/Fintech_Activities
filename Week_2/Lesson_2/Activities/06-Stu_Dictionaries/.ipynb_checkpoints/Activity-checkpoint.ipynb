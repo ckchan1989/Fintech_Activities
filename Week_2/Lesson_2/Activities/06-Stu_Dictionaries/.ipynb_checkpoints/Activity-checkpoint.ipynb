{
 "cells": [
  {
   "cell_type": "code",
   "execution_count": 1,
   "id": "golden-appreciation",
   "metadata": {},
   "outputs": [],
   "source": [
    "banks = {\"JP Morgan Chase\": 327,\n",
    "        \"Bank of America\": 302,\n",
    "         \"Citigroup\": 173,\n",
    "         \"Well Fargo\": 273,\n",
    "         \"Goldman Sachs\": 87,\n",
    "         \"Morgan Stanley\": 72,\n",
    "         \"U.S. Bancorp\": 83,\n",
    "         \"TD Bank\": 108,\n",
    "         \"PNC Financial Services\": 67,\n",
    "         \"Capital One\": 47,\n",
    "         \"FNB Corporation\": 4,\n",
    "         \"First Hawaiian Bank\": 3,\n",
    "         \"Ally Financial\": 12,\n",
    "         \"Wachovia\": 145,\n",
    "         \"Republic Bancorp\": .97\n",
    "        \n",
    "        }\n",
    "banks"
   ]
  },
  {
   "cell_type": "code",
   "execution_count": 2,
   "id": "grand-affairs",
   "metadata": {},
   "outputs": [
    {
     "data": {
      "text/plain": [
       "{'JP Morgan Chase': 327,\n",
       " 'Bank of America': 302,\n",
       " 'Citigroup': 170,\n",
       " 'Well Fargo': 273,\n",
       " 'Goldman Sachs': 87,\n",
       " 'Morgan Stanley': 72,\n",
       " 'U.S. Bancorp': 83,\n",
       " 'TD Bank': 108,\n",
       " 'PNC Financial Services': 67,\n",
       " 'Capital One': 47,\n",
       " 'FNB Corporation': 4,\n",
       " 'First Hawaiian Bank': 3,\n",
       " 'Ally Financial': 12,\n",
       " 'Wachovia': 145,\n",
       " 'Republic Bancorp': 0.97}"
      ]
     },
     "execution_count": 2,
     "metadata": {},
     "output_type": "execute_result"
    }
   ],
   "source": [
    "banks[\"Citigroup\"] = 170\n",
    "banks"
   ]
  },
  {
   "cell_type": "code",
   "execution_count": 3,
   "id": "purple-marriage",
   "metadata": {},
   "outputs": [
    {
     "data": {
      "text/plain": [
       "{'JP Morgan Chase': 327,\n",
       " 'Bank of America': 302,\n",
       " 'Citigroup': 170,\n",
       " 'Well Fargo': 273,\n",
       " 'Goldman Sachs': 87,\n",
       " 'Morgan Stanley': 72,\n",
       " 'U.S. Bancorp': 83,\n",
       " 'TD Bank': 108,\n",
       " 'PNC Financial Services': 67,\n",
       " 'Capital One': 47,\n",
       " 'FNB Corporation': 4,\n",
       " 'First Hawaiian Bank': 3,\n",
       " 'Ally Financial': 12,\n",
       " 'Wachovia': 145,\n",
       " 'Republic Bancorp': 0.97,\n",
       " 'American Express': 33}"
      ]
     },
     "execution_count": 3,
     "metadata": {},
     "output_type": "execute_result"
    }
   ],
   "source": [
    "banks.update({\"American Express\": 33})\n",
    "#OR banks['American Express'] = 33\n",
    "banks"
   ]
  },
  {
   "cell_type": "code",
   "execution_count": 4,
   "id": "constitutional-virus",
   "metadata": {},
   "outputs": [
    {
     "data": {
      "text/plain": [
       "{'JP Morgan Chase': 327,\n",
       " 'Bank of America': 302,\n",
       " 'Citigroup': 170,\n",
       " 'Well Fargo': 273,\n",
       " 'Goldman Sachs': 87,\n",
       " 'Morgan Stanley': 72,\n",
       " 'U.S. Bancorp': 83,\n",
       " 'TD Bank': 108,\n",
       " 'PNC Financial Services': 67,\n",
       " 'Capital One': 47,\n",
       " 'FNB Corporation': 4,\n",
       " 'First Hawaiian Bank': 3,\n",
       " 'Ally Financial': 12,\n",
       " 'Republic Bancorp': 0.97,\n",
       " 'American Express': 33}"
      ]
     },
     "execution_count": 4,
     "metadata": {},
     "output_type": "execute_result"
    }
   ],
   "source": [
    "banks.pop(\"Wachovia\")\n",
    "#OR del banks[\"Wachovia\"]\n",
    "banks"
   ]
  },
  {
   "cell_type": "code",
   "execution_count": 5,
   "id": "respiratory-venture",
   "metadata": {},
   "outputs": [
    {
     "data": {
      "text/plain": [
       "{'JP Morgan Chase': 327,\n",
       " 'Bank of America': 302,\n",
       " 'Citigroup': 170,\n",
       " 'Well Fargo': 273,\n",
       " 'Goldman Sachs': 87,\n",
       " 'Morgan Stanley': 72,\n",
       " 'U.S. Bancorp': 83,\n",
       " 'TD Bank': 108,\n",
       " 'PNC Financial Services': 67,\n",
       " 'Capital One': 47,\n",
       " 'FNB Corporation': 4,\n",
       " 'First Hawaiian Bank': 3,\n",
       " 'Ally Financial': 12,\n",
       " 'Republic Bancorp': 0.97,\n",
       " 'American Express': 33}"
      ]
     },
     "execution_count": 5,
     "metadata": {},
     "output_type": "execute_result"
    }
   ],
   "source": [
    "banks"
   ]
  },
  {
   "cell_type": "code",
   "execution_count": 6,
   "id": "aboriginal-niagara",
   "metadata": {},
   "outputs": [],
   "source": [
    "total_cap = 0\n",
    "total_bank = 0\n",
    "maximum_bank = 0\n",
    "minimum_bank = 0\n",
    "mininum_key = list()\n",
    "maximum_key = list()\n",
    "mega_caps = list()\n",
    "large_caps = list()\n",
    "mid_caps = list()\n",
    "small_caps = list()\n",
    "\n",
    "\"\"\" test and does not work\n",
    "for x in banks.values():\n",
    "    total_cap += x #total capitalisation value\n",
    "    total_bank += 1 #counter\n",
    "\n",
    "    if minimum_bank == 0:\n",
    "        minimum_bank = x\n",
    "    elif x < minimum_bank:\n",
    "        minimum_bank = x\n",
    "    elif x > maximum_bank:\n",
    "        maximum_bank = x\n",
    "\"\"\"\n",
    "        \n",
    "\n",
    "for bank_name, market_cap in banks.items():\n",
    "# Calculate sum of market caps and number of banks in the dictionary\n",
    "    total_cap += int(market_cap)\n",
    "    total_bank += 1\n",
    "\n",
    "    # Logic to determine min value and associated key\n",
    "    if minimum_bank == 0:\n",
    "        minimum_bank = market_cap\n",
    "        minimum_key = bank_name\n",
    "    elif market_cap < minimum_bank:\n",
    "        minimum_bank = market_cap\n",
    "        minimum_key = bank_name\n",
    "\n",
    "    # Logic to determine max value and associated key\n",
    "    if market_cap > maximum_bank:\n",
    "        maximum_bank = market_cap\n",
    "        maximum_key = bank_name\n",
    "\n",
    "    # Group banks by categories of market caps\n",
    "    if market_cap >= 300:\n",
    "        mega_caps.append(bank_name)\n",
    "    elif market_cap >= 10 and market_cap < 300:\n",
    "        large_caps.append(bank_name)\n",
    "    elif market_cap >= 2 and market_cap < 10:\n",
    "        mid_caps.append(bank_name)\n",
    "    elif market_cap < 2:\n",
    "        small_caps.append(bank_name)\n",
    "\n"
   ]
  },
  {
   "cell_type": "code",
   "execution_count": 19,
   "id": "pacific-amino",
   "metadata": {},
   "outputs": [
    {
     "data": {
      "text/plain": [
       "327"
      ]
     },
     "execution_count": 19,
     "metadata": {},
     "output_type": "execute_result"
    }
   ],
   "source": [
    "total_cap = 0\n",
    "total_bank = 0\n",
    "maximum_bank = 0\n",
    "minimum_bank = 0\n",
    "\n",
    "for x in banks.values():\n",
    "    total_cap += x #total capitalisation value\n",
    "    total_bank += 1 #counter\n",
    "\n",
    "    if minimum_bank == 0:\n",
    "        minimum_bank = x\n",
    "    elif x < minimum_bank:\n",
    "        minimum_bank = x\n",
    "    if x > maximum_bank:\n",
    "        maximum_bank = x\n",
    "        \n",
    "maximum_bank"
   ]
  },
  {
   "cell_type": "code",
   "execution_count": 8,
   "id": "useful-niger",
   "metadata": {},
   "outputs": [
    {
     "data": {
      "text/plain": [
       "327"
      ]
     },
     "execution_count": 8,
     "metadata": {},
     "output_type": "execute_result"
    }
   ],
   "source": [
    "maximum_bank"
   ]
  },
  {
   "cell_type": "code",
   "execution_count": 9,
   "id": "billion-birmingham",
   "metadata": {},
   "outputs": [
    {
     "data": {
      "text/plain": [
       "15"
      ]
     },
     "execution_count": 9,
     "metadata": {},
     "output_type": "execute_result"
    }
   ],
   "source": [
    "total_bank"
   ]
  },
  {
   "cell_type": "code",
   "execution_count": 10,
   "id": "substantial-wallace",
   "metadata": {},
   "outputs": [
    {
     "data": {
      "text/plain": [
       "'JP Morgan Chase'"
      ]
     },
     "execution_count": 10,
     "metadata": {},
     "output_type": "execute_result"
    }
   ],
   "source": [
    "max(banks, key=banks.get)\n",
    "#maximum value bank"
   ]
  },
  {
   "cell_type": "code",
   "execution_count": 11,
   "id": "local-berlin",
   "metadata": {},
   "outputs": [
    {
     "name": "stdout",
     "output_type": "stream",
     "text": [
      "JP Morgan Chase\n"
     ]
    }
   ],
   "source": [
    "print(list(banks.keys())[list(banks.values()).index(maximum_bank)])\n",
    "#note gives you only first instance of keys"
   ]
  },
  {
   "cell_type": "code",
   "execution_count": 12,
   "id": "opened-skirt",
   "metadata": {},
   "outputs": [
    {
     "data": {
      "text/plain": [
       "('JP Morgan Chase', 327)"
      ]
     },
     "execution_count": 12,
     "metadata": {},
     "output_type": "execute_result"
    }
   ],
   "source": [
    "max(banks.items(), key =lambda k:k[1])"
   ]
  },
  {
   "cell_type": "code",
   "execution_count": 13,
   "id": "voluntary-techno",
   "metadata": {},
   "outputs": [
    {
     "data": {
      "text/plain": [
       "0.97"
      ]
     },
     "execution_count": 13,
     "metadata": {},
     "output_type": "execute_result"
    }
   ],
   "source": [
    "minimum_bank"
   ]
  },
  {
   "cell_type": "code",
   "execution_count": 14,
   "id": "frozen-angel",
   "metadata": {},
   "outputs": [
    {
     "data": {
      "text/plain": [
       "'Republic Bancorp'"
      ]
     },
     "execution_count": 14,
     "metadata": {},
     "output_type": "execute_result"
    }
   ],
   "source": [
    "min(banks, key=banks.get)\n",
    "#maximum value bank"
   ]
  },
  {
   "cell_type": "code",
   "execution_count": null,
   "id": "advance-provincial",
   "metadata": {},
   "outputs": [],
   "source": []
  }
 ],
 "metadata": {
  "kernelspec": {
   "display_name": "Python 3",
   "language": "python",
   "name": "python3"
  },
  "language_info": {
   "codemirror_mode": {
    "name": "ipython",
    "version": 3
   },
   "file_extension": ".py",
   "mimetype": "text/x-python",
   "name": "python",
   "nbconvert_exporter": "python",
   "pygments_lexer": "ipython3",
   "version": "3.8.5"
  }
 },
 "nbformat": 4,
 "nbformat_minor": 5
}
