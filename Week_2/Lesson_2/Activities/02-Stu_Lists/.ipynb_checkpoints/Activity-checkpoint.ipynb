{
 "cells": [
  {
   "cell_type": "code",
   "execution_count": 1,
   "id": "noble-mission",
   "metadata": {},
   "outputs": [
    {
     "data": {
      "text/plain": [
       "['Water', 'Butter', 'Eggs', 'Apples', 'Cinnamon', 'Sugar', 'Milk']"
      ]
     },
     "execution_count": 1,
     "metadata": {},
     "output_type": "execute_result"
    }
   ],
   "source": [
    "grocery_list = ['Water','Butter','Eggs','Apples','Cinnamon','Sugar','Milk']\n",
    "grocery_list"
   ]
  },
  {
   "cell_type": "code",
   "execution_count": 2,
   "id": "extended-theater",
   "metadata": {},
   "outputs": [
    {
     "data": {
      "text/plain": [
       "['Water', 'Butter']"
      ]
     },
     "execution_count": 2,
     "metadata": {},
     "output_type": "execute_result"
    }
   ],
   "source": [
    "grocery_list[0:2]"
   ]
  },
  {
   "cell_type": "code",
   "execution_count": 3,
   "id": "found-assault",
   "metadata": {},
   "outputs": [
    {
     "data": {
      "text/plain": [
       "['Eggs', 'Apples', 'Cinnamon', 'Sugar', 'Milk']"
      ]
     },
     "execution_count": 3,
     "metadata": {},
     "output_type": "execute_result"
    }
   ],
   "source": [
    "grocery_list[-5:]"
   ]
  },
  {
   "cell_type": "code",
   "execution_count": 4,
   "id": "capital-despite",
   "metadata": {},
   "outputs": [
    {
     "data": {
      "text/plain": [
       "['Butter', 'Apples', 'Sugar']"
      ]
     },
     "execution_count": 4,
     "metadata": {},
     "output_type": "execute_result"
    }
   ],
   "source": [
    "grocery_list[1::2]"
   ]
  },
  {
   "cell_type": "code",
   "execution_count": 5,
   "id": "ordered-shade",
   "metadata": {},
   "outputs": [],
   "source": [
    "grocery_list.append(\"Flour\")"
   ]
  },
  {
   "cell_type": "code",
   "execution_count": 7,
   "id": "round-inspector",
   "metadata": {},
   "outputs": [
    {
     "data": {
      "text/plain": [
       "['Water', 'Butter', 'Eggs', 'Apples', 'Cinnamon', 'Sugar', 'Milk', 'Flour']"
      ]
     },
     "execution_count": 7,
     "metadata": {},
     "output_type": "execute_result"
    }
   ],
   "source": [
    "grocery_list"
   ]
  },
  {
   "cell_type": "code",
   "execution_count": 8,
   "id": "mysterious-beach",
   "metadata": {},
   "outputs": [],
   "source": [
    "grocery_list[grocery_list.index(\"Apples\")] = \"Gala Apples\""
   ]
  },
  {
   "cell_type": "code",
   "execution_count": 9,
   "id": "obvious-crossing",
   "metadata": {},
   "outputs": [
    {
     "data": {
      "text/plain": [
       "['Water',\n",
       " 'Butter',\n",
       " 'Eggs',\n",
       " 'Gala Apples',\n",
       " 'Cinnamon',\n",
       " 'Sugar',\n",
       " 'Milk',\n",
       " 'Flour']"
      ]
     },
     "execution_count": 9,
     "metadata": {},
     "output_type": "execute_result"
    }
   ],
   "source": [
    "grocery_list"
   ]
  },
  {
   "cell_type": "code",
   "execution_count": 12,
   "id": "informational-humidity",
   "metadata": {},
   "outputs": [
    {
     "data": {
      "text/plain": [
       "8"
      ]
     },
     "execution_count": 12,
     "metadata": {},
     "output_type": "execute_result"
    }
   ],
   "source": [
    "len(grocery_list)"
   ]
  },
  {
   "cell_type": "code",
   "execution_count": 13,
   "id": "wooden-madrid",
   "metadata": {},
   "outputs": [],
   "source": [
    "##Challenge Section"
   ]
  },
  {
   "cell_type": "code",
   "execution_count": 15,
   "id": "numerical-howard",
   "metadata": {},
   "outputs": [
    {
     "data": {
      "text/plain": [
       "3"
      ]
     },
     "execution_count": 15,
     "metadata": {},
     "output_type": "execute_result"
    }
   ],
   "source": [
    "grocery_list.index(\"Gala Apples\")"
   ]
  },
  {
   "cell_type": "code",
   "execution_count": 16,
   "id": "narrow-exception",
   "metadata": {},
   "outputs": [],
   "source": [
    "grocery_list.remove(\"Sugar\")"
   ]
  },
  {
   "cell_type": "code",
   "execution_count": 17,
   "id": "damaged-river",
   "metadata": {},
   "outputs": [
    {
     "data": {
      "text/plain": [
       "['Water', 'Butter', 'Eggs', 'Gala Apples', 'Cinnamon', 'Milk', 'Flour']"
      ]
     },
     "execution_count": 17,
     "metadata": {},
     "output_type": "execute_result"
    }
   ],
   "source": [
    "grocery_list"
   ]
  },
  {
   "cell_type": "code",
   "execution_count": 18,
   "id": "demonstrated-eight",
   "metadata": {},
   "outputs": [
    {
     "data": {
      "text/plain": [
       "'Water'"
      ]
     },
     "execution_count": 18,
     "metadata": {},
     "output_type": "execute_result"
    }
   ],
   "source": [
    "grocery_list.pop(0)"
   ]
  },
  {
   "cell_type": "code",
   "execution_count": 19,
   "id": "commercial-terry",
   "metadata": {},
   "outputs": [
    {
     "data": {
      "text/plain": [
       "['Butter', 'Eggs', 'Gala Apples', 'Cinnamon', 'Milk', 'Flour']"
      ]
     },
     "execution_count": 19,
     "metadata": {},
     "output_type": "execute_result"
    }
   ],
   "source": [
    "grocery_list"
   ]
  },
  {
   "cell_type": "code",
   "execution_count": 21,
   "id": "attended-cycling",
   "metadata": {},
   "outputs": [
    {
     "data": {
      "text/plain": [
       "'Flour'"
      ]
     },
     "execution_count": 21,
     "metadata": {},
     "output_type": "execute_result"
    }
   ],
   "source": [
    "grocery_list.pop(-1)"
   ]
  },
  {
   "cell_type": "code",
   "execution_count": 22,
   "id": "synthetic-homeless",
   "metadata": {},
   "outputs": [
    {
     "data": {
      "text/plain": [
       "['Butter', 'Eggs', 'Gala Apples', 'Cinnamon', 'Milk']"
      ]
     },
     "execution_count": 22,
     "metadata": {},
     "output_type": "execute_result"
    }
   ],
   "source": [
    "grocery_list"
   ]
  },
  {
   "cell_type": "code",
   "execution_count": null,
   "id": "biblical-mobile",
   "metadata": {},
   "outputs": [],
   "source": []
  }
 ],
 "metadata": {
  "kernelspec": {
   "display_name": "Python 3",
   "language": "python",
   "name": "python3"
  },
  "language_info": {
   "codemirror_mode": {
    "name": "ipython",
    "version": 3
   },
   "file_extension": ".py",
   "mimetype": "text/x-python",
   "name": "python",
   "nbconvert_exporter": "python",
   "pygments_lexer": "ipython3",
   "version": "3.8.5"
  }
 },
 "nbformat": 4,
 "nbformat_minor": 5
}
