{
 "cells": [
  {
   "cell_type": "code",
   "execution_count": 1,
   "id": "dying-plaza",
   "metadata": {},
   "outputs": [],
   "source": [
    "def present_value_calculation(future_value, discount_rate, compounding_periods, years):\n",
    "    present_value = future_value / ((1 + (discount_rate / compounding_periods)) ** (1 * years))\n",
    "    return(present_value)"
   ]
  },
  {
   "cell_type": "code",
   "execution_count": 2,
   "id": "incident-diagnosis",
   "metadata": {},
   "outputs": [],
   "source": [
    "price = 700\n",
    "future_value = 1000\n",
    "discount_rate = .1\n",
    "compounding_periods = 1\n",
    "years = 5"
   ]
  },
  {
   "cell_type": "code",
   "execution_count": 3,
   "id": "cloudy-melissa",
   "metadata": {},
   "outputs": [
    {
     "name": "stdout",
     "output_type": "stream",
     "text": [
      "620.9213230591549\n"
     ]
    }
   ],
   "source": [
    "present_value = present_value_calculation(future_value,discount_rate,compounding_periods,years)\n",
    "print(present_value)"
   ]
  },
  {
   "cell_type": "code",
   "execution_count": 6,
   "id": "baking-hunter",
   "metadata": {},
   "outputs": [
    {
     "name": "stdout",
     "output_type": "stream",
     "text": [
      "Dont buy it man, present value of 620.9213230591549 is less than bond price 700\n"
     ]
    }
   ],
   "source": [
    "if present_value < price:\n",
    "    print(f'Dont buy it man, present value of {present_value} is less than bond price {price}')\n",
    "elif price > present_value: \n",
    "    print (f'Buy it man, present value of {present_value} is more than bond price {price}')\n",
    "elif price == present_value:\n",
    "    print (f'Youre neutrual some up to you as persent value {present_value} = bond price {price}')"
   ]
  },
  {
   "cell_type": "code",
   "execution_count": null,
   "id": "forced-soundtrack",
   "metadata": {},
   "outputs": [],
   "source": []
  }
 ],
 "metadata": {
  "kernelspec": {
   "display_name": "Python 3",
   "language": "python",
   "name": "python3"
  },
  "language_info": {
   "codemirror_mode": {
    "name": "ipython",
    "version": 3
   },
   "file_extension": ".py",
   "mimetype": "text/x-python",
   "name": "python",
   "nbconvert_exporter": "python",
   "pygments_lexer": "ipython3",
   "version": "3.8.5"
  }
 },
 "nbformat": 4,
 "nbformat_minor": 5
}
