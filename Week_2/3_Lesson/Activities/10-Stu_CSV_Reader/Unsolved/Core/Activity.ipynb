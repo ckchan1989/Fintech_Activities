{
 "cells": [
  {
   "cell_type": "code",
   "execution_count": 1,
   "id": "literary-program",
   "metadata": {},
   "outputs": [],
   "source": [
    "from pathlib import Path\n",
    "import csv\n",
    "sales_data = Path('C:/Users/Chris Chan/Documents/MONASH_BOOTCAMP/Fintech_Activities/Week_2/3_Lesson/Activities/10-Stu_CSV_Reader/Resources/sales_correct.csv')\n",
    "\n",
    "records = []\n"
   ]
  },
  {
   "cell_type": "code",
   "execution_count": 2,
   "id": "verbal-calibration",
   "metadata": {},
   "outputs": [
    {
     "name": "stdout",
     "output_type": "stream",
     "text": [
      "['Name', 'Count', 'Revenue', 'Average']\n",
      "['Andrew', '9', '58', 6.44]\n",
      "['Phil', '8', '377', 47.12]\n",
      "['Madison', '5', '302', 60.4]\n",
      "['Sally', '1', '75', 75.0]\n",
      "['Tyler', '1', '334', 334.0]\n",
      "['Billy', '7', '146', 20.86]\n",
      "['Steve', '1', '178', 178.0]\n",
      "['Madison', '7', '313', 44.71]\n",
      "['Sarah', '8', '103', 12.88]\n",
      "['Tim', '5', '344', 68.8]\n",
      "['Andrew', '5', '349', 69.8]\n",
      "['Phil', '8', '61', 7.62]\n",
      "['Madison', '4', '196', 49.0]\n",
      "['Carl', '1', '374', 374.0]\n",
      "['Devon', '9', '220', 24.44]\n",
      "['Megan', '9', '321', 35.67]\n",
      "['Sarah', '7', '277', 39.57]\n",
      "['David', '2', '246', 123.0]\n",
      "['Sally', '9', '198', 22.0]\n",
      "['Tom', '5', '221', 44.2]\n",
      "['Andrew', '1', '191', 191.0]\n",
      "['Paul', '5', '399', 79.8]\n",
      "['Carl', '1', '300', 300.0]\n",
      "['Tim', '1', '345', 345.0]\n",
      "['Madison', '4', '202', 50.5]\n",
      "['John', '4', '305', 76.25]\n",
      "['Phil', '6', '249', 41.5]\n",
      "['Madison', '7', '113', 16.14]\n",
      "['Sally', '6', '256', 42.67]\n"
     ]
    }
   ],
   "source": [
    "with open(sales_data, 'r') as csvfile:\n",
    "    csvreader = csv.reader(csvfile, delimiter=',')\n",
    "    header = next(csvreader)\n",
    "\n",
    "    header.append('Average')\n",
    "    print(header)\n",
    "    records.append(header)\n",
    "\n",
    "    for row in csvreader:\n",
    "        name = row[0]\n",
    "        count = int(row[1])\n",
    "        revenue = int(row[2])\n",
    "        average = round(revenue / count,2)\n",
    "        row.append(average)\n",
    "        records.append(row)\n",
    "        print(row)"
   ]
  },
  {
   "cell_type": "code",
   "execution_count": 3,
   "id": "surgical-bennett",
   "metadata": {},
   "outputs": [
    {
     "data": {
      "text/plain": [
       "[['Name', 'Count', 'Revenue', 'Average'],\n",
       " ['Andrew', '9', '58', 6.44],\n",
       " ['Phil', '8', '377', 47.12],\n",
       " ['Madison', '5', '302', 60.4],\n",
       " ['Sally', '1', '75', 75.0],\n",
       " ['Tyler', '1', '334', 334.0],\n",
       " ['Billy', '7', '146', 20.86],\n",
       " ['Steve', '1', '178', 178.0],\n",
       " ['Madison', '7', '313', 44.71],\n",
       " ['Sarah', '8', '103', 12.88],\n",
       " ['Tim', '5', '344', 68.8],\n",
       " ['Andrew', '5', '349', 69.8],\n",
       " ['Phil', '8', '61', 7.62],\n",
       " ['Madison', '4', '196', 49.0],\n",
       " ['Carl', '1', '374', 374.0],\n",
       " ['Devon', '9', '220', 24.44],\n",
       " ['Megan', '9', '321', 35.67],\n",
       " ['Sarah', '7', '277', 39.57],\n",
       " ['David', '2', '246', 123.0],\n",
       " ['Sally', '9', '198', 22.0],\n",
       " ['Tom', '5', '221', 44.2],\n",
       " ['Andrew', '1', '191', 191.0],\n",
       " ['Paul', '5', '399', 79.8],\n",
       " ['Carl', '1', '300', 300.0],\n",
       " ['Tim', '1', '345', 345.0],\n",
       " ['Madison', '4', '202', 50.5],\n",
       " ['John', '4', '305', 76.25],\n",
       " ['Phil', '6', '249', 41.5],\n",
       " ['Madison', '7', '113', 16.14],\n",
       " ['Sally', '6', '256', 42.67]]"
      ]
     },
     "execution_count": 3,
     "metadata": {},
     "output_type": "execute_result"
    }
   ],
   "source": [
    "records"
   ]
  },
  {
   "cell_type": "code",
   "execution_count": 4,
   "id": "overall-links",
   "metadata": {},
   "outputs": [],
   "source": [
    "output_path = Path('C:/Users/Chris Chan/Documents/MONASH_BOOTCAMP/Fintech_Activities/Week_2/3_Lesson/Activities/10-Stu_CSV_Reader/Resources/output.csv')"
   ]
  },
  {
   "cell_type": "code",
   "execution_count": 7,
   "id": "premium-feeding",
   "metadata": {},
   "outputs": [],
   "source": [
    "with open(output_path, 'w', newline = '') as csvfile:\n",
    "    csvwriter = csv.writer(csvfile, delimiter=',')\n",
    "    for row in records:\n",
    "        csvwriter.writerow(row)\n"
   ]
  },
  {
   "cell_type": "code",
   "execution_count": null,
   "id": "lucky-appliance",
   "metadata": {},
   "outputs": [],
   "source": []
  }
 ],
 "metadata": {
  "kernelspec": {
   "display_name": "Python 3",
   "language": "python",
   "name": "python3"
  },
  "language_info": {
   "codemirror_mode": {
    "name": "ipython",
    "version": 3
   },
   "file_extension": ".py",
   "mimetype": "text/x-python",
   "name": "python",
   "nbconvert_exporter": "python",
   "pygments_lexer": "ipython3",
   "version": "3.8.5"
  }
 },
 "nbformat": 4,
 "nbformat_minor": 5
}
