{
 "cells": [
  {
   "cell_type": "markdown",
   "metadata": {},
   "source": [
    "# Time Series Basics"
   ]
  },
  {
   "cell_type": "code",
   "execution_count": 1,
   "metadata": {},
   "outputs": [],
   "source": [
    "import pandas as pd\n",
    "from pathlib import Path\n",
    "%matplotlib inline"
   ]
  },
  {
   "cell_type": "code",
   "execution_count": 2,
   "metadata": {},
   "outputs": [
    {
     "data": {
      "text/html": [
       "<div>\n",
       "<style scoped>\n",
       "    .dataframe tbody tr th:only-of-type {\n",
       "        vertical-align: middle;\n",
       "    }\n",
       "\n",
       "    .dataframe tbody tr th {\n",
       "        vertical-align: top;\n",
       "    }\n",
       "\n",
       "    .dataframe thead th {\n",
       "        text-align: right;\n",
       "    }\n",
       "</style>\n",
       "<table border=\"1\" class=\"dataframe\">\n",
       "  <thead>\n",
       "    <tr style=\"text-align: right;\">\n",
       "      <th></th>\n",
       "      <th>Open</th>\n",
       "      <th>High</th>\n",
       "      <th>Low</th>\n",
       "      <th>Close</th>\n",
       "      <th>Adj Close</th>\n",
       "      <th>Volume</th>\n",
       "    </tr>\n",
       "    <tr>\n",
       "      <th>Date</th>\n",
       "      <th></th>\n",
       "      <th></th>\n",
       "      <th></th>\n",
       "      <th></th>\n",
       "      <th></th>\n",
       "      <th></th>\n",
       "    </tr>\n",
       "  </thead>\n",
       "  <tbody>\n",
       "    <tr>\n",
       "      <th>2018-09-04</th>\n",
       "      <td>2026.500000</td>\n",
       "      <td>2050.500000</td>\n",
       "      <td>2013.000000</td>\n",
       "      <td>2039.510010</td>\n",
       "      <td>2039.510010</td>\n",
       "      <td>5721100</td>\n",
       "    </tr>\n",
       "    <tr>\n",
       "      <th>2018-09-05</th>\n",
       "      <td>2038.109985</td>\n",
       "      <td>2040.380005</td>\n",
       "      <td>1989.890015</td>\n",
       "      <td>1994.819946</td>\n",
       "      <td>1994.819946</td>\n",
       "      <td>8220600</td>\n",
       "    </tr>\n",
       "    <tr>\n",
       "      <th>2018-09-06</th>\n",
       "      <td>2006.510010</td>\n",
       "      <td>2007.500000</td>\n",
       "      <td>1935.209961</td>\n",
       "      <td>1958.310059</td>\n",
       "      <td>1958.310059</td>\n",
       "      <td>7488700</td>\n",
       "    </tr>\n",
       "    <tr>\n",
       "      <th>2018-09-07</th>\n",
       "      <td>1938.709961</td>\n",
       "      <td>1975.199951</td>\n",
       "      <td>1937.349976</td>\n",
       "      <td>1952.069946</td>\n",
       "      <td>1952.069946</td>\n",
       "      <td>4892600</td>\n",
       "    </tr>\n",
       "    <tr>\n",
       "      <th>2018-09-10</th>\n",
       "      <td>1971.000000</td>\n",
       "      <td>1973.040039</td>\n",
       "      <td>1931.520020</td>\n",
       "      <td>1939.010010</td>\n",
       "      <td>1939.010010</td>\n",
       "      <td>4544800</td>\n",
       "    </tr>\n",
       "  </tbody>\n",
       "</table>\n",
       "</div>"
      ],
      "text/plain": [
       "                   Open         High          Low        Close    Adj Close  \\\n",
       "Date                                                                          \n",
       "2018-09-04  2026.500000  2050.500000  2013.000000  2039.510010  2039.510010   \n",
       "2018-09-05  2038.109985  2040.380005  1989.890015  1994.819946  1994.819946   \n",
       "2018-09-06  2006.510010  2007.500000  1935.209961  1958.310059  1958.310059   \n",
       "2018-09-07  1938.709961  1975.199951  1937.349976  1952.069946  1952.069946   \n",
       "2018-09-10  1971.000000  1973.040039  1931.520020  1939.010010  1939.010010   \n",
       "\n",
       "             Volume  \n",
       "Date                 \n",
       "2018-09-04  5721100  \n",
       "2018-09-05  8220600  \n",
       "2018-09-06  7488700  \n",
       "2018-09-07  4892600  \n",
       "2018-09-10  4544800  "
      ]
     },
     "execution_count": 2,
     "metadata": {},
     "output_type": "execute_result"
    }
   ],
   "source": [
    "# Read the Amazon stock prices CSV file as a time series DataFrame \n",
    "# Be sure to set the `Date` column as the index\n",
    "df2 = pd.read_csv(\n",
    "    Path(\"../Resources/amazon.csv\"), parse_dates=True, index_col=\"Date\"\n",
    ")\n",
    "\n",
    "df2.head()"
   ]
  },
  {
   "cell_type": "markdown",
   "metadata": {},
   "source": [
    "### Slice Time Series Data"
   ]
  },
  {
   "cell_type": "code",
   "execution_count": 4,
   "metadata": {},
   "outputs": [
    {
     "data": {
      "text/html": [
       "<div>\n",
       "<style scoped>\n",
       "    .dataframe tbody tr th:only-of-type {\n",
       "        vertical-align: middle;\n",
       "    }\n",
       "\n",
       "    .dataframe tbody tr th {\n",
       "        vertical-align: top;\n",
       "    }\n",
       "\n",
       "    .dataframe thead th {\n",
       "        text-align: right;\n",
       "    }\n",
       "</style>\n",
       "<table border=\"1\" class=\"dataframe\">\n",
       "  <thead>\n",
       "    <tr style=\"text-align: right;\">\n",
       "      <th></th>\n",
       "      <th>Open</th>\n",
       "      <th>High</th>\n",
       "      <th>Low</th>\n",
       "      <th>Close</th>\n",
       "      <th>Adj Close</th>\n",
       "      <th>Volume</th>\n",
       "    </tr>\n",
       "    <tr>\n",
       "      <th>Date</th>\n",
       "      <th></th>\n",
       "      <th></th>\n",
       "      <th></th>\n",
       "      <th></th>\n",
       "      <th></th>\n",
       "      <th></th>\n",
       "    </tr>\n",
       "  </thead>\n",
       "  <tbody>\n",
       "    <tr>\n",
       "      <th>2018-09-04</th>\n",
       "      <td>2026.500000</td>\n",
       "      <td>2050.500000</td>\n",
       "      <td>2013.000000</td>\n",
       "      <td>2039.510010</td>\n",
       "      <td>2039.510010</td>\n",
       "      <td>5721100</td>\n",
       "    </tr>\n",
       "    <tr>\n",
       "      <th>2018-09-05</th>\n",
       "      <td>2038.109985</td>\n",
       "      <td>2040.380005</td>\n",
       "      <td>1989.890015</td>\n",
       "      <td>1994.819946</td>\n",
       "      <td>1994.819946</td>\n",
       "      <td>8220600</td>\n",
       "    </tr>\n",
       "    <tr>\n",
       "      <th>2018-09-06</th>\n",
       "      <td>2006.510010</td>\n",
       "      <td>2007.500000</td>\n",
       "      <td>1935.209961</td>\n",
       "      <td>1958.310059</td>\n",
       "      <td>1958.310059</td>\n",
       "      <td>7488700</td>\n",
       "    </tr>\n",
       "    <tr>\n",
       "      <th>2018-09-07</th>\n",
       "      <td>1938.709961</td>\n",
       "      <td>1975.199951</td>\n",
       "      <td>1937.349976</td>\n",
       "      <td>1952.069946</td>\n",
       "      <td>1952.069946</td>\n",
       "      <td>4892600</td>\n",
       "    </tr>\n",
       "    <tr>\n",
       "      <th>2018-09-10</th>\n",
       "      <td>1971.000000</td>\n",
       "      <td>1973.040039</td>\n",
       "      <td>1931.520020</td>\n",
       "      <td>1939.010010</td>\n",
       "      <td>1939.010010</td>\n",
       "      <td>4544800</td>\n",
       "    </tr>\n",
       "  </tbody>\n",
       "</table>\n",
       "</div>"
      ],
      "text/plain": [
       "                   Open         High          Low        Close    Adj Close  \\\n",
       "Date                                                                          \n",
       "2018-09-04  2026.500000  2050.500000  2013.000000  2039.510010  2039.510010   \n",
       "2018-09-05  2038.109985  2040.380005  1989.890015  1994.819946  1994.819946   \n",
       "2018-09-06  2006.510010  2007.500000  1935.209961  1958.310059  1958.310059   \n",
       "2018-09-07  1938.709961  1975.199951  1937.349976  1952.069946  1952.069946   \n",
       "2018-09-10  1971.000000  1973.040039  1931.520020  1939.010010  1939.010010   \n",
       "\n",
       "             Volume  \n",
       "Date                 \n",
       "2018-09-04  5721100  \n",
       "2018-09-05  8220600  \n",
       "2018-09-06  7488700  \n",
       "2018-09-07  4892600  \n",
       "2018-09-10  4544800  "
      ]
     },
     "execution_count": 4,
     "metadata": {},
     "output_type": "execute_result"
    }
   ],
   "source": [
    "# Select all rows from September 2018\n",
    "df2.loc['2018-09'].head()"
   ]
  },
  {
   "cell_type": "code",
   "execution_count": 9,
   "metadata": {},
   "outputs": [
    {
     "data": {
      "text/html": [
       "<div>\n",
       "<style scoped>\n",
       "    .dataframe tbody tr th:only-of-type {\n",
       "        vertical-align: middle;\n",
       "    }\n",
       "\n",
       "    .dataframe tbody tr th {\n",
       "        vertical-align: top;\n",
       "    }\n",
       "\n",
       "    .dataframe thead th {\n",
       "        text-align: right;\n",
       "    }\n",
       "</style>\n",
       "<table border=\"1\" class=\"dataframe\">\n",
       "  <thead>\n",
       "    <tr style=\"text-align: right;\">\n",
       "      <th></th>\n",
       "      <th>Open</th>\n",
       "      <th>High</th>\n",
       "      <th>Low</th>\n",
       "      <th>Close</th>\n",
       "      <th>Adj Close</th>\n",
       "      <th>Volume</th>\n",
       "    </tr>\n",
       "    <tr>\n",
       "      <th>Date</th>\n",
       "      <th></th>\n",
       "      <th></th>\n",
       "      <th></th>\n",
       "      <th></th>\n",
       "      <th></th>\n",
       "      <th></th>\n",
       "    </tr>\n",
       "  </thead>\n",
       "  <tbody>\n",
       "    <tr>\n",
       "      <th>2018-09-04</th>\n",
       "      <td>2026.500000</td>\n",
       "      <td>2050.500000</td>\n",
       "      <td>2013.000000</td>\n",
       "      <td>2039.510010</td>\n",
       "      <td>2039.510010</td>\n",
       "      <td>5721100</td>\n",
       "    </tr>\n",
       "    <tr>\n",
       "      <th>2018-09-05</th>\n",
       "      <td>2038.109985</td>\n",
       "      <td>2040.380005</td>\n",
       "      <td>1989.890015</td>\n",
       "      <td>1994.819946</td>\n",
       "      <td>1994.819946</td>\n",
       "      <td>8220600</td>\n",
       "    </tr>\n",
       "    <tr>\n",
       "      <th>2018-09-06</th>\n",
       "      <td>2006.510010</td>\n",
       "      <td>2007.500000</td>\n",
       "      <td>1935.209961</td>\n",
       "      <td>1958.310059</td>\n",
       "      <td>1958.310059</td>\n",
       "      <td>7488700</td>\n",
       "    </tr>\n",
       "    <tr>\n",
       "      <th>2018-09-07</th>\n",
       "      <td>1938.709961</td>\n",
       "      <td>1975.199951</td>\n",
       "      <td>1937.349976</td>\n",
       "      <td>1952.069946</td>\n",
       "      <td>1952.069946</td>\n",
       "      <td>4892600</td>\n",
       "    </tr>\n",
       "    <tr>\n",
       "      <th>2018-09-10</th>\n",
       "      <td>1971.000000</td>\n",
       "      <td>1973.040039</td>\n",
       "      <td>1931.520020</td>\n",
       "      <td>1939.010010</td>\n",
       "      <td>1939.010010</td>\n",
       "      <td>4544800</td>\n",
       "    </tr>\n",
       "  </tbody>\n",
       "</table>\n",
       "</div>"
      ],
      "text/plain": [
       "                   Open         High          Low        Close    Adj Close  \\\n",
       "Date                                                                          \n",
       "2018-09-04  2026.500000  2050.500000  2013.000000  2039.510010  2039.510010   \n",
       "2018-09-05  2038.109985  2040.380005  1989.890015  1994.819946  1994.819946   \n",
       "2018-09-06  2006.510010  2007.500000  1935.209961  1958.310059  1958.310059   \n",
       "2018-09-07  1938.709961  1975.199951  1937.349976  1952.069946  1952.069946   \n",
       "2018-09-10  1971.000000  1973.040039  1931.520020  1939.010010  1939.010010   \n",
       "\n",
       "             Volume  \n",
       "Date                 \n",
       "2018-09-04  5721100  \n",
       "2018-09-05  8220600  \n",
       "2018-09-06  7488700  \n",
       "2018-09-07  4892600  \n",
       "2018-09-10  4544800  "
      ]
     },
     "execution_count": 9,
     "metadata": {},
     "output_type": "execute_result"
    }
   ],
   "source": [
    "# Select all rows from September through October for 2018\n",
    "sep_oct_data = df2.loc['2018-09':'2018-10']\n",
    "sep_oct_data.head()"
   ]
  },
  {
   "cell_type": "markdown",
   "metadata": {},
   "source": [
    "### Plot Time Series Data"
   ]
  },
  {
   "cell_type": "code",
   "execution_count": 15,
   "metadata": {},
   "outputs": [
    {
     "data": {
      "text/plain": [
       "<AxesSubplot:xlabel='Date'>"
      ]
     },
     "execution_count": 15,
     "metadata": {},
     "output_type": "execute_result"
    },
    {
     "data": {
      "image/png": "[encoded data removed]",
      "text/plain": [
       "<Figure size 432x288 with 1 Axes>"
      ]
     },
     "metadata": {
      "needs_background": "light"
     },
     "output_type": "display_data"
    }
   ],
   "source": [
    "# Plot the closing prices using a line plot\n",
    "df2.Close.plot()"
   ]
  },
  {
   "cell_type": "markdown",
   "metadata": {},
   "source": [
    "### Resample Time Series Data"
   ]
  },
  {
   "cell_type": "code",
   "execution_count": 14,
   "metadata": {},
   "outputs": [
    {
     "data": {
      "text/plain": [
       "Date\n",
       "2018-09-09    1986.177490\n",
       "2018-09-16    1975.243994\n",
       "2018-09-23    1926.962036\n",
       "2018-09-30    1979.947998\n",
       "2018-10-07    1945.500024\n",
       "2018-10-14    1799.591992\n",
       "2018-10-21    1789.477978\n",
       "2018-10-28    1729.436011\n",
       "2018-11-04    1599.674023\n",
       "2018-11-11    1698.688037\n",
       "2018-11-18    1615.976001\n",
       "2018-11-25    1506.635010\n",
       "2018-12-02    1640.847998\n",
       "2018-12-09    1692.269989\n",
       "2018-12-16    1639.620019\n",
       "2018-12-23    1481.149975\n",
       "2018-12-30    1438.630005\n",
       "2019-01-06    1529.192505\n",
       "2019-01-13    1648.458008\n",
       "2019-01-20    1672.993994\n",
       "2019-01-27    1649.422516\n",
       "2019-02-03    1649.432007\n",
       "2019-02-10    1626.994019\n",
       "2019-02-17    1619.921997\n",
       "2019-02-24    1625.169983\n",
       "2019-03-03    1644.409985\n",
       "2019-03-10    1660.860010\n",
       "2019-03-17    1686.621997\n",
       "2019-03-24    1777.060010\n",
       "2019-03-31    1775.578003\n",
       "2019-04-07    1821.001977\n",
       "2019-04-14    1844.031982\n",
       "2019-04-21    1858.604980\n",
       "2019-04-28    1913.142017\n",
       "2019-05-05    1927.950000\n",
       "2019-05-12    1915.834009\n",
       "2019-05-19    1862.104004\n",
       "2019-05-26    1842.986011\n",
       "2019-06-02    1811.752472\n",
       "2019-06-09    1743.828003\n",
       "2019-06-16    1863.923999\n",
       "2019-06-23    1905.136011\n",
       "2019-06-30    1897.582007\n",
       "2019-07-07    1934.602509\n",
       "2019-07-14    1994.019995\n",
       "2019-07-21    1993.068017\n",
       "2019-07-28    1979.560010\n",
       "2019-08-04    1871.263989\n",
       "2019-08-11    1797.365991\n",
       "Freq: W-SUN, Name: Close, dtype: float64"
      ]
     },
     "execution_count": 14,
     "metadata": {},
     "output_type": "execute_result"
    }
   ],
   "source": [
    "# Resample the closing prices to weekly and take the mean\n",
    "weekly = df2['Close'].resample('W').mean()\n",
    "weekly"
   ]
  },
  {
   "cell_type": "code",
   "execution_count": 16,
   "metadata": {},
   "outputs": [
    {
     "data": {
      "text/plain": [
       "<AxesSubplot:xlabel='Date'>"
      ]
     },
     "execution_count": 16,
     "metadata": {},
     "output_type": "execute_result"
    },
    {
     "data": {
      "image/png": "[encoded data removed]",
      "text/plain": [
       "<Figure size 432x288 with 1 Axes>"
      ]
     },
     "metadata": {
      "needs_background": "light"
     },
     "output_type": "display_data"
    }
   ],
   "source": [
    "# Plot the weekly average closing prices as a line chart\n",
    "weekly.plot()"
   ]
  },
  {
   "cell_type": "markdown",
   "metadata": {},
   "source": [
    "# Optional Challenge"
   ]
  },
  {
   "cell_type": "code",
   "execution_count": 17,
   "metadata": {},
   "outputs": [
    {
     "data": {
      "text/plain": [
       "<AxesSubplot:xlabel='Date'>"
      ]
     },
     "execution_count": 17,
     "metadata": {},
     "output_type": "execute_result"
    },
    {
     "data": {
      "image/png": "[encoded data removed]",
      "text/plain": [
       "<Figure size 432x288 with 1 Axes>"
      ]
     },
     "metadata": {
      "needs_background": "light"
     },
     "output_type": "display_data"
    }
   ],
   "source": [
    "# Use resample to get the highest closing price per month\n",
    "high = df2['Close'].resample('M').max()\n",
    "\n",
    "# Create a bar chart of the result\n",
    "high.plot(kind='bar')"
   ]
  },
  {
   "cell_type": "code",
   "execution_count": null,
   "metadata": {},
   "outputs": [],
   "source": []
  }
 ],
 "metadata": {
  "kernelspec": {
   "display_name": "Python 3",
   "language": "python",
   "name": "python3"
  },
  "language_info": {
   "codemirror_mode": {
    "name": "ipython",
    "version": 3
   },
   "file_extension": ".py",
   "mimetype": "text/x-python",
   "name": "python",
   "nbconvert_exporter": "python",
   "pygments_lexer": "ipython3",
   "version": "3.8.5"
  }
 },
 "nbformat": 4,
 "nbformat_minor": 4
}
