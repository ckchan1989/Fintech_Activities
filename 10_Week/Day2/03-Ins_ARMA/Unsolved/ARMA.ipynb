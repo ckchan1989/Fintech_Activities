{
 "cells": [
  {
   "cell_type": "code",
   "execution_count": 1,
   "metadata": {},
   "outputs": [],
   "source": [
    "# Import libraries and dependencies\n",
    "import pandas as pd\n",
    "from pathlib import Path\n",
    "%matplotlib inline"
   ]
  },
  {
   "cell_type": "code",
   "execution_count": 2,
   "metadata": {},
   "outputs": [],
   "source": [
    "# Read CSV, parse dates, and set index\n",
    "csvpath = Path('../Resources/osptx.csv')\n",
    "df = pd.read_csv(csvpath, parse_dates=True, index_col='Date')"
   ]
  },
  {
   "cell_type": "code",
   "execution_count": 3,
   "metadata": {},
   "outputs": [
    {
     "data": {
      "text/html": [
       "<div>\n",
       "<style scoped>\n",
       "    .dataframe tbody tr th:only-of-type {\n",
       "        vertical-align: middle;\n",
       "    }\n",
       "\n",
       "    .dataframe tbody tr th {\n",
       "        vertical-align: top;\n",
       "    }\n",
       "\n",
       "    .dataframe thead th {\n",
       "        text-align: right;\n",
       "    }\n",
       "</style>\n",
       "<table border=\"1\" class=\"dataframe\">\n",
       "  <thead>\n",
       "    <tr style=\"text-align: right;\">\n",
       "      <th></th>\n",
       "      <th>Open</th>\n",
       "      <th>High</th>\n",
       "      <th>Low</th>\n",
       "      <th>Close</th>\n",
       "      <th>Volume</th>\n",
       "    </tr>\n",
       "    <tr>\n",
       "      <th>Date</th>\n",
       "      <th></th>\n",
       "      <th></th>\n",
       "      <th></th>\n",
       "      <th></th>\n",
       "      <th></th>\n",
       "    </tr>\n",
       "  </thead>\n",
       "  <tbody>\n",
       "    <tr>\n",
       "      <td>2012-01-03 16:00:00</td>\n",
       "      <td>12097.23</td>\n",
       "      <td>12216.76</td>\n",
       "      <td>11955.94</td>\n",
       "      <td>12208.43</td>\n",
       "      <td>162333312</td>\n",
       "    </tr>\n",
       "    <tr>\n",
       "      <td>2012-01-04 16:00:00</td>\n",
       "      <td>12189.71</td>\n",
       "      <td>12234.27</td>\n",
       "      <td>12154.04</td>\n",
       "      <td>12226.47</td>\n",
       "      <td>175575328</td>\n",
       "    </tr>\n",
       "    <tr>\n",
       "      <td>2012-01-05 16:00:00</td>\n",
       "      <td>12196.24</td>\n",
       "      <td>12253.13</td>\n",
       "      <td>12137.11</td>\n",
       "      <td>12237.40</td>\n",
       "      <td>161562816</td>\n",
       "    </tr>\n",
       "    <tr>\n",
       "      <td>2012-01-06 16:00:00</td>\n",
       "      <td>12241.82</td>\n",
       "      <td>12245.99</td>\n",
       "      <td>12148.31</td>\n",
       "      <td>12188.64</td>\n",
       "      <td>144785088</td>\n",
       "    </tr>\n",
       "    <tr>\n",
       "      <td>2012-01-09 16:00:00</td>\n",
       "      <td>12194.98</td>\n",
       "      <td>12210.58</td>\n",
       "      <td>12150.68</td>\n",
       "      <td>12196.72</td>\n",
       "      <td>149905296</td>\n",
       "    </tr>\n",
       "  </tbody>\n",
       "</table>\n",
       "</div>"
      ],
      "text/plain": [
       "                         Open      High       Low     Close     Volume\n",
       "Date                                                                  \n",
       "2012-01-03 16:00:00  12097.23  12216.76  11955.94  12208.43  162333312\n",
       "2012-01-04 16:00:00  12189.71  12234.27  12154.04  12226.47  175575328\n",
       "2012-01-05 16:00:00  12196.24  12253.13  12137.11  12237.40  161562816\n",
       "2012-01-06 16:00:00  12241.82  12245.99  12148.31  12188.64  144785088\n",
       "2012-01-09 16:00:00  12194.98  12210.58  12150.68  12196.72  149905296"
      ]
     },
     "execution_count": 3,
     "metadata": {},
     "output_type": "execute_result"
    }
   ],
   "source": [
    "# Display top rows\n",
    "df.head()"
   ]
  },
  {
   "cell_type": "code",
   "execution_count": 4,
   "metadata": {},
   "outputs": [
    {
     "data": {
      "text/plain": [
       "<matplotlib.axes._subplots.AxesSubplot at 0x123658d30>"
      ]
     },
     "execution_count": 4,
     "metadata": {},
     "output_type": "execute_result"
    },
    {
     "data": {
      "image/png": "[encoded data removed]",
      "text/plain": [
       "<Figure size 432x288 with 1 Axes>"
      ]
     },
     "metadata": {
      "needs_background": "light"
     },
     "output_type": "display_data"
    }
   ],
   "source": [
    "# The series is non-stationary (Trends upwards)\n",
    "df.Close.plot()"
   ]
  },
  {
   "cell_type": "code",
   "execution_count": 5,
   "metadata": {},
   "outputs": [
    {
     "data": {
      "text/html": [
       "<div>\n",
       "<style scoped>\n",
       "    .dataframe tbody tr th:only-of-type {\n",
       "        vertical-align: middle;\n",
       "    }\n",
       "\n",
       "    .dataframe tbody tr th {\n",
       "        vertical-align: top;\n",
       "    }\n",
       "\n",
       "    .dataframe thead th {\n",
       "        text-align: right;\n",
       "    }\n",
       "</style>\n",
       "<table border=\"1\" class=\"dataframe\">\n",
       "  <thead>\n",
       "    <tr style=\"text-align: right;\">\n",
       "      <th></th>\n",
       "      <th>Open</th>\n",
       "      <th>High</th>\n",
       "      <th>Low</th>\n",
       "      <th>Close</th>\n",
       "      <th>Volume</th>\n",
       "      <th>Return</th>\n",
       "    </tr>\n",
       "    <tr>\n",
       "      <th>Date</th>\n",
       "      <th></th>\n",
       "      <th></th>\n",
       "      <th></th>\n",
       "      <th></th>\n",
       "      <th></th>\n",
       "      <th></th>\n",
       "    </tr>\n",
       "  </thead>\n",
       "  <tbody>\n",
       "    <tr>\n",
       "      <td>2012-01-04 16:00:00</td>\n",
       "      <td>12189.71</td>\n",
       "      <td>12234.27</td>\n",
       "      <td>12154.04</td>\n",
       "      <td>12226.47</td>\n",
       "      <td>175575328</td>\n",
       "      <td>0.001478</td>\n",
       "    </tr>\n",
       "    <tr>\n",
       "      <td>2012-01-05 16:00:00</td>\n",
       "      <td>12196.24</td>\n",
       "      <td>12253.13</td>\n",
       "      <td>12137.11</td>\n",
       "      <td>12237.40</td>\n",
       "      <td>161562816</td>\n",
       "      <td>0.000894</td>\n",
       "    </tr>\n",
       "    <tr>\n",
       "      <td>2012-01-06 16:00:00</td>\n",
       "      <td>12241.82</td>\n",
       "      <td>12245.99</td>\n",
       "      <td>12148.31</td>\n",
       "      <td>12188.64</td>\n",
       "      <td>144785088</td>\n",
       "      <td>-0.003985</td>\n",
       "    </tr>\n",
       "    <tr>\n",
       "      <td>2012-01-09 16:00:00</td>\n",
       "      <td>12194.98</td>\n",
       "      <td>12210.58</td>\n",
       "      <td>12150.68</td>\n",
       "      <td>12196.72</td>\n",
       "      <td>149905296</td>\n",
       "      <td>0.000663</td>\n",
       "    </tr>\n",
       "    <tr>\n",
       "      <td>2012-01-10 16:00:00</td>\n",
       "      <td>12320.66</td>\n",
       "      <td>12346.82</td>\n",
       "      <td>12198.35</td>\n",
       "      <td>12270.66</td>\n",
       "      <td>188406224</td>\n",
       "      <td>0.006062</td>\n",
       "    </tr>\n",
       "  </tbody>\n",
       "</table>\n",
       "</div>"
      ],
      "text/plain": [
       "                         Open      High       Low     Close     Volume  \\\n",
       "Date                                                                     \n",
       "2012-01-04 16:00:00  12189.71  12234.27  12154.04  12226.47  175575328   \n",
       "2012-01-05 16:00:00  12196.24  12253.13  12137.11  12237.40  161562816   \n",
       "2012-01-06 16:00:00  12241.82  12245.99  12148.31  12188.64  144785088   \n",
       "2012-01-09 16:00:00  12194.98  12210.58  12150.68  12196.72  149905296   \n",
       "2012-01-10 16:00:00  12320.66  12346.82  12198.35  12270.66  188406224   \n",
       "\n",
       "                       Return  \n",
       "Date                           \n",
       "2012-01-04 16:00:00  0.001478  \n",
       "2012-01-05 16:00:00  0.000894  \n",
       "2012-01-06 16:00:00 -0.003985  \n",
       "2012-01-09 16:00:00  0.000663  \n",
       "2012-01-10 16:00:00  0.006062  "
      ]
     },
     "execution_count": 5,
     "metadata": {},
     "output_type": "execute_result"
    }
   ],
   "source": [
    "# Transform into a stationary process\n"
   ]
  },
  {
   "cell_type": "code",
   "execution_count": 6,
   "metadata": {},
   "outputs": [],
   "source": [
    "# Select only the returns\n"
   ]
  },
  {
   "cell_type": "code",
   "execution_count": 7,
   "metadata": {},
   "outputs": [
    {
     "data": {
      "text/plain": [
       "<matplotlib.axes._subplots.AxesSubplot at 0x11169e7f0>"
      ]
     },
     "execution_count": 7,
     "metadata": {},
     "output_type": "execute_result"
    },
    {
     "data": {
      "image/png": "[encoded data removed]",
      "text/plain": [
       "<Figure size 432x288 with 1 Axes>"
      ]
     },
     "metadata": {
      "needs_background": "light"
     },
     "output_type": "display_data"
    }
   ],
   "source": [
    "# Stationarity now seen\n"
   ]
  },
  {
   "cell_type": "markdown",
   "metadata": {},
   "source": [
    "# ARMA Model"
   ]
  },
  {
   "cell_type": "code",
   "execution_count": 8,
   "metadata": {},
   "outputs": [],
   "source": [
    "# Import the ARMA model\n",
    "from statsmodels.tsa.arima_model import ARMA"
   ]
  },
  {
   "cell_type": "code",
   "execution_count": 9,
   "metadata": {},
   "outputs": [],
   "source": [
    "# Create the ARMA model using the return values and the order\n",
    "# For the order parameter, the first 1 indicates the number of AR lags\n",
    "# For the order parameter, the second 1 indicates the number of MA lags\n"
   ]
  },
  {
   "cell_type": "code",
   "execution_count": 10,
   "metadata": {},
   "outputs": [],
   "source": [
    "# Fit the model to the data\n"
   ]
  },
  {
   "cell_type": "code",
   "execution_count": 11,
   "metadata": {},
   "outputs": [
    {
     "data": {
      "text/plain": [
       "<matplotlib.axes._subplots.AxesSubplot at 0x135f49668>"
      ]
     },
     "execution_count": 11,
     "metadata": {},
     "output_type": "execute_result"
    },
    {
     "data": {
      "image/png": "[encoded data removed]",
      "text/plain": [
       "<Figure size 432x288 with 1 Axes>"
      ]
     },
     "metadata": {
      "needs_background": "light"
     },
     "output_type": "display_data"
    }
   ],
   "source": [
    "# Plot the forecasted return for the next 10 days\n"
   ]
  },
  {
   "cell_type": "code",
   "execution_count": 12,
   "metadata": {},
   "outputs": [
    {
     "data": {
      "text/html": [
       "<table class=\"simpletable\">\n",
       "<caption>ARMA Model Results</caption>\n",
       "<tr>\n",
       "  <th>Dep. Variable:</th>         <td>y</td>        <th>  No. Observations:  </th>    <td>1880</td>   \n",
       "</tr>\n",
       "<tr>\n",
       "  <th>Model:</th>            <td>ARMA(1, 1)</td>    <th>  Log Likelihood     </th>  <td>6700.067</td> \n",
       "</tr>\n",
       "<tr>\n",
       "  <th>Method:</th>             <td>css-mle</td>     <th>  S.D. of innovations</th>    <td>0.007</td>  \n",
       "</tr>\n",
       "<tr>\n",
       "  <th>Date:</th>          <td>Thu, 09 Jul 2020</td> <th>  AIC                </th> <td>-13392.134</td>\n",
       "</tr>\n",
       "<tr>\n",
       "  <th>Time:</th>              <td>03:49:18</td>     <th>  BIC                </th> <td>-13369.978</td>\n",
       "</tr>\n",
       "<tr>\n",
       "  <th>Sample:</th>                <td>0</td>        <th>  HQIC               </th> <td>-13383.973</td>\n",
       "</tr>\n",
       "<tr>\n",
       "  <th></th>                       <td> </td>        <th>                     </th>      <td> </td>    \n",
       "</tr>\n",
       "</table>\n",
       "<table class=\"simpletable\">\n",
       "<tr>\n",
       "     <td></td>        <th>coef</th>     <th>std err</th>      <th>z</th>      <th>P>|z|</th>  <th>[0.025</th>    <th>0.975]</th>  \n",
       "</tr>\n",
       "<tr>\n",
       "  <th>const</th>   <td>    0.0002</td> <td>    0.000</td> <td>    1.064</td> <td> 0.288</td> <td>   -0.000</td> <td>    0.001</td>\n",
       "</tr>\n",
       "<tr>\n",
       "  <th>ar.L1.y</th> <td>   -0.1059</td> <td>    0.278</td> <td>   -0.381</td> <td> 0.703</td> <td>   -0.650</td> <td>    0.439</td>\n",
       "</tr>\n",
       "<tr>\n",
       "  <th>ma.L1.y</th> <td>    0.1861</td> <td>    0.275</td> <td>    0.678</td> <td> 0.498</td> <td>   -0.352</td> <td>    0.724</td>\n",
       "</tr>\n",
       "</table>\n",
       "<table class=\"simpletable\">\n",
       "<caption>Roots</caption>\n",
       "<tr>\n",
       "    <td></td>   <th>            Real</th>  <th>         Imaginary</th> <th>         Modulus</th>  <th>        Frequency</th>\n",
       "</tr>\n",
       "<tr>\n",
       "  <th>AR.1</th> <td>          -9.4402</td> <td>          +0.0000j</td> <td>           9.4402</td> <td>           0.5000</td>\n",
       "</tr>\n",
       "<tr>\n",
       "  <th>MA.1</th> <td>          -5.3737</td> <td>          +0.0000j</td> <td>           5.3737</td> <td>           0.5000</td>\n",
       "</tr>\n",
       "</table>"
      ],
      "text/plain": [
       "<class 'statsmodels.iolib.summary.Summary'>\n",
       "\"\"\"\n",
       "                              ARMA Model Results                              \n",
       "==============================================================================\n",
       "Dep. Variable:                      y   No. Observations:                 1880\n",
       "Model:                     ARMA(1, 1)   Log Likelihood                6700.067\n",
       "Method:                       css-mle   S.D. of innovations              0.007\n",
       "Date:                Thu, 09 Jul 2020   AIC                         -13392.134\n",
       "Time:                        03:49:18   BIC                         -13369.978\n",
       "Sample:                             0   HQIC                        -13383.973\n",
       "                                                                              \n",
       "==============================================================================\n",
       "                 coef    std err          z      P>|z|      [0.025      0.975]\n",
       "------------------------------------------------------------------------------\n",
       "const          0.0002      0.000      1.064      0.288      -0.000       0.001\n",
       "ar.L1.y       -0.1059      0.278     -0.381      0.703      -0.650       0.439\n",
       "ma.L1.y        0.1861      0.275      0.678      0.498      -0.352       0.724\n",
       "                                    Roots                                    \n",
       "=============================================================================\n",
       "                  Real          Imaginary           Modulus         Frequency\n",
       "-----------------------------------------------------------------------------\n",
       "AR.1           -9.4402           +0.0000j            9.4402            0.5000\n",
       "MA.1           -5.3737           +0.0000j            5.3737            0.5000\n",
       "-----------------------------------------------------------------------------\n",
       "\"\"\""
      ]
     },
     "execution_count": 12,
     "metadata": {},
     "output_type": "execute_result"
    }
   ],
   "source": [
    "# Summarize the model\n"
   ]
  }
 ],
 "metadata": {
  "kernelspec": {
   "display_name": "Python 3",
   "language": "python",
   "name": "python3"
  },
  "language_info": {
   "codemirror_mode": {
    "name": "ipython",
    "version": 3
   },
   "file_extension": ".py",
   "mimetype": "text/x-python",
   "name": "python",
   "nbconvert_exporter": "python",
   "pygments_lexer": "ipython3",
   "version": "3.7.3"
  }
 },
 "nbformat": 4,
 "nbformat_minor": 4
}
