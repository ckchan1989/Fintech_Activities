{
 "cells": [
  {
   "cell_type": "code",
   "execution_count": 1,
   "metadata": {},
   "outputs": [],
   "source": [
    "# Import libraries and dependencies\n",
    "import pandas as pd\n",
    "from pathlib import Path\n",
    "%matplotlib inline"
   ]
  },
  {
   "cell_type": "code",
   "execution_count": 2,
   "metadata": {},
   "outputs": [
    {
     "data": {
      "text/html": [
       "<div>\n",
       "<style scoped>\n",
       "    .dataframe tbody tr th:only-of-type {\n",
       "        vertical-align: middle;\n",
       "    }\n",
       "\n",
       "    .dataframe tbody tr th {\n",
       "        vertical-align: top;\n",
       "    }\n",
       "\n",
       "    .dataframe thead th {\n",
       "        text-align: right;\n",
       "    }\n",
       "</style>\n",
       "<table border=\"1\" class=\"dataframe\">\n",
       "  <thead>\n",
       "    <tr style=\"text-align: right;\">\n",
       "      <th></th>\n",
       "      <th>Open</th>\n",
       "      <th>High</th>\n",
       "      <th>Low</th>\n",
       "      <th>Last</th>\n",
       "      <th>Change</th>\n",
       "      <th>Settle</th>\n",
       "      <th>Volume</th>\n",
       "      <th>Previous Day Open Interest</th>\n",
       "    </tr>\n",
       "    <tr>\n",
       "      <th>Date</th>\n",
       "      <th></th>\n",
       "      <th></th>\n",
       "      <th></th>\n",
       "      <th></th>\n",
       "      <th></th>\n",
       "      <th></th>\n",
       "      <th></th>\n",
       "      <th></th>\n",
       "    </tr>\n",
       "  </thead>\n",
       "  <tbody>\n",
       "    <tr>\n",
       "      <th>2014-02-18</th>\n",
       "      <td>100.51</td>\n",
       "      <td>100.51</td>\n",
       "      <td>100.51</td>\n",
       "      <td>100.51</td>\n",
       "      <td>0.96</td>\n",
       "      <td>100.51</td>\n",
       "      <td>25.0</td>\n",
       "      <td>12833.0</td>\n",
       "    </tr>\n",
       "    <tr>\n",
       "      <th>2014-02-19</th>\n",
       "      <td>100.83</td>\n",
       "      <td>100.83</td>\n",
       "      <td>100.83</td>\n",
       "      <td>100.83</td>\n",
       "      <td>0.32</td>\n",
       "      <td>100.83</td>\n",
       "      <td>0.0</td>\n",
       "      <td>12833.0</td>\n",
       "    </tr>\n",
       "    <tr>\n",
       "      <th>2014-02-20</th>\n",
       "      <td>100.78</td>\n",
       "      <td>100.78</td>\n",
       "      <td>100.78</td>\n",
       "      <td>100.78</td>\n",
       "      <td>0.05</td>\n",
       "      <td>100.78</td>\n",
       "      <td>15.0</td>\n",
       "      <td>12833.0</td>\n",
       "    </tr>\n",
       "    <tr>\n",
       "      <th>2014-02-21</th>\n",
       "      <td>100.61</td>\n",
       "      <td>100.61</td>\n",
       "      <td>100.61</td>\n",
       "      <td>100.61</td>\n",
       "      <td>0.17</td>\n",
       "      <td>100.61</td>\n",
       "      <td>0.0</td>\n",
       "      <td>12833.0</td>\n",
       "    </tr>\n",
       "    <tr>\n",
       "      <th>2014-02-24</th>\n",
       "      <td>100.77</td>\n",
       "      <td>100.77</td>\n",
       "      <td>100.77</td>\n",
       "      <td>100.77</td>\n",
       "      <td>0.16</td>\n",
       "      <td>100.77</td>\n",
       "      <td>6.0</td>\n",
       "      <td>12833.0</td>\n",
       "    </tr>\n",
       "  </tbody>\n",
       "</table>\n",
       "</div>"
      ],
      "text/plain": [
       "              Open    High     Low    Last  Change  Settle  Volume  \\\n",
       "Date                                                                 \n",
       "2014-02-18  100.51  100.51  100.51  100.51    0.96  100.51    25.0   \n",
       "2014-02-19  100.83  100.83  100.83  100.83    0.32  100.83     0.0   \n",
       "2014-02-20  100.78  100.78  100.78  100.78    0.05  100.78    15.0   \n",
       "2014-02-21  100.61  100.61  100.61  100.61    0.17  100.61     0.0   \n",
       "2014-02-24  100.77  100.77  100.77  100.77    0.16  100.77     6.0   \n",
       "\n",
       "            Previous Day Open Interest  \n",
       "Date                                    \n",
       "2014-02-18                     12833.0  \n",
       "2014-02-19                     12833.0  \n",
       "2014-02-20                     12833.0  \n",
       "2014-02-21                     12833.0  \n",
       "2014-02-24                     12833.0  "
      ]
     },
     "execution_count": 2,
     "metadata": {},
     "output_type": "execute_result"
    }
   ],
   "source": [
    "# Read CSV, parse dates, and set index\n",
    "csvpath = Path('../Resources/oil_futures_front.csv')\n",
    "df = pd.read_csv(csvpath, parse_dates=True, index_col='Date')\n",
    "df.head()"
   ]
  },
  {
   "cell_type": "code",
   "execution_count": 3,
   "metadata": {},
   "outputs": [
    {
     "data": {
      "text/plain": [
       "<AxesSubplot:xlabel='Date'>"
      ]
     },
     "execution_count": 3,
     "metadata": {},
     "output_type": "execute_result"
    },
    {
     "data": {
      "image/png": "[encoded data removed]",
      "text/plain": [
       "<Figure size 432x288 with 1 Axes>"
      ]
     },
     "metadata": {
      "needs_background": "light"
     },
     "output_type": "display_data"
    }
   ],
   "source": [
    "# Plot settle data\n",
    "df.Settle.plot()"
   ]
  },
  {
   "cell_type": "code",
   "execution_count": 4,
   "metadata": {},
   "outputs": [
    {
     "data": {
      "text/plain": [
       "<AxesSubplot:xlabel='Date'>"
      ]
     },
     "execution_count": 4,
     "metadata": {},
     "output_type": "execute_result"
    },
    {
     "data": {
      "image/png": "[encoded data removed]",
      "text/plain": [
       "<Figure size 432x288 with 1 Axes>"
      ]
     },
     "metadata": {
      "needs_background": "light"
     },
     "output_type": "display_data"
    }
   ],
   "source": [
    "# Differencing the Settle price stationarizes the time series\n",
    "df.Settle.diff().plot()"
   ]
  },
  {
   "cell_type": "markdown",
   "metadata": {},
   "source": [
    "# Autocorrelation and Partial Autocorrelation Analysis"
   ]
  },
  {
   "cell_type": "code",
   "execution_count": 8,
   "metadata": {},
   "outputs": [
    {
     "data": {
      "image/png": "[encoded data removed]",
      "text/plain": [
       "<Figure size 432x288 with 1 Axes>"
      ]
     },
     "metadata": {
      "needs_background": "light"
     },
     "output_type": "display_data"
    }
   ],
   "source": [
    "# Plot the autocorrelation of the Settle Prices\n",
    "from statsmodels.graphics.tsaplots import plot_acf, plot_pacf\n",
    "plot_acf(df.Settle, lags=45);"
   ]
  },
  {
   "cell_type": "code",
   "execution_count": 9,
   "metadata": {},
   "outputs": [
    {
     "data": {
      "image/png": "[encoded data removed]",
      "text/plain": [
       "<Figure size 432x288 with 1 Axes>"
      ]
     },
     "metadata": {
      "needs_background": "light"
     },
     "output_type": "display_data"
    }
   ],
   "source": [
    "# Plot the partial autocorrelation of the returns\n",
    "plot_pacf(df.Settle, lags=45);"
   ]
  },
  {
   "cell_type": "markdown",
   "metadata": {},
   "source": [
    "# ARIMA Model"
   ]
  },
  {
   "cell_type": "code",
   "execution_count": 12,
   "metadata": {},
   "outputs": [
    {
     "name": "stderr",
     "output_type": "stream",
     "text": [
      "C:\\Users\\Chris Chan\\anaconda3\\lib\\site-packages\\statsmodels\\tsa\\arima_model.py:472: FutureWarning: \n",
      "statsmodels.tsa.arima_model.ARMA and statsmodels.tsa.arima_model.ARIMA have\n",
      "been deprecated in favor of statsmodels.tsa.arima.model.ARIMA (note the .\n",
      "between arima and model) and\n",
      "statsmodels.tsa.SARIMAX. These will be removed after the 0.12 release.\n",
      "\n",
      "statsmodels.tsa.arima.model.ARIMA makes use of the statespace framework and\n",
      "is both well tested and maintained.\n",
      "\n",
      "To silence this warning and continue using ARMA and ARIMA until they are\n",
      "removed, use:\n",
      "\n",
      "import warnings\n",
      "warnings.filterwarnings('ignore', 'statsmodels.tsa.arima_model.ARMA',\n",
      "                        FutureWarning)\n",
      "warnings.filterwarnings('ignore', 'statsmodels.tsa.arima_model.ARIMA',\n",
      "                        FutureWarning)\n",
      "\n",
      "  warnings.warn(ARIMA_DEPRECATION_WARN, FutureWarning)\n",
      "C:\\Users\\Chris Chan\\anaconda3\\lib\\site-packages\\statsmodels\\tsa\\base\\tsa_model.py:581: ValueWarning: A date index has been provided, but it has no associated frequency information and so will be ignored when e.g. forecasting.\n",
      "  warnings.warn('A date index has been provided, but it has no'\n",
      "C:\\Users\\Chris Chan\\anaconda3\\lib\\site-packages\\statsmodels\\tsa\\base\\tsa_model.py:581: ValueWarning: A date index has been provided, but it has no associated frequency information and so will be ignored when e.g. forecasting.\n",
      "  warnings.warn('A date index has been provided, but it has no'\n"
     ]
    }
   ],
   "source": [
    "# Create an ARIMA model\n",
    "from statsmodels.tsa.arima_model import ARIMA\n",
    "model = ARIMA(df.Settle, order=(2, 1, 2))\n",
    "#choose 2,1,2 over 2,1,4\n"
   ]
  },
  {
   "cell_type": "code",
   "execution_count": 13,
   "metadata": {},
   "outputs": [
    {
     "name": "stderr",
     "output_type": "stream",
     "text": [
      "C:\\Users\\Chris Chan\\anaconda3\\lib\\site-packages\\statsmodels\\tsa\\arima_model.py:472: FutureWarning: \n",
      "statsmodels.tsa.arima_model.ARMA and statsmodels.tsa.arima_model.ARIMA have\n",
      "been deprecated in favor of statsmodels.tsa.arima.model.ARIMA (note the .\n",
      "between arima and model) and\n",
      "statsmodels.tsa.SARIMAX. These will be removed after the 0.12 release.\n",
      "\n",
      "statsmodels.tsa.arima.model.ARIMA makes use of the statespace framework and\n",
      "is both well tested and maintained.\n",
      "\n",
      "To silence this warning and continue using ARMA and ARIMA until they are\n",
      "removed, use:\n",
      "\n",
      "import warnings\n",
      "warnings.filterwarnings('ignore', 'statsmodels.tsa.arima_model.ARMA',\n",
      "                        FutureWarning)\n",
      "warnings.filterwarnings('ignore', 'statsmodels.tsa.arima_model.ARIMA',\n",
      "                        FutureWarning)\n",
      "\n",
      "  warnings.warn(ARIMA_DEPRECATION_WARN, FutureWarning)\n"
     ]
    }
   ],
   "source": [
    "# Fit the model to the data\n",
    "result = model.fit()"
   ]
  },
  {
   "cell_type": "code",
   "execution_count": 14,
   "metadata": {},
   "outputs": [
    {
     "data": {
      "text/html": [
       "<table class=\"simpletable\">\n",
       "<caption>ARIMA Model Results</caption>\n",
       "<tr>\n",
       "  <th>Dep. Variable:</th>     <td>D.Settle</td>     <th>  No. Observations:  </th>   <td>1380</td>   \n",
       "</tr>\n",
       "<tr>\n",
       "  <th>Model:</th>          <td>ARIMA(2, 1, 2)</td>  <th>  Log Likelihood     </th> <td>-1939.034</td>\n",
       "</tr>\n",
       "<tr>\n",
       "  <th>Method:</th>             <td>css-mle</td>     <th>  S.D. of innovations</th>   <td>0.986</td>  \n",
       "</tr>\n",
       "<tr>\n",
       "  <th>Date:</th>          <td>Mon, 19 Apr 2021</td> <th>  AIC                </th> <td>3890.069</td> \n",
       "</tr>\n",
       "<tr>\n",
       "  <th>Time:</th>              <td>20:36:39</td>     <th>  BIC                </th> <td>3921.448</td> \n",
       "</tr>\n",
       "<tr>\n",
       "  <th>Sample:</th>                <td>1</td>        <th>  HQIC               </th> <td>3901.807</td> \n",
       "</tr>\n",
       "<tr>\n",
       "  <th></th>                       <td> </td>        <th>                     </th>     <td> </td>    \n",
       "</tr>\n",
       "</table>\n",
       "<table class=\"simpletable\">\n",
       "<tr>\n",
       "         <td></td>           <th>coef</th>     <th>std err</th>      <th>z</th>      <th>P>|z|</th>  <th>[0.025</th>    <th>0.975]</th>  \n",
       "</tr>\n",
       "<tr>\n",
       "  <th>const</th>          <td>   -0.0334</td> <td>    0.041</td> <td>   -0.816</td> <td> 0.414</td> <td>   -0.114</td> <td>    0.047</td>\n",
       "</tr>\n",
       "<tr>\n",
       "  <th>ar.L1.D.Settle</th> <td>    0.6970</td> <td>    0.222</td> <td>    3.134</td> <td> 0.002</td> <td>    0.261</td> <td>    1.133</td>\n",
       "</tr>\n",
       "<tr>\n",
       "  <th>ar.L2.D.Settle</th> <td>    0.2458</td> <td>    0.217</td> <td>    1.135</td> <td> 0.256</td> <td>   -0.179</td> <td>    0.670</td>\n",
       "</tr>\n",
       "<tr>\n",
       "  <th>ma.L1.D.Settle</th> <td>   -0.7825</td> <td>    0.227</td> <td>   -3.443</td> <td> 0.001</td> <td>   -1.228</td> <td>   -0.337</td>\n",
       "</tr>\n",
       "<tr>\n",
       "  <th>ma.L2.D.Settle</th> <td>   -0.1288</td> <td>    0.218</td> <td>   -0.590</td> <td> 0.555</td> <td>   -0.557</td> <td>    0.299</td>\n",
       "</tr>\n",
       "</table>\n",
       "<table class=\"simpletable\">\n",
       "<caption>Roots</caption>\n",
       "<tr>\n",
       "    <td></td>   <th>            Real</th>  <th>         Imaginary</th> <th>         Modulus</th>  <th>        Frequency</th>\n",
       "</tr>\n",
       "<tr>\n",
       "  <th>AR.1</th> <td>           1.0477</td> <td>          +0.0000j</td> <td>           1.0477</td> <td>           0.0000</td>\n",
       "</tr>\n",
       "<tr>\n",
       "  <th>AR.2</th> <td>          -3.8835</td> <td>          +0.0000j</td> <td>           3.8835</td> <td>           0.5000</td>\n",
       "</tr>\n",
       "<tr>\n",
       "  <th>MA.1</th> <td>           1.0844</td> <td>          +0.0000j</td> <td>           1.0844</td> <td>           0.0000</td>\n",
       "</tr>\n",
       "<tr>\n",
       "  <th>MA.2</th> <td>          -7.1581</td> <td>          +0.0000j</td> <td>           7.1581</td> <td>           0.5000</td>\n",
       "</tr>\n",
       "</table>"
      ],
      "text/plain": [
       "<class 'statsmodels.iolib.summary.Summary'>\n",
       "\"\"\"\n",
       "                             ARIMA Model Results                              \n",
       "==============================================================================\n",
       "Dep. Variable:               D.Settle   No. Observations:                 1380\n",
       "Model:                 ARIMA(2, 1, 2)   Log Likelihood               -1939.034\n",
       "Method:                       css-mle   S.D. of innovations              0.986\n",
       "Date:                Mon, 19 Apr 2021   AIC                           3890.069\n",
       "Time:                        20:36:39   BIC                           3921.448\n",
       "Sample:                             1   HQIC                          3901.807\n",
       "                                                                              \n",
       "==================================================================================\n",
       "                     coef    std err          z      P>|z|      [0.025      0.975]\n",
       "----------------------------------------------------------------------------------\n",
       "const             -0.0334      0.041     -0.816      0.414      -0.114       0.047\n",
       "ar.L1.D.Settle     0.6970      0.222      3.134      0.002       0.261       1.133\n",
       "ar.L2.D.Settle     0.2458      0.217      1.135      0.256      -0.179       0.670\n",
       "ma.L1.D.Settle    -0.7825      0.227     -3.443      0.001      -1.228      -0.337\n",
       "ma.L2.D.Settle    -0.1288      0.218     -0.590      0.555      -0.557       0.299\n",
       "                                    Roots                                    \n",
       "=============================================================================\n",
       "                  Real          Imaginary           Modulus         Frequency\n",
       "-----------------------------------------------------------------------------\n",
       "AR.1            1.0477           +0.0000j            1.0477            0.0000\n",
       "AR.2           -3.8835           +0.0000j            3.8835            0.5000\n",
       "MA.1            1.0844           +0.0000j            1.0844            0.0000\n",
       "MA.2           -7.1581           +0.0000j            7.1581            0.5000\n",
       "-----------------------------------------------------------------------------\n",
       "\"\"\""
      ]
     },
     "execution_count": 14,
     "metadata": {},
     "output_type": "execute_result"
    }
   ],
   "source": [
    "# Print the model summary\n",
    "result.summary()"
   ]
  },
  {
   "cell_type": "code",
   "execution_count": 16,
   "metadata": {},
   "outputs": [
    {
     "data": {
      "text/plain": [
       "<AxesSubplot:title={'center':'graph'}>"
      ]
     },
     "execution_count": 16,
     "metadata": {},
     "output_type": "execute_result"
    },
    {
     "data": {
      "image/png": "[encoded data removed]",
      "text/plain": [
       "<Figure size 432x288 with 1 Axes>"
      ]
     },
     "metadata": {
      "needs_background": "light"
     },
     "output_type": "display_data"
    }
   ],
   "source": [
    "# Plot the Futures Price Forecast\n",
    "pd.DataFrame(result.forecast(steps=3)[0]).plot(title=\"graph\")"
   ]
  },
  {
   "cell_type": "markdown",
   "metadata": {},
   "source": [
    "# ARIMA Model using a Lag of 2"
   ]
  },
  {
   "cell_type": "code",
   "execution_count": 19,
   "metadata": {},
   "outputs": [
    {
     "name": "stderr",
     "output_type": "stream",
     "text": [
      "C:\\Users\\Chris Chan\\anaconda3\\lib\\site-packages\\statsmodels\\tsa\\arima_model.py:472: FutureWarning: \n",
      "statsmodels.tsa.arima_model.ARMA and statsmodels.tsa.arima_model.ARIMA have\n",
      "been deprecated in favor of statsmodels.tsa.arima.model.ARIMA (note the .\n",
      "between arima and model) and\n",
      "statsmodels.tsa.SARIMAX. These will be removed after the 0.12 release.\n",
      "\n",
      "statsmodels.tsa.arima.model.ARIMA makes use of the statespace framework and\n",
      "is both well tested and maintained.\n",
      "\n",
      "To silence this warning and continue using ARMA and ARIMA until they are\n",
      "removed, use:\n",
      "\n",
      "import warnings\n",
      "warnings.filterwarnings('ignore', 'statsmodels.tsa.arima_model.ARMA',\n",
      "                        FutureWarning)\n",
      "warnings.filterwarnings('ignore', 'statsmodels.tsa.arima_model.ARIMA',\n",
      "                        FutureWarning)\n",
      "\n",
      "  warnings.warn(ARIMA_DEPRECATION_WARN, FutureWarning)\n",
      "C:\\Users\\Chris Chan\\anaconda3\\lib\\site-packages\\statsmodels\\tsa\\base\\tsa_model.py:581: ValueWarning: A date index has been provided, but it has no associated frequency information and so will be ignored when e.g. forecasting.\n",
      "  warnings.warn('A date index has been provided, but it has no'\n",
      "C:\\Users\\Chris Chan\\anaconda3\\lib\\site-packages\\statsmodels\\tsa\\base\\tsa_model.py:581: ValueWarning: A date index has been provided, but it has no associated frequency information and so will be ignored when e.g. forecasting.\n",
      "  warnings.warn('A date index has been provided, but it has no'\n",
      "C:\\Users\\Chris Chan\\anaconda3\\lib\\site-packages\\statsmodels\\tsa\\arima_model.py:472: FutureWarning: \n",
      "statsmodels.tsa.arima_model.ARMA and statsmodels.tsa.arima_model.ARIMA have\n",
      "been deprecated in favor of statsmodels.tsa.arima.model.ARIMA (note the .\n",
      "between arima and model) and\n",
      "statsmodels.tsa.SARIMAX. These will be removed after the 0.12 release.\n",
      "\n",
      "statsmodels.tsa.arima.model.ARIMA makes use of the statespace framework and\n",
      "is both well tested and maintained.\n",
      "\n",
      "To silence this warning and continue using ARMA and ARIMA until they are\n",
      "removed, use:\n",
      "\n",
      "import warnings\n",
      "warnings.filterwarnings('ignore', 'statsmodels.tsa.arima_model.ARMA',\n",
      "                        FutureWarning)\n",
      "warnings.filterwarnings('ignore', 'statsmodels.tsa.arima_model.ARIMA',\n",
      "                        FutureWarning)\n",
      "\n",
      "  warnings.warn(ARIMA_DEPRECATION_WARN, FutureWarning)\n"
     ]
    },
    {
     "data": {
      "text/html": [
       "<table class=\"simpletable\">\n",
       "<caption>ARIMA Model Results</caption>\n",
       "<tr>\n",
       "  <th>Dep. Variable:</th>     <td>D.Settle</td>     <th>  No. Observations:  </th>   <td>1380</td>   \n",
       "</tr>\n",
       "<tr>\n",
       "  <th>Model:</th>          <td>ARIMA(2, 1, 2)</td>  <th>  Log Likelihood     </th> <td>-1939.034</td>\n",
       "</tr>\n",
       "<tr>\n",
       "  <th>Method:</th>             <td>css-mle</td>     <th>  S.D. of innovations</th>   <td>0.986</td>  \n",
       "</tr>\n",
       "<tr>\n",
       "  <th>Date:</th>          <td>Mon, 19 Apr 2021</td> <th>  AIC                </th> <td>3890.069</td> \n",
       "</tr>\n",
       "<tr>\n",
       "  <th>Time:</th>              <td>20:38:31</td>     <th>  BIC                </th> <td>3921.448</td> \n",
       "</tr>\n",
       "<tr>\n",
       "  <th>Sample:</th>                <td>1</td>        <th>  HQIC               </th> <td>3901.807</td> \n",
       "</tr>\n",
       "<tr>\n",
       "  <th></th>                       <td> </td>        <th>                     </th>     <td> </td>    \n",
       "</tr>\n",
       "</table>\n",
       "<table class=\"simpletable\">\n",
       "<tr>\n",
       "         <td></td>           <th>coef</th>     <th>std err</th>      <th>z</th>      <th>P>|z|</th>  <th>[0.025</th>    <th>0.975]</th>  \n",
       "</tr>\n",
       "<tr>\n",
       "  <th>const</th>          <td>   -0.0334</td> <td>    0.041</td> <td>   -0.816</td> <td> 0.414</td> <td>   -0.114</td> <td>    0.047</td>\n",
       "</tr>\n",
       "<tr>\n",
       "  <th>ar.L1.D.Settle</th> <td>    0.6970</td> <td>    0.222</td> <td>    3.134</td> <td> 0.002</td> <td>    0.261</td> <td>    1.133</td>\n",
       "</tr>\n",
       "<tr>\n",
       "  <th>ar.L2.D.Settle</th> <td>    0.2458</td> <td>    0.217</td> <td>    1.135</td> <td> 0.256</td> <td>   -0.179</td> <td>    0.670</td>\n",
       "</tr>\n",
       "<tr>\n",
       "  <th>ma.L1.D.Settle</th> <td>   -0.7825</td> <td>    0.227</td> <td>   -3.443</td> <td> 0.001</td> <td>   -1.228</td> <td>   -0.337</td>\n",
       "</tr>\n",
       "<tr>\n",
       "  <th>ma.L2.D.Settle</th> <td>   -0.1288</td> <td>    0.218</td> <td>   -0.590</td> <td> 0.555</td> <td>   -0.557</td> <td>    0.299</td>\n",
       "</tr>\n",
       "</table>\n",
       "<table class=\"simpletable\">\n",
       "<caption>Roots</caption>\n",
       "<tr>\n",
       "    <td></td>   <th>            Real</th>  <th>         Imaginary</th> <th>         Modulus</th>  <th>        Frequency</th>\n",
       "</tr>\n",
       "<tr>\n",
       "  <th>AR.1</th> <td>           1.0477</td> <td>          +0.0000j</td> <td>           1.0477</td> <td>           0.0000</td>\n",
       "</tr>\n",
       "<tr>\n",
       "  <th>AR.2</th> <td>          -3.8835</td> <td>          +0.0000j</td> <td>           3.8835</td> <td>           0.5000</td>\n",
       "</tr>\n",
       "<tr>\n",
       "  <th>MA.1</th> <td>           1.0844</td> <td>          +0.0000j</td> <td>           1.0844</td> <td>           0.0000</td>\n",
       "</tr>\n",
       "<tr>\n",
       "  <th>MA.2</th> <td>          -7.1581</td> <td>          +0.0000j</td> <td>           7.1581</td> <td>           0.5000</td>\n",
       "</tr>\n",
       "</table>"
      ],
      "text/plain": [
       "<class 'statsmodels.iolib.summary.Summary'>\n",
       "\"\"\"\n",
       "                             ARIMA Model Results                              \n",
       "==============================================================================\n",
       "Dep. Variable:               D.Settle   No. Observations:                 1380\n",
       "Model:                 ARIMA(2, 1, 2)   Log Likelihood               -1939.034\n",
       "Method:                       css-mle   S.D. of innovations              0.986\n",
       "Date:                Mon, 19 Apr 2021   AIC                           3890.069\n",
       "Time:                        20:38:31   BIC                           3921.448\n",
       "Sample:                             1   HQIC                          3901.807\n",
       "                                                                              \n",
       "==================================================================================\n",
       "                     coef    std err          z      P>|z|      [0.025      0.975]\n",
       "----------------------------------------------------------------------------------\n",
       "const             -0.0334      0.041     -0.816      0.414      -0.114       0.047\n",
       "ar.L1.D.Settle     0.6970      0.222      3.134      0.002       0.261       1.133\n",
       "ar.L2.D.Settle     0.2458      0.217      1.135      0.256      -0.179       0.670\n",
       "ma.L1.D.Settle    -0.7825      0.227     -3.443      0.001      -1.228      -0.337\n",
       "ma.L2.D.Settle    -0.1288      0.218     -0.590      0.555      -0.557       0.299\n",
       "                                    Roots                                    \n",
       "=============================================================================\n",
       "                  Real          Imaginary           Modulus         Frequency\n",
       "-----------------------------------------------------------------------------\n",
       "AR.1            1.0477           +0.0000j            1.0477            0.0000\n",
       "AR.2           -3.8835           +0.0000j            3.8835            0.5000\n",
       "MA.1            1.0844           +0.0000j            1.0844            0.0000\n",
       "MA.2           -7.1581           +0.0000j            7.1581            0.5000\n",
       "-----------------------------------------------------------------------------\n",
       "\"\"\""
      ]
     },
     "execution_count": 19,
     "metadata": {},
     "output_type": "execute_result"
    }
   ],
   "source": [
    "# Create an ARIMA Model and fit it to the data\n",
    "model2 = ARIMA(df.Settle, order=(2, 1, ))\n",
    "result2 = model2.fit()\n",
    "result2.summary()"
   ]
  },
  {
   "cell_type": "code",
   "execution_count": 28,
   "metadata": {},
   "outputs": [
    {
     "data": {
      "text/plain": [
       "<AxesSubplot:title={'center':'graph'}>"
      ]
     },
     "execution_count": 28,
     "metadata": {},
     "output_type": "execute_result"
    },
    {
     "data": {
      "image/png": "[encoded data removed]",
      "text/plain": [
       "<Figure size 432x288 with 1 Axes>"
      ]
     },
     "metadata": {
      "needs_background": "light"
     },
     "output_type": "display_data"
    }
   ],
   "source": [
    "# Plot the Futures Price Forecast\n",
    "pd.DataFrame(result2.forecast(steps=10)[0]).plot(title=\"graph\")"
   ]
  },
  {
   "cell_type": "code",
   "execution_count": null,
   "metadata": {},
   "outputs": [],
   "source": []
  }
 ],
 "metadata": {
  "kernelspec": {
   "display_name": "Python 3",
   "language": "python",
   "name": "python3"
  },
  "language_info": {
   "codemirror_mode": {
    "name": "ipython",
    "version": 3
   },
   "file_extension": ".py",
   "mimetype": "text/x-python",
   "name": "python",
   "nbconvert_exporter": "python",
   "pygments_lexer": "ipython3",
   "version": "3.8.5"
  }
 },
 "nbformat": 4,
 "nbformat_minor": 4
}
