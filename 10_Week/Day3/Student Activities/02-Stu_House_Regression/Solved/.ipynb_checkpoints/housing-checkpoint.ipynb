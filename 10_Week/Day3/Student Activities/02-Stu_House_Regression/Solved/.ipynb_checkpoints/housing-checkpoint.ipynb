{
 "cells": [
  {
   "cell_type": "markdown",
   "metadata": {},
   "source": [
    "# House Regression"
   ]
  },
  {
   "cell_type": "code",
   "execution_count": 12,
   "metadata": {},
   "outputs": [],
   "source": [
    "# Import libraries and dependencies\n",
    "import pandas as pd\n",
    "import numpy as np\n",
    "from pathlib import Path\n",
    "import matplotlib.pyplot as plt"
   ]
  },
  {
   "cell_type": "markdown",
   "metadata": {},
   "source": [
    "### Read in Data"
   ]
  },
  {
   "cell_type": "code",
   "execution_count": 13,
   "metadata": {},
   "outputs": [
    {
     "data": {
      "text/html": [
       "<div>\n",
       "<style scoped>\n",
       "    .dataframe tbody tr th:only-of-type {\n",
       "        vertical-align: middle;\n",
       "    }\n",
       "\n",
       "    .dataframe tbody tr th {\n",
       "        vertical-align: top;\n",
       "    }\n",
       "\n",
       "    .dataframe thead th {\n",
       "        text-align: right;\n",
       "    }\n",
       "</style>\n",
       "<table border=\"1\" class=\"dataframe\">\n",
       "  <thead>\n",
       "    <tr style=\"text-align: right;\">\n",
       "      <th></th>\n",
       "      <th>household_income</th>\n",
       "      <th>house_age</th>\n",
       "      <th>num_bedrooms</th>\n",
       "      <th>num_bathrooms</th>\n",
       "      <th>num_floors</th>\n",
       "      <th>sale_price</th>\n",
       "    </tr>\n",
       "    <tr>\n",
       "      <th>total_sq_ft</th>\n",
       "      <th></th>\n",
       "      <th></th>\n",
       "      <th></th>\n",
       "      <th></th>\n",
       "      <th></th>\n",
       "      <th></th>\n",
       "    </tr>\n",
       "  </thead>\n",
       "  <tbody>\n",
       "    <tr>\n",
       "      <th>505</th>\n",
       "      <td>181976</td>\n",
       "      <td>25</td>\n",
       "      <td>5</td>\n",
       "      <td>2</td>\n",
       "      <td>2</td>\n",
       "      <td>122644</td>\n",
       "    </tr>\n",
       "    <tr>\n",
       "      <th>506</th>\n",
       "      <td>286106</td>\n",
       "      <td>11</td>\n",
       "      <td>4</td>\n",
       "      <td>2</td>\n",
       "      <td>1</td>\n",
       "      <td>163981</td>\n",
       "    </tr>\n",
       "  </tbody>\n",
       "</table>\n",
       "</div>"
      ],
      "text/plain": [
       "             household_income  house_age  num_bedrooms  num_bathrooms  \\\n",
       "total_sq_ft                                                             \n",
       "505                    181976         25             5              2   \n",
       "506                    286106         11             4              2   \n",
       "\n",
       "             num_floors  sale_price  \n",
       "total_sq_ft                          \n",
       "505                   2      122644  \n",
       "506                   1      163981  "
      ]
     },
     "execution_count": 13,
     "metadata": {},
     "output_type": "execute_result"
    }
   ],
   "source": [
    "# Read CSV, set index, and sort index\n",
    "df = (\n",
    "    pd.read_csv(Path(\"../Resources/CA_Housing.csv\"))\n",
    "    .set_index(\"total_sq_ft\")\n",
    "    .sort_index()\n",
    ")\n",
    "df.head(2)"
   ]
  },
  {
   "cell_type": "markdown",
   "metadata": {},
   "source": [
    "### Plot the Data"
   ]
  },
  {
   "cell_type": "code",
   "execution_count": 3,
   "metadata": {},
   "outputs": [
    {
     "data": {
      "text/plain": [
       "<matplotlib.collections.PathCollection at 0x7fa2d1766cd0>"
      ]
     },
     "execution_count": 3,
     "metadata": {},
     "output_type": "execute_result"
    },
    {
     "data": {
      "image/png": "[encoded data removed]",
      "text/plain": [
       "<Figure size 432x288 with 1 Axes>"
      ]
     },
     "metadata": {
      "needs_background": "light"
     },
     "output_type": "display_data"
    }
   ],
   "source": [
    "# Create a scatter plot of the data\n",
    "plt.scatter(df.index, df.sale_price)"
   ]
  },
  {
   "cell_type": "markdown",
   "metadata": {},
   "source": [
    "## Create a SciKitLearn Linear Regression Model"
   ]
  },
  {
   "cell_type": "code",
   "execution_count": 4,
   "metadata": {},
   "outputs": [
    {
     "data": {
      "text/plain": [
       "LinearRegression()"
      ]
     },
     "execution_count": 4,
     "metadata": {},
     "output_type": "execute_result"
    }
   ],
   "source": [
    "# Create a Linear Regression Model using sklearn\n",
    "from sklearn.linear_model import LinearRegression\n",
    "model = LinearRegression()\n",
    "model"
   ]
  },
  {
   "cell_type": "markdown",
   "metadata": {},
   "source": [
    "## Fit the Model to the Data"
   ]
  },
  {
   "cell_type": "code",
   "execution_count": 5,
   "metadata": {},
   "outputs": [],
   "source": [
    "# Separate the data into the X and y components\n",
    "# In this case, y will be the `Price` and X will be the index\n",
    "X = df.index.values.reshape(-1,1)\n",
    "y = df['sale_price']"
   ]
  },
  {
   "cell_type": "code",
   "execution_count": 19,
   "metadata": {},
   "outputs": [
    {
     "data": {
      "text/plain": [
       "((199, 1), (199,))"
      ]
     },
     "execution_count": 19,
     "metadata": {},
     "output_type": "execute_result"
    }
   ],
   "source": [
    "X.shape, y.shape"
   ]
  },
  {
   "cell_type": "code",
   "execution_count": 6,
   "metadata": {},
   "outputs": [
    {
     "data": {
      "text/plain": [
       "LinearRegression()"
      ]
     },
     "execution_count": 6,
     "metadata": {},
     "output_type": "execute_result"
    }
   ],
   "source": [
    "# Fit the model to the data\n",
    "model.fit(X, y)"
   ]
  },
  {
   "cell_type": "markdown",
   "metadata": {},
   "source": [
    "## Make Predictions"
   ]
  },
  {
   "cell_type": "code",
   "execution_count": 7,
   "metadata": {},
   "outputs": [
    {
     "data": {
      "text/plain": [
       "array([149791.84857632, 149935.17038058, 150651.77940187, 153374.8936828 ,\n",
       "       153948.18089983, 155094.75533391, 155238.07713817, 156527.9733765 ,\n",
       "       157101.26059354, 157674.54781057, 157961.19141909, 159251.08765742,\n",
       "       159824.37487446, 160684.30570001, 161114.27111279, 161544.23652557,\n",
       "       163550.7417852 , 164124.02900224, 164553.99441501, 164553.99441501,\n",
       "       166130.53426186, 167850.39591297, 167850.39591297, 168423.68313001,\n",
       "       168853.64854279, 169426.93575982, 169713.57936834, 169856.9011726 ,\n",
       "       170860.15380242, 171003.47560668, 172293.37184501, 174013.23349612,\n",
       "       174873.16432167, 175446.45153871, 176019.73875575, 177596.2786026 ,\n",
       "       177882.92221112, 179029.49664519, 179746.10566649, 180032.749275  ,\n",
       "       181465.9673176 , 182039.25453463, 182612.54175167, 183902.43799   ,\n",
       "       183902.43799   , 184619.0470113 , 185335.65603259, 185478.97783685,\n",
       "       185765.62144537, 186768.87407519, 187055.5176837 , 187055.5176837 ,\n",
       "       187915.44850926, 187915.44850926, 188345.41392204, 188488.7357263 ,\n",
       "       188488.7357263 , 190495.24098592, 191498.49361574, 194938.21691796,\n",
       "       195798.14774351, 197374.68759037, 198234.61841592, 198521.26202444,\n",
       "       198664.5838287 , 198664.5838287 , 198807.90563296, 199094.54924148,\n",
       "       200097.80187129, 200814.41089259, 201101.0545011 , 202104.30713092,\n",
       "       205544.03043314, 206260.63945443, 206977.24847573, 207120.57027999,\n",
       "       207693.85749703, 207693.85749703, 208123.8229098 , 208840.4319311 ,\n",
       "       209413.71914814, 210846.93719073, 213283.40786313, 214000.01688443,\n",
       "       216006.52214406, 216436.48755684, 217009.77477387, 217296.41838239,\n",
       "       217583.06199091, 217726.38379517, 218013.02740369, 218586.31462072,\n",
       "       219876.21085906, 220879.46348887, 220879.46348887, 221022.78529313,\n",
       "       221596.07251017, 221882.71611869, 221882.71611869, 222312.68153146,\n",
       "       222599.32513998, 222742.64694424, 223172.61235702, 224462.50859535,\n",
       "       224462.50859535, 224749.15220387, 225322.43942091, 226182.37024646,\n",
       "       226182.37024646, 227758.91009331, 227902.23189757, 228332.19731035,\n",
       "       229335.44994016, 229622.09354868, 230338.70256998, 230482.02437424,\n",
       "       230625.3461785 , 231055.31159127, 231055.31159127, 231341.95519979,\n",
       "       232058.56422109, 232488.52963387, 233491.78226368, 234925.00030627,\n",
       "       235784.93113183, 235784.93113183, 235928.25293609, 237504.79278294,\n",
       "       238364.72360849, 239367.97623831, 239511.29804257, 240084.5852596 ,\n",
       "       240944.51608516, 241374.48149793, 241804.44691071, 242091.09051923,\n",
       "       242377.73412775, 243094.34314905, 243237.6649533 , 244097.59577886,\n",
       "       246247.42284275, 247393.99727682, 247393.99727682, 248110.60629812,\n",
       "       248110.60629812, 248110.60629812, 249257.18073219, 249400.50253645,\n",
       "       250260.433362  , 250403.75516626, 250547.07697052, 251407.00779608,\n",
       "       252983.54764293, 253843.47846848, 254846.7310983 , 255133.37470682,\n",
       "       257139.87996645, 257426.52357496, 257713.16718348, 257856.48898774,\n",
       "       258859.74161756, 259146.38522607, 260292.95966015, 261152.8904857 ,\n",
       "       261726.17770274, 263016.07394107, 263589.36115811, 265595.86641774,\n",
       "       265882.51002626, 266025.83183051, 266455.79724329, 266742.44085181,\n",
       "       267172.40626459, 267459.04987311, 267745.69348162, 268318.98069866,\n",
       "       268892.2679157 , 269035.58971996, 270468.80776255, 270755.45137107,\n",
       "       271328.7385881 , 271902.02580514, 273048.60023921, 275341.74910736,\n",
       "       277491.57617125, 277634.89797551, 278064.86338829, 282221.1957118 ,\n",
       "       282507.83932032, 282651.16112458, 283511.09195013, 284944.30999273,\n",
       "       285947.56262254, 286090.8844268 , 287810.74607791, 291107.14757587,\n",
       "       292110.40020569, 292253.72200994, 292397.0438142 ])"
      ]
     },
     "execution_count": 7,
     "metadata": {},
     "output_type": "execute_result"
    }
   ],
   "source": [
    "# Make predictions using the X data\n",
    "predicted_y_values = model.predict(X)\n",
    "predicted_y_values"
   ]
  },
  {
   "cell_type": "code",
   "execution_count": 8,
   "metadata": {},
   "outputs": [
    {
     "data": {
      "text/plain": [
       "[<matplotlib.lines.Line2D at 0x7fa2d34ca950>]"
      ]
     },
     "execution_count": 8,
     "metadata": {},
     "output_type": "execute_result"
    },
    {
     "data": {
      "image/png": "[encoded data removed]",
      "text/plain": [
       "<Figure size 432x288 with 1 Axes>"
      ]
     },
     "metadata": {
      "needs_background": "light"
     },
     "output_type": "display_data"
    }
   ],
   "source": [
    "# Plot X and y as a scatter plot\n",
    "# Plot X and the predictions as a red line plot\n",
    "plt.scatter(X, y)\n",
    "plt.plot(X, predicted_y_values, color='red')"
   ]
  },
  {
   "cell_type": "markdown",
   "metadata": {},
   "source": [
    "### Extract the coef, intercept, and calculate the score of the model"
   ]
  },
  {
   "cell_type": "code",
   "execution_count": 9,
   "metadata": {},
   "outputs": [
    {
     "data": {
      "text/plain": [
       "array([143.32180426])"
      ]
     },
     "execution_count": 9,
     "metadata": {},
     "output_type": "execute_result"
    }
   ],
   "source": [
    "# Display the coefficient\n",
    "model.coef_"
   ]
  },
  {
   "cell_type": "code",
   "execution_count": 10,
   "metadata": {},
   "outputs": [
    {
     "data": {
      "text/plain": [
       "77414.33742542914"
      ]
     },
     "execution_count": 10,
     "metadata": {},
     "output_type": "execute_result"
    }
   ],
   "source": [
    "# Display the intercept\n",
    "model.intercept_"
   ]
  },
  {
   "cell_type": "code",
   "execution_count": 11,
   "metadata": {},
   "outputs": [
    {
     "data": {
      "text/plain": [
       "0.42007443076822404"
      ]
     },
     "execution_count": 11,
     "metadata": {},
     "output_type": "execute_result"
    }
   ],
   "source": [
    "# R2 value\n",
    "model.score(X, y, sample_weight=None)"
   ]
  },
  {
   "cell_type": "code",
   "execution_count": 14,
   "metadata": {},
   "outputs": [],
   "source": [
    "# Relevant metrics - score, r2, mse, rmse, std\n",
    "from sklearn.metrics import mean_squared_error, r2_score\n",
    "import numpy as np\n",
    "\n",
    "score = model.score(X, y, sample_weight=None)\n",
    "r2 = r2_score(y, predicted_y_values)\n",
    "mse = mean_squared_error(y, predicted_y_values)\n",
    "rmse = np.sqrt(mse)\n",
    "std = np.std(y)"
   ]
  },
  {
   "cell_type": "code",
   "execution_count": 15,
   "metadata": {},
   "outputs": [
    {
     "data": {
      "text/plain": [
       "45429.742776749044"
      ]
     },
     "execution_count": 15,
     "metadata": {},
     "output_type": "execute_result"
    }
   ],
   "source": [
    "rmse"
   ]
  },
  {
   "cell_type": "code",
   "execution_count": 17,
   "metadata": {},
   "outputs": [
    {
     "data": {
      "text/plain": [
       "90859.48555349809"
      ]
     },
     "execution_count": 17,
     "metadata": {},
     "output_type": "execute_result"
    }
   ],
   "source": [
    "rmse*2"
   ]
  },
  {
   "cell_type": "code",
   "execution_count": null,
   "metadata": {},
   "outputs": [],
   "source": []
  }
 ],
 "metadata": {
  "kernelspec": {
   "display_name": "Python 3",
   "language": "python",
   "name": "python3"
  },
  "language_info": {
   "codemirror_mode": {
    "name": "ipython",
    "version": 3
   },
   "file_extension": ".py",
   "mimetype": "text/x-python",
   "name": "python",
   "nbconvert_exporter": "python",
   "pygments_lexer": "ipython3",
   "version": "3.7.9"
  }
 },
 "nbformat": 4,
 "nbformat_minor": 4
}
