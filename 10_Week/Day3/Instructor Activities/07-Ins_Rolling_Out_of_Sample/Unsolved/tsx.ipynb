{
 "cells": [
  {
   "cell_type": "code",
   "execution_count": 1,
   "metadata": {},
   "outputs": [],
   "source": [
    "# Import libraries and dependencies\n",
    "import pandas as pd\n",
    "import numpy as np\n",
    "from sklearn.linear_model import LinearRegression\n",
    "from pathlib import Path\n",
    "%matplotlib inline"
   ]
  },
  {
   "cell_type": "code",
   "execution_count": 2,
   "metadata": {},
   "outputs": [],
   "source": [
    "# Read CSV, parse dates, set index\n",
    "csvpath = Path('../Resources/OSPTX.csv')\n",
    "df = pd.read_csv(csvpath, parse_dates=True, index_col='Date')"
   ]
  },
  {
   "cell_type": "code",
   "execution_count": 3,
   "metadata": {},
   "outputs": [
    {
     "data": {
      "text/html": [
       "<div>\n",
       "<style scoped>\n",
       "    .dataframe tbody tr th:only-of-type {\n",
       "        vertical-align: middle;\n",
       "    }\n",
       "\n",
       "    .dataframe tbody tr th {\n",
       "        vertical-align: top;\n",
       "    }\n",
       "\n",
       "    .dataframe thead th {\n",
       "        text-align: right;\n",
       "    }\n",
       "</style>\n",
       "<table border=\"1\" class=\"dataframe\">\n",
       "  <thead>\n",
       "    <tr style=\"text-align: right;\">\n",
       "      <th></th>\n",
       "      <th>Open</th>\n",
       "      <th>High</th>\n",
       "      <th>Low</th>\n",
       "      <th>Close</th>\n",
       "      <th>Volume</th>\n",
       "      <th>Return</th>\n",
       "      <th>Lagged_Return</th>\n",
       "    </tr>\n",
       "    <tr>\n",
       "      <th>Date</th>\n",
       "      <th></th>\n",
       "      <th></th>\n",
       "      <th></th>\n",
       "      <th></th>\n",
       "      <th></th>\n",
       "      <th></th>\n",
       "      <th></th>\n",
       "    </tr>\n",
       "  </thead>\n",
       "  <tbody>\n",
       "    <tr>\n",
       "      <td>2006-10-10 16:00:00</td>\n",
       "      <td>11716.64</td>\n",
       "      <td>11757.75</td>\n",
       "      <td>11690.89</td>\n",
       "      <td>11755.15</td>\n",
       "      <td>180168080</td>\n",
       "      <td>0.549659</td>\n",
       "      <td>-0.503064</td>\n",
       "    </tr>\n",
       "    <tr>\n",
       "      <td>2006-10-11 16:00:00</td>\n",
       "      <td>11782.40</td>\n",
       "      <td>11784.43</td>\n",
       "      <td>11619.14</td>\n",
       "      <td>11619.14</td>\n",
       "      <td>250893136</td>\n",
       "      <td>-1.157025</td>\n",
       "      <td>0.549659</td>\n",
       "    </tr>\n",
       "    <tr>\n",
       "      <td>2006-10-12 16:00:00</td>\n",
       "      <td>11667.42</td>\n",
       "      <td>11719.09</td>\n",
       "      <td>11619.14</td>\n",
       "      <td>11719.09</td>\n",
       "      <td>194297872</td>\n",
       "      <td>0.860219</td>\n",
       "      <td>-1.157025</td>\n",
       "    </tr>\n",
       "    <tr>\n",
       "      <td>2006-10-13 16:00:00</td>\n",
       "      <td>11754.61</td>\n",
       "      <td>11908.57</td>\n",
       "      <td>11719.09</td>\n",
       "      <td>11908.57</td>\n",
       "      <td>223986016</td>\n",
       "      <td>1.616849</td>\n",
       "      <td>0.860219</td>\n",
       "    </tr>\n",
       "    <tr>\n",
       "      <td>2006-10-16 16:00:00</td>\n",
       "      <td>11947.41</td>\n",
       "      <td>12072.26</td>\n",
       "      <td>11908.57</td>\n",
       "      <td>12061.54</td>\n",
       "      <td>196978528</td>\n",
       "      <td>1.284537</td>\n",
       "      <td>1.616849</td>\n",
       "    </tr>\n",
       "  </tbody>\n",
       "</table>\n",
       "</div>"
      ],
      "text/plain": [
       "                         Open      High       Low     Close     Volume  \\\n",
       "Date                                                                     \n",
       "2006-10-10 16:00:00  11716.64  11757.75  11690.89  11755.15  180168080   \n",
       "2006-10-11 16:00:00  11782.40  11784.43  11619.14  11619.14  250893136   \n",
       "2006-10-12 16:00:00  11667.42  11719.09  11619.14  11719.09  194297872   \n",
       "2006-10-13 16:00:00  11754.61  11908.57  11719.09  11908.57  223986016   \n",
       "2006-10-16 16:00:00  11947.41  12072.26  11908.57  12061.54  196978528   \n",
       "\n",
       "                       Return  Lagged_Return  \n",
       "Date                                          \n",
       "2006-10-10 16:00:00  0.549659      -0.503064  \n",
       "2006-10-11 16:00:00 -1.157025       0.549659  \n",
       "2006-10-12 16:00:00  0.860219      -1.157025  \n",
       "2006-10-13 16:00:00  1.616849       0.860219  \n",
       "2006-10-16 16:00:00  1.284537       1.616849  "
      ]
     },
     "execution_count": 3,
     "metadata": {},
     "output_type": "execute_result"
    }
   ],
   "source": [
    "# Calculate return and lagged return\n",
    "df['Return'] = df.Close.pct_change() * 100\n",
    "df['Lagged_Return'] = df.Return.shift()\n",
    "df = df.dropna()\n",
    "df.head()"
   ]
  },
  {
   "cell_type": "code",
   "execution_count": 4,
   "metadata": {},
   "outputs": [
    {
     "data": {
      "text/plain": [
       "PeriodIndex(['2006-10-09/2006-10-15', '2006-10-09/2006-10-15',\n",
       "             '2006-10-09/2006-10-15', '2006-10-09/2006-10-15',\n",
       "             '2006-10-16/2006-10-22', '2006-10-16/2006-10-22',\n",
       "             '2006-10-16/2006-10-22', '2006-10-16/2006-10-22',\n",
       "             '2006-10-16/2006-10-22', '2006-10-23/2006-10-29',\n",
       "             ...\n",
       "             '2020-05-18/2020-05-24', '2020-05-18/2020-05-24',\n",
       "             '2020-05-18/2020-05-24', '2020-05-18/2020-05-24',\n",
       "             '2020-05-25/2020-05-31', '2020-05-25/2020-05-31',\n",
       "             '2020-05-25/2020-05-31', '2020-05-25/2020-05-31',\n",
       "             '2020-05-25/2020-05-31', '2020-06-01/2020-06-07'],\n",
       "            dtype='period[W-SUN]', name='Date', length=3416, freq='W-SUN')"
      ]
     },
     "execution_count": 4,
     "metadata": {},
     "output_type": "execute_result"
    }
   ],
   "source": [
    "# to_period(\"w\") splits the series into weekly increments\n"
   ]
  },
  {
   "cell_type": "code",
   "execution_count": 5,
   "metadata": {},
   "outputs": [
    {
     "data": {
      "text/plain": [
       "PeriodIndex(['2006-10-09/2006-10-15', '2006-10-16/2006-10-22',\n",
       "             '2006-10-23/2006-10-29', '2006-10-30/2006-11-05',\n",
       "             '2006-11-06/2006-11-12', '2006-11-13/2006-11-19',\n",
       "             '2006-11-20/2006-11-26', '2006-11-27/2006-12-03',\n",
       "             '2006-12-04/2006-12-10', '2006-12-11/2006-12-17',\n",
       "             ...\n",
       "             '2020-03-30/2020-04-05', '2020-04-06/2020-04-12',\n",
       "             '2020-04-13/2020-04-19', '2020-04-20/2020-04-26',\n",
       "             '2020-04-27/2020-05-03', '2020-05-04/2020-05-10',\n",
       "             '2020-05-11/2020-05-17', '2020-05-18/2020-05-24',\n",
       "             '2020-05-25/2020-05-31', '2020-06-01/2020-06-07'],\n",
       "            dtype='period[W-SUN]', name='Date', length=713, freq='W-SUN')"
      ]
     },
     "execution_count": 5,
     "metadata": {},
     "output_type": "execute_result"
    }
   ],
   "source": [
    "# construct a list of all Pandas weekly periods that are in the dataset:\n"
   ]
  },
  {
   "cell_type": "markdown",
   "metadata": {},
   "source": [
    "# Time Calculations\n",
    "\n",
    "The following example shows the calculations for the first training period and the first testing period"
   ]
  },
  {
   "cell_type": "code",
   "execution_count": 6,
   "metadata": {},
   "outputs": [],
   "source": [
    "# Training Window (26 weeks)\n"
   ]
  },
  {
   "cell_type": "code",
   "execution_count": 7,
   "metadata": {},
   "outputs": [
    {
     "data": {
      "text/plain": [
       "'2006-10-09'"
      ]
     },
     "execution_count": 7,
     "metadata": {},
     "output_type": "execute_result"
    }
   ],
   "source": [
    "# Beginning of training window\n"
   ]
  },
  {
   "cell_type": "code",
   "execution_count": 8,
   "metadata": {},
   "outputs": [
    {
     "data": {
      "text/plain": [
       "'2007-04-15'"
      ]
     },
     "execution_count": 8,
     "metadata": {},
     "output_type": "execute_result"
    }
   ],
   "source": [
    "# End of training window\n"
   ]
  },
  {
   "cell_type": "code",
   "execution_count": 9,
   "metadata": {},
   "outputs": [
    {
     "data": {
      "text/plain": [
       "Period('2007-04-16/2007-04-22', 'W-SUN')"
      ]
     },
     "execution_count": 9,
     "metadata": {},
     "output_type": "execute_result"
    }
   ],
   "source": [
    "# The week of the first test window\n"
   ]
  },
  {
   "cell_type": "code",
   "execution_count": 10,
   "metadata": {},
   "outputs": [
    {
     "data": {
      "text/plain": [
       "'2007-04-16'"
      ]
     },
     "execution_count": 10,
     "metadata": {},
     "output_type": "execute_result"
    }
   ],
   "source": [
    "# The first day of the test week\n"
   ]
  },
  {
   "cell_type": "code",
   "execution_count": 11,
   "metadata": {},
   "outputs": [
    {
     "data": {
      "text/plain": [
       "'2007-04-22'"
      ]
     },
     "execution_count": 11,
     "metadata": {},
     "output_type": "execute_result"
    }
   ],
   "source": [
    "# The last day of the test week\n"
   ]
  },
  {
   "cell_type": "code",
   "execution_count": 12,
   "metadata": {},
   "outputs": [
    {
     "data": {
      "text/html": [
       "<div>\n",
       "<style scoped>\n",
       "    .dataframe tbody tr th:only-of-type {\n",
       "        vertical-align: middle;\n",
       "    }\n",
       "\n",
       "    .dataframe tbody tr th {\n",
       "        vertical-align: top;\n",
       "    }\n",
       "\n",
       "    .dataframe thead th {\n",
       "        text-align: right;\n",
       "    }\n",
       "</style>\n",
       "<table border=\"1\" class=\"dataframe\">\n",
       "  <thead>\n",
       "    <tr style=\"text-align: right;\">\n",
       "      <th></th>\n",
       "      <th>Open</th>\n",
       "      <th>High</th>\n",
       "      <th>Low</th>\n",
       "      <th>Close</th>\n",
       "      <th>Volume</th>\n",
       "      <th>Return</th>\n",
       "      <th>Lagged_Return</th>\n",
       "    </tr>\n",
       "    <tr>\n",
       "      <th>Date</th>\n",
       "      <th></th>\n",
       "      <th></th>\n",
       "      <th></th>\n",
       "      <th></th>\n",
       "      <th></th>\n",
       "      <th></th>\n",
       "      <th></th>\n",
       "    </tr>\n",
       "  </thead>\n",
       "  <tbody>\n",
       "    <tr>\n",
       "      <td>2006-10-10 16:00:00</td>\n",
       "      <td>11716.64</td>\n",
       "      <td>11757.75</td>\n",
       "      <td>11690.89</td>\n",
       "      <td>11755.15</td>\n",
       "      <td>180168080</td>\n",
       "      <td>0.549659</td>\n",
       "      <td>-0.503064</td>\n",
       "    </tr>\n",
       "    <tr>\n",
       "      <td>2006-10-11 16:00:00</td>\n",
       "      <td>11782.40</td>\n",
       "      <td>11784.43</td>\n",
       "      <td>11619.14</td>\n",
       "      <td>11619.14</td>\n",
       "      <td>250893136</td>\n",
       "      <td>-1.157025</td>\n",
       "      <td>0.549659</td>\n",
       "    </tr>\n",
       "    <tr>\n",
       "      <td>2006-10-12 16:00:00</td>\n",
       "      <td>11667.42</td>\n",
       "      <td>11719.09</td>\n",
       "      <td>11619.14</td>\n",
       "      <td>11719.09</td>\n",
       "      <td>194297872</td>\n",
       "      <td>0.860219</td>\n",
       "      <td>-1.157025</td>\n",
       "    </tr>\n",
       "    <tr>\n",
       "      <td>2006-10-13 16:00:00</td>\n",
       "      <td>11754.61</td>\n",
       "      <td>11908.57</td>\n",
       "      <td>11719.09</td>\n",
       "      <td>11908.57</td>\n",
       "      <td>223986016</td>\n",
       "      <td>1.616849</td>\n",
       "      <td>0.860219</td>\n",
       "    </tr>\n",
       "    <tr>\n",
       "      <td>2006-10-16 16:00:00</td>\n",
       "      <td>11947.41</td>\n",
       "      <td>12072.26</td>\n",
       "      <td>11908.57</td>\n",
       "      <td>12061.54</td>\n",
       "      <td>196978528</td>\n",
       "      <td>1.284537</td>\n",
       "      <td>1.616849</td>\n",
       "    </tr>\n",
       "    <tr>\n",
       "      <td>...</td>\n",
       "      <td>...</td>\n",
       "      <td>...</td>\n",
       "      <td>...</td>\n",
       "      <td>...</td>\n",
       "      <td>...</td>\n",
       "      <td>...</td>\n",
       "      <td>...</td>\n",
       "    </tr>\n",
       "    <tr>\n",
       "      <td>2007-04-09 16:00:00</td>\n",
       "      <td>13459.40</td>\n",
       "      <td>13519.09</td>\n",
       "      <td>13425.02</td>\n",
       "      <td>13482.33</td>\n",
       "      <td>132136864</td>\n",
       "      <td>0.426889</td>\n",
       "      <td>-0.173182</td>\n",
       "    </tr>\n",
       "    <tr>\n",
       "      <td>2007-04-10 16:00:00</td>\n",
       "      <td>13518.43</td>\n",
       "      <td>13518.43</td>\n",
       "      <td>13429.05</td>\n",
       "      <td>13431.30</td>\n",
       "      <td>225567856</td>\n",
       "      <td>-0.378495</td>\n",
       "      <td>0.426889</td>\n",
       "    </tr>\n",
       "    <tr>\n",
       "      <td>2007-04-11 16:00:00</td>\n",
       "      <td>13447.72</td>\n",
       "      <td>13474.57</td>\n",
       "      <td>13398.21</td>\n",
       "      <td>13400.99</td>\n",
       "      <td>241546144</td>\n",
       "      <td>-0.225667</td>\n",
       "      <td>-0.378495</td>\n",
       "    </tr>\n",
       "    <tr>\n",
       "      <td>2007-04-12 16:00:00</td>\n",
       "      <td>13396.54</td>\n",
       "      <td>13502.41</td>\n",
       "      <td>13359.03</td>\n",
       "      <td>13499.65</td>\n",
       "      <td>197813344</td>\n",
       "      <td>0.736214</td>\n",
       "      <td>-0.225667</td>\n",
       "    </tr>\n",
       "    <tr>\n",
       "      <td>2007-04-13 16:00:00</td>\n",
       "      <td>13509.69</td>\n",
       "      <td>13581.27</td>\n",
       "      <td>13491.87</td>\n",
       "      <td>13578.62</td>\n",
       "      <td>203283936</td>\n",
       "      <td>0.584978</td>\n",
       "      <td>0.736214</td>\n",
       "    </tr>\n",
       "  </tbody>\n",
       "</table>\n",
       "<p>130 rows × 7 columns</p>\n",
       "</div>"
      ],
      "text/plain": [
       "                         Open      High       Low     Close     Volume  \\\n",
       "Date                                                                     \n",
       "2006-10-10 16:00:00  11716.64  11757.75  11690.89  11755.15  180168080   \n",
       "2006-10-11 16:00:00  11782.40  11784.43  11619.14  11619.14  250893136   \n",
       "2006-10-12 16:00:00  11667.42  11719.09  11619.14  11719.09  194297872   \n",
       "2006-10-13 16:00:00  11754.61  11908.57  11719.09  11908.57  223986016   \n",
       "2006-10-16 16:00:00  11947.41  12072.26  11908.57  12061.54  196978528   \n",
       "...                       ...       ...       ...       ...        ...   \n",
       "2007-04-09 16:00:00  13459.40  13519.09  13425.02  13482.33  132136864   \n",
       "2007-04-10 16:00:00  13518.43  13518.43  13429.05  13431.30  225567856   \n",
       "2007-04-11 16:00:00  13447.72  13474.57  13398.21  13400.99  241546144   \n",
       "2007-04-12 16:00:00  13396.54  13502.41  13359.03  13499.65  197813344   \n",
       "2007-04-13 16:00:00  13509.69  13581.27  13491.87  13578.62  203283936   \n",
       "\n",
       "                       Return  Lagged_Return  \n",
       "Date                                          \n",
       "2006-10-10 16:00:00  0.549659      -0.503064  \n",
       "2006-10-11 16:00:00 -1.157025       0.549659  \n",
       "2006-10-12 16:00:00  0.860219      -1.157025  \n",
       "2006-10-13 16:00:00  1.616849       0.860219  \n",
       "2006-10-16 16:00:00  1.284537       1.616849  \n",
       "...                       ...            ...  \n",
       "2007-04-09 16:00:00  0.426889      -0.173182  \n",
       "2007-04-10 16:00:00 -0.378495       0.426889  \n",
       "2007-04-11 16:00:00 -0.225667      -0.378495  \n",
       "2007-04-12 16:00:00  0.736214      -0.225667  \n",
       "2007-04-13 16:00:00  0.584978       0.736214  \n",
       "\n",
       "[130 rows x 7 columns]"
      ]
     },
     "execution_count": 12,
     "metadata": {},
     "output_type": "execute_result"
    }
   ],
   "source": [
    "# Training data with just one window\n"
   ]
  },
  {
   "cell_type": "code",
   "execution_count": 13,
   "metadata": {},
   "outputs": [
    {
     "data": {
      "text/html": [
       "<div>\n",
       "<style scoped>\n",
       "    .dataframe tbody tr th:only-of-type {\n",
       "        vertical-align: middle;\n",
       "    }\n",
       "\n",
       "    .dataframe tbody tr th {\n",
       "        vertical-align: top;\n",
       "    }\n",
       "\n",
       "    .dataframe thead th {\n",
       "        text-align: right;\n",
       "    }\n",
       "</style>\n",
       "<table border=\"1\" class=\"dataframe\">\n",
       "  <thead>\n",
       "    <tr style=\"text-align: right;\">\n",
       "      <th></th>\n",
       "      <th>Open</th>\n",
       "      <th>High</th>\n",
       "      <th>Low</th>\n",
       "      <th>Close</th>\n",
       "      <th>Volume</th>\n",
       "      <th>Return</th>\n",
       "      <th>Lagged_Return</th>\n",
       "    </tr>\n",
       "    <tr>\n",
       "      <th>Date</th>\n",
       "      <th></th>\n",
       "      <th></th>\n",
       "      <th></th>\n",
       "      <th></th>\n",
       "      <th></th>\n",
       "      <th></th>\n",
       "      <th></th>\n",
       "    </tr>\n",
       "  </thead>\n",
       "  <tbody>\n",
       "    <tr>\n",
       "      <td>2007-04-16 16:00:00</td>\n",
       "      <td>13599.75</td>\n",
       "      <td>13667.12</td>\n",
       "      <td>13578.62</td>\n",
       "      <td>13659.98</td>\n",
       "      <td>205978544</td>\n",
       "      <td>0.599177</td>\n",
       "      <td>0.584978</td>\n",
       "    </tr>\n",
       "    <tr>\n",
       "      <td>2007-04-17 16:00:00</td>\n",
       "      <td>13712.20</td>\n",
       "      <td>13712.20</td>\n",
       "      <td>13630.33</td>\n",
       "      <td>13657.95</td>\n",
       "      <td>226247168</td>\n",
       "      <td>-0.014861</td>\n",
       "      <td>0.599177</td>\n",
       "    </tr>\n",
       "    <tr>\n",
       "      <td>2007-04-18 16:00:00</td>\n",
       "      <td>13612.66</td>\n",
       "      <td>13713.14</td>\n",
       "      <td>13612.66</td>\n",
       "      <td>13711.96</td>\n",
       "      <td>183662896</td>\n",
       "      <td>0.395447</td>\n",
       "      <td>-0.014861</td>\n",
       "    </tr>\n",
       "    <tr>\n",
       "      <td>2007-04-19 16:00:00</td>\n",
       "      <td>13582.46</td>\n",
       "      <td>13711.96</td>\n",
       "      <td>13538.98</td>\n",
       "      <td>13574.70</td>\n",
       "      <td>185490976</td>\n",
       "      <td>-1.001024</td>\n",
       "      <td>0.395447</td>\n",
       "    </tr>\n",
       "    <tr>\n",
       "      <td>2007-04-20 16:00:00</td>\n",
       "      <td>13666.14</td>\n",
       "      <td>13673.61</td>\n",
       "      <td>13574.70</td>\n",
       "      <td>13664.71</td>\n",
       "      <td>348114848</td>\n",
       "      <td>0.663072</td>\n",
       "      <td>-1.001024</td>\n",
       "    </tr>\n",
       "  </tbody>\n",
       "</table>\n",
       "</div>"
      ],
      "text/plain": [
       "                         Open      High       Low     Close     Volume  \\\n",
       "Date                                                                     \n",
       "2007-04-16 16:00:00  13599.75  13667.12  13578.62  13659.98  205978544   \n",
       "2007-04-17 16:00:00  13712.20  13712.20  13630.33  13657.95  226247168   \n",
       "2007-04-18 16:00:00  13612.66  13713.14  13612.66  13711.96  183662896   \n",
       "2007-04-19 16:00:00  13582.46  13711.96  13538.98  13574.70  185490976   \n",
       "2007-04-20 16:00:00  13666.14  13673.61  13574.70  13664.71  348114848   \n",
       "\n",
       "                       Return  Lagged_Return  \n",
       "Date                                          \n",
       "2007-04-16 16:00:00  0.599177       0.584978  \n",
       "2007-04-17 16:00:00 -0.014861       0.599177  \n",
       "2007-04-18 16:00:00  0.395447      -0.014861  \n",
       "2007-04-19 16:00:00 -1.001024       0.395447  \n",
       "2007-04-20 16:00:00  0.663072      -1.001024  "
      ]
     },
     "execution_count": 13,
     "metadata": {},
     "output_type": "execute_result"
    }
   ],
   "source": [
    "# Testing data with just one window\n"
   ]
  },
  {
   "cell_type": "markdown",
   "metadata": {},
   "source": [
    "# Putting it all together"
   ]
  },
  {
   "cell_type": "code",
   "execution_count": 14,
   "metadata": {},
   "outputs": [
    {
     "data": {
      "text/plain": [
       "686"
      ]
     },
     "execution_count": 14,
     "metadata": {},
     "output_type": "execute_result"
    }
   ],
   "source": [
    "# Set the training window as 26 weeks\n",
    "# Total timeframe is 287 weeks\n"
   ]
  },
  {
   "cell_type": "code",
   "execution_count": 15,
   "metadata": {},
   "outputs": [
    {
     "data": {
      "text/html": [
       "<div>\n",
       "<style scoped>\n",
       "    .dataframe tbody tr th:only-of-type {\n",
       "        vertical-align: middle;\n",
       "    }\n",
       "\n",
       "    .dataframe tbody tr th {\n",
       "        vertical-align: top;\n",
       "    }\n",
       "\n",
       "    .dataframe thead th {\n",
       "        text-align: right;\n",
       "    }\n",
       "</style>\n",
       "<table border=\"1\" class=\"dataframe\">\n",
       "  <thead>\n",
       "    <tr style=\"text-align: right;\">\n",
       "      <th></th>\n",
       "      <th>Out-of-Sample Predictions</th>\n",
       "    </tr>\n",
       "  </thead>\n",
       "  <tbody>\n",
       "  </tbody>\n",
       "</table>\n",
       "</div>"
      ],
      "text/plain": [
       "Empty DataFrame\n",
       "Columns: [Out-of-Sample Predictions]\n",
       "Index: []"
      ]
     },
     "execution_count": 15,
     "metadata": {},
     "output_type": "execute_result"
    }
   ],
   "source": [
    "# Construct an empty placeholder DataFrame, with a column named \"Out-of-Sample Predictions\"\n",
    "# (Each iteration of the loop, we'll append that week\"s predictions to this DataFrame)\n"
   ]
  },
  {
   "cell_type": "code",
   "execution_count": 16,
   "metadata": {},
   "outputs": [
    {
     "data": {
      "text/html": [
       "<div>\n",
       "<style scoped>\n",
       "    .dataframe tbody tr th:only-of-type {\n",
       "        vertical-align: middle;\n",
       "    }\n",
       "\n",
       "    .dataframe tbody tr th {\n",
       "        vertical-align: top;\n",
       "    }\n",
       "\n",
       "    .dataframe thead th {\n",
       "        text-align: right;\n",
       "    }\n",
       "</style>\n",
       "<table border=\"1\" class=\"dataframe\">\n",
       "  <thead>\n",
       "    <tr style=\"text-align: right;\">\n",
       "      <th></th>\n",
       "      <th>Actual Returns</th>\n",
       "    </tr>\n",
       "  </thead>\n",
       "  <tbody>\n",
       "  </tbody>\n",
       "</table>\n",
       "</div>"
      ],
      "text/plain": [
       "Empty DataFrame\n",
       "Columns: [Actual Returns]\n",
       "Index: []"
      ]
     },
     "execution_count": 16,
     "metadata": {},
     "output_type": "execute_result"
    }
   ],
   "source": [
    "# Construct a separate empty DataFrame for actual data\n"
   ]
  },
  {
   "cell_type": "code",
   "execution_count": 17,
   "metadata": {},
   "outputs": [],
   "source": [
    "for i in range(0, timeframe):\n",
    "    \n",
    "    # Beginning of training window\n",
    "    start_of_training_period = weeks[i].start_time.strftime(format=\"%Y-%m-%d\")\n",
    "    \n",
    "    # End of training window\n",
    "    end_of_training_period = weeks[training_window + i].end_time.strftime(format=\"%Y-%m-%d\")\n",
    "\n",
    "    # Window of test-window data\n",
    "    test_week = weeks[training_window + i + 1]\n",
    "    \n",
    "    # String of testing window\n",
    "    start_of_test_week  = test_week.start_time.strftime(format=\"%Y-%m-%d\")\n",
    "    end_of_test_week = test_week.end_time.strftime(format=\"%Y-%m-%d\")\n",
    "    \n",
    "    train = df[start_of_training_period:end_of_training_period]\n",
    "    test = df[start_of_test_week:end_of_test_week]\n",
    "    \n",
    "    # Create new DataFrames:\n",
    "    X_train = train[\"Lagged_Return\"].to_frame()\n",
    "    y_train = train[\"Return\"]\n",
    "    X_test = test[\"Lagged_Return\"].to_frame()\n",
    "    y_test = test[\"Return\"]\n",
    "\n",
    "    model = LinearRegression()\n",
    "    model.fit(X_train, y_train)\n",
    "    predictions = model.predict(X_test)\n",
    "    # Create a temporary DataFrame to hold predictions\n",
    "    predictions = pd.DataFrame(predictions, index=X_test.index, columns=[\"Out-of-Sample Predictions\"])\n",
    "    # Create a temporary DataFrame of the actual \"y\"s in the test DataFrame, with column name=\"Actual Returns\": \n",
    "    actuals = pd.DataFrame(y_test, index=y_test.index)\n",
    "    actuals.columns = [\"Actual Returns\"]  \n",
    "    # Append these two DataFrames (predictions and actuals) to the two master DataFrames built outside the loop\n",
    "    all_predictions = all_predictions.append(predictions)\n",
    "    all_actuals = all_actuals.append(actuals)"
   ]
  },
  {
   "cell_type": "code",
   "execution_count": 18,
   "metadata": {},
   "outputs": [
    {
     "data": {
      "text/html": [
       "<div>\n",
       "<style scoped>\n",
       "    .dataframe tbody tr th:only-of-type {\n",
       "        vertical-align: middle;\n",
       "    }\n",
       "\n",
       "    .dataframe tbody tr th {\n",
       "        vertical-align: top;\n",
       "    }\n",
       "\n",
       "    .dataframe thead th {\n",
       "        text-align: right;\n",
       "    }\n",
       "</style>\n",
       "<table border=\"1\" class=\"dataframe\">\n",
       "  <thead>\n",
       "    <tr style=\"text-align: right;\">\n",
       "      <th></th>\n",
       "      <th>Actual Returns</th>\n",
       "      <th>Out-of-Sample Predictions</th>\n",
       "    </tr>\n",
       "  </thead>\n",
       "  <tbody>\n",
       "    <tr>\n",
       "      <td>2007-04-16 16:00:00</td>\n",
       "      <td>0.599177</td>\n",
       "      <td>0.116730</td>\n",
       "    </tr>\n",
       "    <tr>\n",
       "      <td>2007-04-17 16:00:00</td>\n",
       "      <td>-0.014861</td>\n",
       "      <td>0.116694</td>\n",
       "    </tr>\n",
       "    <tr>\n",
       "      <td>2007-04-18 16:00:00</td>\n",
       "      <td>0.395447</td>\n",
       "      <td>0.118263</td>\n",
       "    </tr>\n",
       "    <tr>\n",
       "      <td>2007-04-19 16:00:00</td>\n",
       "      <td>-1.001024</td>\n",
       "      <td>0.117214</td>\n",
       "    </tr>\n",
       "    <tr>\n",
       "      <td>2007-04-20 16:00:00</td>\n",
       "      <td>0.663072</td>\n",
       "      <td>0.120782</td>\n",
       "    </tr>\n",
       "  </tbody>\n",
       "</table>\n",
       "</div>"
      ],
      "text/plain": [
       "                     Actual Returns  Out-of-Sample Predictions\n",
       "2007-04-16 16:00:00        0.599177                   0.116730\n",
       "2007-04-17 16:00:00       -0.014861                   0.116694\n",
       "2007-04-18 16:00:00        0.395447                   0.118263\n",
       "2007-04-19 16:00:00       -1.001024                   0.117214\n",
       "2007-04-20 16:00:00        0.663072                   0.120782"
      ]
     },
     "execution_count": 18,
     "metadata": {},
     "output_type": "execute_result"
    }
   ],
   "source": [
    "# Once the loop is done, concatenate (combine) the two DataFrames to a final \"Results\" DataFrame:    \n"
   ]
  },
  {
   "cell_type": "code",
   "execution_count": 19,
   "metadata": {},
   "outputs": [
    {
     "data": {
      "text/plain": [
       "array([<matplotlib.axes._subplots.AxesSubplot object at 0x1305e6860>,\n",
       "       <matplotlib.axes._subplots.AxesSubplot object at 0x10dbc69b0>],\n",
       "      dtype=object)"
      ]
     },
     "execution_count": 19,
     "metadata": {},
     "output_type": "execute_result"
    },
    {
     "data": {
      "image/png": "[encoded data removed]",
      "text/plain": [
       "<Figure size 432x288 with 2 Axes>"
      ]
     },
     "metadata": {
      "needs_background": "light"
     },
     "output_type": "display_data"
    }
   ],
   "source": [
    "# Plot the first 20 predictions vs the true values\n"
   ]
  },
  {
   "cell_type": "markdown",
   "metadata": {},
   "source": [
    "# RMSE for Out-of-sample Predictions"
   ]
  },
  {
   "cell_type": "code",
   "execution_count": 20,
   "metadata": {},
   "outputs": [
    {
     "name": "stdout",
     "output_type": "stream",
     "text": [
      "Out-of-Sample Root Mean Squared Error (RMSE): 1.2137647195007581\n"
     ]
    }
   ],
   "source": [
    "from sklearn.metrics import mean_squared_error, r2_score\n",
    "\n",
    "# Set mean-squared-error\n",
    "\n",
    "\n",
    "# Using that mean-squared-error, calculate the root-mean-squared error (RMSE):\n"
   ]
  }
 ],
 "metadata": {
  "kernelspec": {
   "display_name": "Python 3",
   "language": "python",
   "name": "python3"
  },
  "language_info": {
   "codemirror_mode": {
    "name": "ipython",
    "version": 3
   },
   "file_extension": ".py",
   "mimetype": "text/x-python",
   "name": "python",
   "nbconvert_exporter": "python",
   "pygments_lexer": "ipython3",
   "version": "3.7.3"
  }
 },
 "nbformat": 4,
 "nbformat_minor": 4
}
