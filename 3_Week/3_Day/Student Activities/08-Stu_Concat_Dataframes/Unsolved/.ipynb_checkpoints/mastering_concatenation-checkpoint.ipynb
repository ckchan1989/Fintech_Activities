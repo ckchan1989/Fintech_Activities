{
 "cells": [
  {
   "cell_type": "markdown",
   "metadata": {},
   "source": [
    " # Mastering Concatenation!"
   ]
  },
  {
   "cell_type": "markdown",
   "metadata": {},
   "source": [
    "Two county organizations that you are a part of, Financial Leaders of America and Investors Leadership Council, have recently joined forces.\n",
    "\n",
    "Eager to consolidate the dues and membership data, the treasurer has reached out to you––the group's FinTech guru––to create a master ledger containing financial data for both organizations.\n",
    "\n",
    "Help the treasurer out by consolidating the dues and member data.\n",
    "\n",
    "## Instructions"
   ]
  },
  {
   "cell_type": "code",
   "execution_count": 7,
   "metadata": {},
   "outputs": [],
   "source": [
    "# Initial imports\n",
    "import pandas as pd\n",
    "from pathlib import Path"
   ]
  },
  {
   "cell_type": "markdown",
   "metadata": {},
   "source": [
    " ### Read in data"
   ]
  },
  {
   "cell_type": "code",
   "execution_count": 8,
   "metadata": {},
   "outputs": [
    {
     "data": {
      "text/html": [
       "<div>\n",
       "<style scoped>\n",
       "    .dataframe tbody tr th:only-of-type {\n",
       "        vertical-align: middle;\n",
       "    }\n",
       "\n",
       "    .dataframe tbody tr th {\n",
       "        vertical-align: top;\n",
       "    }\n",
       "\n",
       "    .dataframe thead th {\n",
       "        text-align: right;\n",
       "    }\n",
       "</style>\n",
       "<table border=\"1\" class=\"dataframe\">\n",
       "  <thead>\n",
       "    <tr style=\"text-align: right;\">\n",
       "      <th></th>\n",
       "      <th>MembershipStatus</th>\n",
       "    </tr>\n",
       "    <tr>\n",
       "      <th>MemberName</th>\n",
       "      <th></th>\n",
       "    </tr>\n",
       "  </thead>\n",
       "  <tbody>\n",
       "    <tr>\n",
       "      <th>Warren Buffet</th>\n",
       "      <td>Good Standing</td>\n",
       "    </tr>\n",
       "    <tr>\n",
       "      <th>Janet Yellen</th>\n",
       "      <td>Good Standing</td>\n",
       "    </tr>\n",
       "    <tr>\n",
       "      <th>Abigail Johnson</th>\n",
       "      <td>Good Standing</td>\n",
       "    </tr>\n",
       "    <tr>\n",
       "      <th>Larry Fink</th>\n",
       "      <td>Delinquent</td>\n",
       "    </tr>\n",
       "  </tbody>\n",
       "</table>\n",
       "</div>"
      ],
      "text/plain": [
       "                MembershipStatus\n",
       "MemberName                      \n",
       "Warren Buffet      Good Standing\n",
       "Janet Yellen       Good Standing\n",
       "Abigail Johnson    Good Standing\n",
       "Larry Fink            Delinquent"
      ]
     },
     "execution_count": 8,
     "metadata": {},
     "output_type": "execute_result"
    }
   ],
   "source": [
    "# Set the path for each CSV file\n",
    "l_america = Path(\"../Resources/fin_leaders_america.csv\")\n",
    "l_members = Path(\"../Resources/fin_leaders_members.csv\")\n",
    "i_members = Path(\"../Resources/invstrs_leadership_members.csv\")\n",
    "i_leadership = Path(\"../Resources/invstrs_leadership.csv\")\n",
    "\n",
    "# Read in the data into Pandas DataFrames\n",
    "df_america = pd.read_csv(l_america, index_col = 'MemberName')\n",
    "df_members = pd.read_csv(l_members, index_col = 'MemberName')\n",
    "df_imembers = pd.read_csv(i_members, index_col = 'MemberName')\n",
    "df_lmembers = pd.read_csv(i_leadership, index_col = 'MemberName')\n",
    "\n",
    "df_members.head()"
   ]
  },
  {
   "cell_type": "markdown",
   "metadata": {},
   "source": [
    " ### Concatenate dues data using `rows` axis and `inner` join"
   ]
  },
  {
   "cell_type": "code",
   "execution_count": 9,
   "metadata": {},
   "outputs": [],
   "source": [
    "dues_data = pd.concat(\n",
    "    [df_america,df_lmembers], axis='rows',join='inner'\n",
    ")\n",
    "dues_data = dues_data.reset_index()"
   ]
  },
  {
   "cell_type": "markdown",
   "metadata": {},
   "source": [
    " ### Concatenate member data using `rows` axis and `inner` join"
   ]
  },
  {
   "cell_type": "code",
   "execution_count": 10,
   "metadata": {},
   "outputs": [],
   "source": [
    "m_data = pd.concat(\n",
    "    [df_members,df_imembers], axis='rows',join='inner'\n",
    ")\n",
    "m_data = m_data.reset_index()\n",
    "#reset_index() added as final_concat didn't work with out this"
   ]
  },
  {
   "cell_type": "markdown",
   "metadata": {},
   "source": [
    " ### Concatenate dues and member data using `columns` axis and `inner` join"
   ]
  },
  {
   "cell_type": "code",
   "execution_count": 11,
   "metadata": {},
   "outputs": [
    {
     "data": {
      "text/html": [
       "<div>\n",
       "<style scoped>\n",
       "    .dataframe tbody tr th:only-of-type {\n",
       "        vertical-align: middle;\n",
       "    }\n",
       "\n",
       "    .dataframe tbody tr th {\n",
       "        vertical-align: top;\n",
       "    }\n",
       "\n",
       "    .dataframe thead th {\n",
       "        text-align: right;\n",
       "    }\n",
       "</style>\n",
       "<table border=\"1\" class=\"dataframe\">\n",
       "  <thead>\n",
       "    <tr style=\"text-align: right;\">\n",
       "      <th></th>\n",
       "      <th>MemberName</th>\n",
       "      <th>DuesOwed</th>\n",
       "      <th>DuesPaid</th>\n",
       "      <th>MemberName</th>\n",
       "      <th>MembershipStatus</th>\n",
       "    </tr>\n",
       "  </thead>\n",
       "  <tbody>\n",
       "    <tr>\n",
       "      <th>0</th>\n",
       "      <td>Warren Buffet</td>\n",
       "      <td>0</td>\n",
       "      <td>2500</td>\n",
       "      <td>Warren Buffet</td>\n",
       "      <td>Good Standing</td>\n",
       "    </tr>\n",
       "    <tr>\n",
       "      <th>1</th>\n",
       "      <td>Janet Yellen</td>\n",
       "      <td>100</td>\n",
       "      <td>2400</td>\n",
       "      <td>Janet Yellen</td>\n",
       "      <td>Good Standing</td>\n",
       "    </tr>\n",
       "    <tr>\n",
       "      <th>2</th>\n",
       "      <td>Abigail Johnson</td>\n",
       "      <td>0</td>\n",
       "      <td>2500</td>\n",
       "      <td>Abigail Johnson</td>\n",
       "      <td>Good Standing</td>\n",
       "    </tr>\n",
       "    <tr>\n",
       "      <th>3</th>\n",
       "      <td>Larry Fink</td>\n",
       "      <td>2500</td>\n",
       "      <td>0</td>\n",
       "      <td>Larry Fink</td>\n",
       "      <td>Delinquent</td>\n",
       "    </tr>\n",
       "    <tr>\n",
       "      <th>4</th>\n",
       "      <td>Warren Buffet</td>\n",
       "      <td>0</td>\n",
       "      <td>2500</td>\n",
       "      <td>Warren Buffet</td>\n",
       "      <td>Good Standing</td>\n",
       "    </tr>\n",
       "    <tr>\n",
       "      <th>5</th>\n",
       "      <td>Janet Yellen</td>\n",
       "      <td>100</td>\n",
       "      <td>2400</td>\n",
       "      <td>Janet Yellen</td>\n",
       "      <td>Good Standing</td>\n",
       "    </tr>\n",
       "    <tr>\n",
       "      <th>6</th>\n",
       "      <td>Abigail Johnson</td>\n",
       "      <td>0</td>\n",
       "      <td>2500</td>\n",
       "      <td>Abigail Johnson</td>\n",
       "      <td>Good Standing</td>\n",
       "    </tr>\n",
       "    <tr>\n",
       "      <th>7</th>\n",
       "      <td>Larry Fink</td>\n",
       "      <td>2500</td>\n",
       "      <td>0</td>\n",
       "      <td>Larry Fink</td>\n",
       "      <td>Delinquent</td>\n",
       "    </tr>\n",
       "    <tr>\n",
       "      <th>8</th>\n",
       "      <td>Mario Draghi</td>\n",
       "      <td>2500</td>\n",
       "      <td>0</td>\n",
       "      <td>Mario Draghi</td>\n",
       "      <td>Delinquent</td>\n",
       "    </tr>\n",
       "    <tr>\n",
       "      <th>9</th>\n",
       "      <td>Michael Bloomberg</td>\n",
       "      <td>2500</td>\n",
       "      <td>0</td>\n",
       "      <td>Michael Bloomberg</td>\n",
       "      <td>Delinquent</td>\n",
       "    </tr>\n",
       "    <tr>\n",
       "      <th>10</th>\n",
       "      <td>Ray Dalio</td>\n",
       "      <td>0</td>\n",
       "      <td>2500</td>\n",
       "      <td>Ray Dalio</td>\n",
       "      <td>Good Standing</td>\n",
       "    </tr>\n",
       "  </tbody>\n",
       "</table>\n",
       "</div>"
      ],
      "text/plain": [
       "           MemberName  DuesOwed  DuesPaid         MemberName MembershipStatus\n",
       "0       Warren Buffet         0      2500      Warren Buffet    Good Standing\n",
       "1        Janet Yellen       100      2400       Janet Yellen    Good Standing\n",
       "2     Abigail Johnson         0      2500    Abigail Johnson    Good Standing\n",
       "3          Larry Fink      2500         0         Larry Fink       Delinquent\n",
       "4       Warren Buffet         0      2500      Warren Buffet    Good Standing\n",
       "5        Janet Yellen       100      2400       Janet Yellen    Good Standing\n",
       "6     Abigail Johnson         0      2500    Abigail Johnson    Good Standing\n",
       "7          Larry Fink      2500         0         Larry Fink       Delinquent\n",
       "8        Mario Draghi      2500         0       Mario Draghi       Delinquent\n",
       "9   Michael Bloomberg      2500         0  Michael Bloomberg       Delinquent\n",
       "10          Ray Dalio         0      2500          Ray Dalio    Good Standing"
      ]
     },
     "execution_count": 11,
     "metadata": {},
     "output_type": "execute_result"
    }
   ],
   "source": [
    "final_concat = pd.concat(\n",
    "    [dues_data, m_data], axis='columns', join='inner'\n",
    ")\n",
    "final_concat"
   ]
  },
  {
   "cell_type": "code",
   "execution_count": null,
   "metadata": {},
   "outputs": [],
   "source": []
  }
 ],
 "metadata": {
  "file_extension": ".py",
  "kernelspec": {
   "display_name": "Python 3",
   "language": "python",
   "name": "python3"
  },
  "language_info": {
   "codemirror_mode": {
    "name": "ipython",
    "version": 3
   },
   "file_extension": ".py",
   "mimetype": "text/x-python",
   "name": "python",
   "nbconvert_exporter": "python",
   "pygments_lexer": "ipython3",
   "version": "3.8.5"
  },
  "mimetype": "text/x-python",
  "name": "python",
  "npconvert_exporter": "python",
  "pygments_lexer": "ipython3",
  "version": 3
 },
 "nbformat": 4,
 "nbformat_minor": 4
}
