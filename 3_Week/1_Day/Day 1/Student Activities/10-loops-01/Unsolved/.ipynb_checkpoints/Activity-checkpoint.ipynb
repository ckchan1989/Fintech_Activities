{
 "cells": [
  {
   "cell_type": "code",
   "execution_count": 1,
   "id": "sunrise-parallel",
   "metadata": {},
   "outputs": [],
   "source": [
    "our_list = []"
   ]
  },
  {
   "cell_type": "code",
   "execution_count": 3,
   "id": "irish-corruption",
   "metadata": {},
   "outputs": [],
   "source": [
    "our_list.append(1)"
   ]
  },
  {
   "cell_type": "code",
   "execution_count": 5,
   "id": "heard-present",
   "metadata": {},
   "outputs": [],
   "source": [
    "our_list.append('hello')"
   ]
  },
  {
   "cell_type": "code",
   "execution_count": 6,
   "id": "surface-seventh",
   "metadata": {},
   "outputs": [],
   "source": [
    "our_list.append(False)"
   ]
  },
  {
   "cell_type": "code",
   "execution_count": 7,
   "id": "injured-maine",
   "metadata": {},
   "outputs": [],
   "source": [
    "our_list.append(84)"
   ]
  },
  {
   "cell_type": "code",
   "execution_count": 8,
   "id": "dried-candidate",
   "metadata": {},
   "outputs": [],
   "source": [
    "our_list.append('world')"
   ]
  },
  {
   "cell_type": "code",
   "execution_count": 10,
   "id": "upset-jacket",
   "metadata": {},
   "outputs": [
    {
     "name": "stdout",
     "output_type": "stream",
     "text": [
      "[1, 'hello', False, 84, 'world']\n"
     ]
    }
   ],
   "source": [
    "print(our_list)"
   ]
  },
  {
   "cell_type": "code",
   "execution_count": 11,
   "id": "opponent-penalty",
   "metadata": {},
   "outputs": [],
   "source": [
    "one_to_ten = [1,2,3,4,5,6,7,8,9,10]"
   ]
  },
  {
   "cell_type": "code",
   "execution_count": 13,
   "id": "irish-northern",
   "metadata": {},
   "outputs": [
    {
     "name": "stdout",
     "output_type": "stream",
     "text": [
      "4\n"
     ]
    }
   ],
   "source": [
    "print(one_to_ten[3])"
   ]
  },
  {
   "cell_type": "code",
   "execution_count": 14,
   "id": "capable-tuition",
   "metadata": {},
   "outputs": [
    {
     "name": "stdout",
     "output_type": "stream",
     "text": [
      "7\n"
     ]
    }
   ],
   "source": [
    "print(one_to_ten[6])"
   ]
  },
  {
   "cell_type": "code",
   "execution_count": 26,
   "id": "radio-investing",
   "metadata": {},
   "outputs": [],
   "source": [
    "num_list = [2, 65, 3, 7, 39, 22, 11, 94, 299, 9, 20, 21, 51, 37]"
   ]
  },
  {
   "cell_type": "code",
   "execution_count": 16,
   "id": "rural-edgar",
   "metadata": {},
   "outputs": [
    {
     "name": "stdout",
     "output_type": "stream",
     "text": [
      "65\n",
      "94\n",
      "299\n",
      "51\n"
     ]
    }
   ],
   "source": [
    "for x in num_list:\n",
    "    if x > 50:\n",
    "        print(x)"
   ]
  },
  {
   "cell_type": "code",
   "execution_count": 21,
   "id": "greek-stack",
   "metadata": {},
   "outputs": [
    {
     "name": "stdout",
     "output_type": "stream",
     "text": [
      "6\n"
     ]
    }
   ],
   "source": [
    "for x in num_list:\n",
    "    if x == 11:\n",
    "        print(num_list.index(x))"
   ]
  },
  {
   "cell_type": "code",
   "execution_count": 31,
   "id": "spare-commodity",
   "metadata": {},
   "outputs": [],
   "source": [
    "total = 0\n",
    "for x in num_list:\n",
    "    total += x"
   ]
  },
  {
   "cell_type": "code",
   "execution_count": 33,
   "id": "floppy-applicant",
   "metadata": {},
   "outputs": [],
   "source": [
    "total = 0\n",
    "for x in num_list:\n",
    "    if x > 50:\n",
    "        total += x\n",
    " "
   ]
  },
  {
   "cell_type": "code",
   "execution_count": 40,
   "id": "signed-listening",
   "metadata": {},
   "outputs": [
    {
     "name": "stdout",
     "output_type": "stream",
     "text": [
      "138\n"
     ]
    }
   ],
   "source": [
    "total = 0\n",
    "for x in num_list:\n",
    "    if x % 2 == 0:\n",
    "        total += x\n",
    "print(total)"
   ]
  },
  {
   "cell_type": "code",
   "execution_count": 36,
   "id": "durable-lobby",
   "metadata": {},
   "outputs": [],
   "source": [
    "fruits = [\n",
    "  \"Apple\", \"Orange\", \"Banana\", \"Pomelo\", \"Apple\", \"Kiwi\", \"Peach\", \"Banana\", \"Grape\", \"Tomato\",\n",
    "  \"Kiwi\", \"Apple\", \"Watermelon\", \"Lemon\", \"Pomelo\", \"Apple\", \"Banana\", \"Peach\", \"Apricot\", \"Grape\"]"
   ]
  },
  {
   "cell_type": "code",
   "execution_count": 37,
   "id": "ongoing-murder",
   "metadata": {},
   "outputs": [
    {
     "name": "stdout",
     "output_type": "stream",
     "text": [
      "4\n"
     ]
    }
   ],
   "source": [
    "count = 0\n",
    "for x in fruits:\n",
    "    if x == 'Apple':\n",
    "        count += 1\n",
    "        \n",
    "print(count)"
   ]
  },
  {
   "cell_type": "code",
   "execution_count": 38,
   "id": "received-monday",
   "metadata": {},
   "outputs": [
    {
     "name": "stdout",
     "output_type": "stream",
     "text": [
      "2\n"
     ]
    }
   ],
   "source": [
    "count = 0\n",
    "for x in fruits:\n",
    "    if x == 'Peach':\n",
    "        count += 1\n",
    "        \n",
    "print(count)"
   ]
  },
  {
   "cell_type": "code",
   "execution_count": 41,
   "id": "regulation-advocacy",
   "metadata": {},
   "outputs": [
    {
     "name": "stdout",
     "output_type": "stream",
     "text": [
      "4\n"
     ]
    }
   ],
   "source": [
    "count = 0\n",
    "for x in fruits:\n",
    "    if x[0] == 'P':\n",
    "        count += 1\n",
    "        \n",
    "print(count)"
   ]
  },
  {
   "cell_type": "code",
   "execution_count": 42,
   "id": "connected-state",
   "metadata": {},
   "outputs": [],
   "source": [
    "unique_fruits = []"
   ]
  },
  {
   "cell_type": "code",
   "execution_count": 43,
   "id": "passing-survivor",
   "metadata": {},
   "outputs": [],
   "source": [
    "for x in fruits:\n",
    "    if x not in unique_fruits:\n",
    "        unique_fruits.append(x)"
   ]
  },
  {
   "cell_type": "code",
   "execution_count": 44,
   "id": "departmental-absolute",
   "metadata": {},
   "outputs": [
    {
     "data": {
      "text/plain": [
       "['Apple',\n",
       " 'Orange',\n",
       " 'Banana',\n",
       " 'Pomelo',\n",
       " 'Kiwi',\n",
       " 'Peach',\n",
       " 'Grape',\n",
       " 'Tomato',\n",
       " 'Watermelon',\n",
       " 'Lemon',\n",
       " 'Apricot']"
      ]
     },
     "execution_count": 44,
     "metadata": {},
     "output_type": "execute_result"
    }
   ],
   "source": [
    "unique_fruits"
   ]
  },
  {
   "cell_type": "code",
   "execution_count": 58,
   "id": "corresponding-platform",
   "metadata": {},
   "outputs": [],
   "source": [
    "two_dim_list = [\n",
    "  [54, 6, 7, 46, 78],\n",
    "  [43, 9, 6, 65, 65],\n",
    "  [32, 1, 44, 1, 23],\n",
    "  [55, 12, 2, 34, 2],\n",
    "  [2, 12, 44, 2, 12]]\n"
   ]
  },
  {
   "cell_type": "code",
   "execution_count": 49,
   "id": "valuable-friend",
   "metadata": {},
   "outputs": [
    {
     "name": "stdout",
     "output_type": "stream",
     "text": [
      "6\n",
      "7\n"
     ]
    }
   ],
   "source": [
    "for x in two_dim_list[0]:\n",
    "    if x < 25:\n",
    "        print(x)"
   ]
  },
  {
   "cell_type": "code",
   "execution_count": 50,
   "id": "continuous-snake",
   "metadata": {},
   "outputs": [
    {
     "name": "stdout",
     "output_type": "stream",
     "text": [
      "2\n",
      "12\n",
      "2\n",
      "12\n"
     ]
    }
   ],
   "source": [
    "for x in two_dim_list[4]:\n",
    "    if x < 25:\n",
    "        print(x)"
   ]
  },
  {
   "cell_type": "code",
   "execution_count": 60,
   "id": "italic-spencer",
   "metadata": {},
   "outputs": [
    {
     "name": "stdout",
     "output_type": "stream",
     "text": [
      "7\n",
      "43\n",
      "9\n",
      "65\n",
      "65\n",
      "1\n",
      "1\n",
      "23\n",
      "55\n"
     ]
    }
   ],
   "source": [
    "for x in two_dim_list:\n",
    "    for y in x:\n",
    "        if y % 2 == 0:\n",
    "            print(y)"
   ]
  },
  {
   "cell_type": "code",
   "execution_count": 64,
   "id": "dynamic-beaver",
   "metadata": {},
   "outputs": [
    {
     "name": "stdout",
     "output_type": "stream",
     "text": [
      "189\n"
     ]
    }
   ],
   "source": [
    "total = 0\n",
    "for x in two_dim_list:\n",
    "    for y in x:\n",
    "        if y % 3 == 0:\n",
    "            total += y\n",
    "print(total)"
   ]
  },
  {
   "cell_type": "code",
   "execution_count": null,
   "id": "plastic-nicaragua",
   "metadata": {},
   "outputs": [],
   "source": []
  }
 ],
 "metadata": {
  "kernelspec": {
   "display_name": "Python 3",
   "language": "python",
   "name": "python3"
  },
  "language_info": {
   "codemirror_mode": {
    "name": "ipython",
    "version": 3
   },
   "file_extension": ".py",
   "mimetype": "text/x-python",
   "name": "python",
   "nbconvert_exporter": "python",
   "pygments_lexer": "ipython3",
   "version": "3.8.5"
  }
 },
 "nbformat": 4,
 "nbformat_minor": 5
}
