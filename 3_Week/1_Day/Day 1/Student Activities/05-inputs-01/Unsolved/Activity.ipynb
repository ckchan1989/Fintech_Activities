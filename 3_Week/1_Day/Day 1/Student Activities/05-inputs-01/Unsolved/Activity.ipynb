{
 "cells": [
  {
   "cell_type": "code",
   "execution_count": 1,
   "id": "banner-collective",
   "metadata": {},
   "outputs": [],
   "source": [
    "welcome_name = 'Welcome to the sandwich shop, what do I call you?'"
   ]
  },
  {
   "cell_type": "code",
   "execution_count": 2,
   "id": "gentle-michigan",
   "metadata": {},
   "outputs": [
    {
     "name": "stdout",
     "output_type": "stream",
     "text": [
      "Hello Welcome to the sandwich shop, what do I call you?\n"
     ]
    }
   ],
   "source": [
    "print(\"Hello \" + welcome_name)"
   ]
  },
  {
   "cell_type": "code",
   "execution_count": 8,
   "id": "engaged-professional",
   "metadata": {},
   "outputs": [
    {
     "name": "stdin",
     "output_type": "stream",
     "text": [
      "Are you here for a sandwich? Yes or No? No\n"
     ]
    }
   ],
   "source": [
    "question_sandwich = input('Are you here for a sandwich? Yes or No?')"
   ]
  },
  {
   "cell_type": "code",
   "execution_count": 4,
   "id": "focal-grammar",
   "metadata": {},
   "outputs": [
    {
     "name": "stdin",
     "output_type": "stream",
     "text": [
      "What kind of sandwich would you like? ljojodjf\n"
     ]
    }
   ],
   "source": [
    "food_prompt = input('What kind of sandwich would you like?')"
   ]
  },
  {
   "cell_type": "code",
   "execution_count": 9,
   "id": "young-grocery",
   "metadata": {},
   "outputs": [
    {
     "name": "stdout",
     "output_type": "stream",
     "text": [
      "If you don't want a sandwich, what are you here for?!\n"
     ]
    }
   ],
   "source": [
    "if question_sandwich == 'Yes':\n",
    "    print(f'Please wait 10 min for your {food_prompt}')\n",
    "elif question_sandwich == 'No':\n",
    "    print(\"If you don't want a sandwich, what are you here for?!\")\n",
    "else:\n",
    "    print(\"mate you wrote nothing\")"
   ]
  },
  {
   "cell_type": "code",
   "execution_count": null,
   "id": "standing-powell",
   "metadata": {},
   "outputs": [],
   "source": []
  }
 ],
 "metadata": {
  "kernelspec": {
   "display_name": "Python 3",
   "language": "python",
   "name": "python3"
  },
  "language_info": {
   "codemirror_mode": {
    "name": "ipython",
    "version": 3
   },
   "file_extension": ".py",
   "mimetype": "text/x-python",
   "name": "python",
   "nbconvert_exporter": "python",
   "pygments_lexer": "ipython3",
   "version": "3.8.5"
  }
 },
 "nbformat": 4,
 "nbformat_minor": 5
}
