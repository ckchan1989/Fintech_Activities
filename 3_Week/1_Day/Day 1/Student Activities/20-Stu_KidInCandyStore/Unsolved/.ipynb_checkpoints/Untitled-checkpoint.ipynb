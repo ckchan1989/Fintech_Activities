{
 "cells": [
  {
   "cell_type": "code",
   "execution_count": 27,
   "id": "framed-drink",
   "metadata": {},
   "outputs": [],
   "source": [
    "candy_list = [\n",
    "    \"Snickers\",\n",
    "    \"Kit Kat\",\n",
    "    \"Sour Patch Kids\",\n",
    "    \"Juicy Fruit\",\n",
    "    \"Swedish Fish\",\n",
    "    \"Skittles\",\n",
    "    \"Hershey Bar\",\n",
    "    \"Starbursts\",\n",
    "    \"M&Ms\"\n",
    "]\n",
    "\n",
    "allowance = 2\n",
    "\n",
    "candy_cart = []"
   ]
  },
  {
   "cell_type": "code",
   "execution_count": 28,
   "id": "stupid-morocco",
   "metadata": {},
   "outputs": [
    {
     "name": "stdout",
     "output_type": "stream",
     "text": [
      "[0] Snickers\n",
      "[1] Kit Kat\n",
      "[2] Sour Patch Kids\n",
      "[3] Juicy Fruit\n",
      "[4] Swedish Fish\n",
      "[5] Skittles\n",
      "[6] Hershey Bar\n",
      "[7] Starbursts\n",
      "[8] M&Ms\n"
     ]
    },
    {
     "name": "stdin",
     "output_type": "stream",
     "text": [
      "input your selection in number 7\n",
      "input your selection in number 0\n"
     ]
    }
   ],
   "source": [
    "for x in candy_list:\n",
    "    loop_count = 0\n",
    "    index_show = candy_list.index(x)\n",
    "    print(f'[{index_show}] {x}')\n",
    "    \n",
    "for x in range(allowance):\n",
    "    user_sel = int(input(\"input your selection in number\"))\n",
    "    candy_cart.append(candy_list[user_sel])\n",
    "    loop_count += 1\n",
    "            "
   ]
  },
  {
   "cell_type": "code",
   "execution_count": 29,
   "id": "prompt-essex",
   "metadata": {},
   "outputs": [
    {
     "name": "stdout",
     "output_type": "stream",
     "text": [
      "['Starbursts', 'Snickers']\n"
     ]
    }
   ],
   "source": [
    "print(candy_cart)"
   ]
  },
  {
   "cell_type": "code",
   "execution_count": 30,
   "id": "configured-network",
   "metadata": {},
   "outputs": [
    {
     "name": "stdout",
     "output_type": "stream",
     "text": [
      "Starbursts\n",
      "Snickers\n"
     ]
    }
   ],
   "source": [
    "for x in candy_cart:\n",
    "    print(x)"
   ]
  },
  {
   "cell_type": "code",
   "execution_count": null,
   "id": "laden-carry",
   "metadata": {},
   "outputs": [],
   "source": []
  }
 ],
 "metadata": {
  "kernelspec": {
   "display_name": "Python 3",
   "language": "python",
   "name": "python3"
  },
  "language_info": {
   "codemirror_mode": {
    "name": "ipython",
    "version": 3
   },
   "file_extension": ".py",
   "mimetype": "text/x-python",
   "name": "python",
   "nbconvert_exporter": "python",
   "pygments_lexer": "ipython3",
   "version": "3.8.5"
  }
 },
 "nbformat": 4,
 "nbformat_minor": 5
}
