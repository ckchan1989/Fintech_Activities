{
 "cells": [
  {
   "cell_type": "code",
   "execution_count": 1,
   "id": "sitting-summer",
   "metadata": {},
   "outputs": [],
   "source": [
    "import os\n",
    "import csv"
   ]
  },
  {
   "cell_type": "code",
   "execution_count": 2,
   "id": "comfortable-reason",
   "metadata": {},
   "outputs": [],
   "source": [
    "csvpath = os.path.join(\"..\",\"22-Stu_Email\",\"Resources\", \"employees.csv\")\n",
    "csvpath\n",
    "new_dict = []"
   ]
  },
  {
   "cell_type": "code",
   "execution_count": 3,
   "id": "ultimate-discrimination",
   "metadata": {},
   "outputs": [
    {
     "data": {
      "text/plain": [
       "[{'first_name': 'Tina',\n",
       "  'last_name': 'Fleming',\n",
       "  'ssn': '619-16-7988',\n",
       "  'email': 'Tina.Fleming@example.com'},\n",
       " {'first_name': 'Erica',\n",
       "  'last_name': 'Shah',\n",
       "  'ssn': '164-51-7615',\n",
       "  'email': 'Erica.Shah@example.com'},\n",
       " {'first_name': 'Paula',\n",
       "  'last_name': 'Ortiz',\n",
       "  'ssn': '051-83-3290',\n",
       "  'email': 'Paula.Ortiz@example.com'},\n",
       " {'first_name': 'James',\n",
       "  'last_name': 'Hendricks',\n",
       "  'ssn': '776-83-2884',\n",
       "  'email': 'James.Hendricks@example.com'},\n",
       " {'first_name': 'Lauren',\n",
       "  'last_name': 'King',\n",
       "  'ssn': '197-94-2398',\n",
       "  'email': 'Lauren.King@example.com'},\n",
       " {'first_name': 'David',\n",
       "  'last_name': 'Cowan',\n",
       "  'ssn': '252-92-1832',\n",
       "  'email': 'David.Cowan@example.com'},\n",
       " {'first_name': 'Andrew',\n",
       "  'last_name': 'Burton',\n",
       "  'ssn': '296-23-6842',\n",
       "  'email': 'Andrew.Burton@example.com'},\n",
       " {'first_name': 'Julian',\n",
       "  'last_name': 'Baker',\n",
       "  'ssn': '337-40-7543',\n",
       "  'email': 'Julian.Baker@example.com'},\n",
       " {'first_name': 'Scott',\n",
       "  'last_name': 'Castro',\n",
       "  'ssn': '399-46-5595',\n",
       "  'email': 'Scott.Castro@example.com'},\n",
       " {'first_name': 'Billy',\n",
       "  'last_name': 'Rodriguez',\n",
       "  'ssn': '014-18-2503',\n",
       "  'email': 'Billy.Rodriguez@example.com'},\n",
       " {'first_name': 'Darrell',\n",
       "  'last_name': 'Leblanc',\n",
       "  'ssn': '005-82-7918',\n",
       "  'email': 'Darrell.Leblanc@example.com'},\n",
       " {'first_name': 'David',\n",
       "  'last_name': 'Hammond',\n",
       "  'ssn': '561-17-6312',\n",
       "  'email': 'David.Hammond@example.com'}]"
      ]
     },
     "execution_count": 3,
     "metadata": {},
     "output_type": "execute_result"
    }
   ],
   "source": [
    "with open(csvpath, newline=\"\") as csvfile:\n",
    "    csvreader = csv.DictReader(csvfile, delimiter=\",\")\n",
    "    \n",
    "    for x in csvreader:\n",
    "        first_name = (x['first_name'])\n",
    "        last_name = (x['last_name'])\n",
    "        email = f\"{first_name}.{last_name}@example.com\"\n",
    "        \n",
    "        new_dict.append(\n",
    "        {'first_name':x['first_name'], 'last_name':x['last_name'],'ssn':x['ssn'],'email':email} )\n",
    "        \n",
    "new_dict"
   ]
  },
  {
   "cell_type": "code",
   "execution_count": null,
   "id": "charged-freedom",
   "metadata": {},
   "outputs": [],
   "source": []
  }
 ],
 "metadata": {
  "kernelspec": {
   "display_name": "Python 3",
   "language": "python",
   "name": "python3"
  },
  "language_info": {
   "codemirror_mode": {
    "name": "ipython",
    "version": 3
   },
   "file_extension": ".py",
   "mimetype": "text/x-python",
   "name": "python",
   "nbconvert_exporter": "python",
   "pygments_lexer": "ipython3",
   "version": "3.8.5"
  }
 },
 "nbformat": 4,
 "nbformat_minor": 5
}
