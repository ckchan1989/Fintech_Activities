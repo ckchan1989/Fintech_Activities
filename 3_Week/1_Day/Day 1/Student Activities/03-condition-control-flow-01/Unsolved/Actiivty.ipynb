{
 "cells": [
  {
   "cell_type": "code",
   "execution_count": 1,
   "id": "several-edward",
   "metadata": {},
   "outputs": [],
   "source": [
    "farm = ['pig','cow','chicken','dog','horse','sheep']"
   ]
  },
  {
   "cell_type": "code",
   "execution_count": 4,
   "id": "apparent-wallpaper",
   "metadata": {},
   "outputs": [
    {
     "name": "stdout",
     "output_type": "stream",
     "text": [
      "RAWR!\n"
     ]
    }
   ],
   "source": [
    "if farm[0] != 'Godzilla':\n",
    "    print(\"RAWR!\")"
   ]
  },
  {
   "cell_type": "code",
   "execution_count": 10,
   "id": "straight-chassis",
   "metadata": {},
   "outputs": [
    {
     "name": "stdout",
     "output_type": "stream",
     "text": [
      "This animal is neither Godzilla or Mortha!\n"
     ]
    }
   ],
   "source": [
    "if farm[5]  == 'Mortha':\n",
    "    print(\"SCREECH!\")\n",
    "else:\n",
    "        print(\"This animal is neither Godzilla or Mortha!\")"
   ]
  },
  {
   "cell_type": "code",
   "execution_count": 11,
   "id": "addressed-anniversary",
   "metadata": {},
   "outputs": [],
   "source": [
    "dog = 'Spot'"
   ]
  },
  {
   "cell_type": "code",
   "execution_count": 12,
   "id": "anticipated-garden",
   "metadata": {},
   "outputs": [],
   "source": [
    "cat = str()\n",
    "city = str()\n",
    "car = str()"
   ]
  },
  {
   "cell_type": "code",
   "execution_count": 13,
   "id": "greatest-letters",
   "metadata": {},
   "outputs": [],
   "source": [
    "cat = 'Farley'"
   ]
  },
  {
   "cell_type": "code",
   "execution_count": 14,
   "id": "retired-express",
   "metadata": {},
   "outputs": [],
   "source": [
    "city = 'San Francisco'"
   ]
  },
  {
   "cell_type": "code",
   "execution_count": 15,
   "id": "willing-finnish",
   "metadata": {},
   "outputs": [],
   "source": [
    "car = 'Prius'"
   ]
  },
  {
   "cell_type": "code",
   "execution_count": 33,
   "id": "permanent-malawi",
   "metadata": {},
   "outputs": [
    {
     "name": "stdout",
     "output_type": "stream",
     "text": [
      "See Spot run!\n"
     ]
    }
   ],
   "source": [
    "print(\"See \"+ dog +\" run!\")"
   ]
  },
  {
   "cell_type": "code",
   "execution_count": 34,
   "id": "assigned-upgrade",
   "metadata": {},
   "outputs": [
    {
     "name": "stdout",
     "output_type": "stream",
     "text": [
      "I drive Farley around San Francisco in my Prius\n"
     ]
    }
   ],
   "source": [
    "print(\"I drive \" + cat + \" around \" + city + \" in my \" + car)"
   ]
  },
  {
   "cell_type": "code",
   "execution_count": 49,
   "id": "civilian-segment",
   "metadata": {},
   "outputs": [],
   "source": [
    "budget = 5000\n",
    "rent_cost = 5000\n",
    "utilities_cost = 150\n",
    "food_cost = 250\n",
    "transportation_cost = 350\n",
    "computer_cost = 2000"
   ]
  },
  {
   "cell_type": "code",
   "execution_count": 39,
   "id": "going-combine",
   "metadata": {},
   "outputs": [],
   "source": [
    "total_cost = rent_cost + utilities_cost + food_cost + transportation_cost + computer_cost"
   ]
  },
  {
   "cell_type": "code",
   "execution_count": 45,
   "id": "marked-ending",
   "metadata": {},
   "outputs": [
    {
     "name": "stdout",
     "output_type": "stream",
     "text": [
      "You're Over budget by-3250\n"
     ]
    }
   ],
   "source": [
    "if total_cost < budget:\n",
    "    print('Your total cost is '+ str(total_cost))\n",
    "else:\n",
    "    print(\"You're Over budget by\" + str(budget-total_cost))"
   ]
  },
  {
   "cell_type": "code",
   "execution_count": 50,
   "id": "available-discharge",
   "metadata": {},
   "outputs": [
    {
     "name": "stdout",
     "output_type": "stream",
     "text": [
      "The rent is too damn high!\n"
     ]
    }
   ],
   "source": [
    "if rent_cost > (utilities_cost + food_cost + transportation_cost):\n",
    "    print(\"The rent is too damn high!\")\n",
    "else:\n",
    "    print(\"Ahh just right!\")"
   ]
  },
  {
   "cell_type": "code",
   "execution_count": null,
   "id": "african-flood",
   "metadata": {},
   "outputs": [],
   "source": []
  }
 ],
 "metadata": {
  "kernelspec": {
   "display_name": "Python 3",
   "language": "python",
   "name": "python3"
  },
  "language_info": {
   "codemirror_mode": {
    "name": "ipython",
    "version": 3
   },
   "file_extension": ".py",
   "mimetype": "text/x-python",
   "name": "python",
   "nbconvert_exporter": "python",
   "pygments_lexer": "ipython3",
   "version": "3.8.5"
  }
 },
 "nbformat": 4,
 "nbformat_minor": 5
}
