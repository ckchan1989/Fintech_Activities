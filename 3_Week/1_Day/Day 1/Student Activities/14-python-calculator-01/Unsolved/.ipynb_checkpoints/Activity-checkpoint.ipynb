{
 "cells": [
  {
   "cell_type": "code",
   "execution_count": 8,
   "id": "weekly-announcement",
   "metadata": {},
   "outputs": [],
   "source": [
    "def calculate (x,y):\n",
    "    result = 0\n",
    "    z = input(\"What do you want to do: Add, Subtract, Multiply or Divide?\")\n",
    "    if z == \"Add\":\n",
    "        result = x + y\n",
    "    elif z == \"Subtract\":\n",
    "        result = x - y\n",
    "    elif z == \"Multiply\":\n",
    "        result = x * y\n",
    "    elif z == \"Divide\":\n",
    "        result = x / y\n",
    "    else:\n",
    "        print(\"selection not programmed\")\n",
    "    \n",
    "    print(result)"
   ]
  },
  {
   "cell_type": "code",
   "execution_count": 9,
   "id": "opened-cedar",
   "metadata": {},
   "outputs": [
    {
     "name": "stdin",
     "output_type": "stream",
     "text": [
      "What do you want to do: Add, Subtract, Multiply or Divide? Add\n"
     ]
    },
    {
     "name": "stdout",
     "output_type": "stream",
     "text": [
      "15\n"
     ]
    }
   ],
   "source": [
    "calculate(5,10)"
   ]
  },
  {
   "cell_type": "code",
   "execution_count": 10,
   "id": "transparent-child",
   "metadata": {},
   "outputs": [
    {
     "name": "stdin",
     "output_type": "stream",
     "text": [
      "What do you want to do: Add, Subtract, Multiply or Divide? Subtract\n"
     ]
    },
    {
     "name": "stdout",
     "output_type": "stream",
     "text": [
      "-5\n"
     ]
    }
   ],
   "source": [
    "calculate(5,10)"
   ]
  },
  {
   "cell_type": "code",
   "execution_count": 11,
   "id": "loved-electricity",
   "metadata": {},
   "outputs": [
    {
     "name": "stdin",
     "output_type": "stream",
     "text": [
      "What do you want to do: Add, Subtract, Multiply or Divide? Divide\n"
     ]
    },
    {
     "name": "stdout",
     "output_type": "stream",
     "text": [
      "0.5\n"
     ]
    }
   ],
   "source": [
    "calculate(5,10)"
   ]
  },
  {
   "cell_type": "code",
   "execution_count": 12,
   "id": "exterior-congo",
   "metadata": {},
   "outputs": [
    {
     "name": "stdin",
     "output_type": "stream",
     "text": [
      "What do you want to do: Add, Subtract, Multiply or Divide? Multiply\n"
     ]
    },
    {
     "name": "stdout",
     "output_type": "stream",
     "text": [
      "50\n"
     ]
    }
   ],
   "source": [
    "calculate(5,10)"
   ]
  },
  {
   "cell_type": "code",
   "execution_count": null,
   "id": "humanitarian-halloween",
   "metadata": {},
   "outputs": [],
   "source": []
  }
 ],
 "metadata": {
  "kernelspec": {
   "display_name": "Python 3",
   "language": "python",
   "name": "python3"
  },
  "language_info": {
   "codemirror_mode": {
    "name": "ipython",
    "version": 3
   },
   "file_extension": ".py",
   "mimetype": "text/x-python",
   "name": "python",
   "nbconvert_exporter": "python",
   "pygments_lexer": "ipython3",
   "version": "3.8.5"
  }
 },
 "nbformat": 4,
 "nbformat_minor": 5
}
