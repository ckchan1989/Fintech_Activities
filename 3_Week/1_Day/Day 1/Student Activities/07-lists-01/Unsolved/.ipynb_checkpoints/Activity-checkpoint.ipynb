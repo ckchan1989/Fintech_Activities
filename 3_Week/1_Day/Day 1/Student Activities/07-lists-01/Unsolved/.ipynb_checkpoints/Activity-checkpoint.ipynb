{
 "cells": [
  {
   "cell_type": "code",
   "execution_count": 1,
   "id": "constitutional-report",
   "metadata": {},
   "outputs": [],
   "source": [
    "list_1 = [0,1,2,3]"
   ]
  },
  {
   "cell_type": "code",
   "execution_count": 2,
   "id": "insured-coral",
   "metadata": {},
   "outputs": [],
   "source": [
    "list_2 = [4,5,6,7]"
   ]
  },
  {
   "cell_type": "code",
   "execution_count": 3,
   "id": "indian-joseph",
   "metadata": {},
   "outputs": [],
   "source": [
    "list_3 = [8,9,10,11]"
   ]
  },
  {
   "cell_type": "code",
   "execution_count": 4,
   "id": "specified-horizontal",
   "metadata": {},
   "outputs": [],
   "source": [
    "list_4 = [12,13,14,15]"
   ]
  },
  {
   "cell_type": "code",
   "execution_count": 7,
   "id": "norwegian-nepal",
   "metadata": {},
   "outputs": [
    {
     "name": "stdout",
     "output_type": "stream",
     "text": [
      "2\n"
     ]
    }
   ],
   "source": [
    "print(list_1[2])"
   ]
  },
  {
   "cell_type": "code",
   "execution_count": 9,
   "id": "patient-empire",
   "metadata": {},
   "outputs": [
    {
     "name": "stdout",
     "output_type": "stream",
     "text": [
      "4\n"
     ]
    }
   ],
   "source": [
    "print(list_2[0])"
   ]
  },
  {
   "cell_type": "code",
   "execution_count": 10,
   "id": "close-suffering",
   "metadata": {},
   "outputs": [
    {
     "name": "stdout",
     "output_type": "stream",
     "text": [
      "9\n"
     ]
    }
   ],
   "source": [
    "print(list_3[1])"
   ]
  },
  {
   "cell_type": "code",
   "execution_count": 11,
   "id": "fiscal-destination",
   "metadata": {},
   "outputs": [
    {
     "name": "stdout",
     "output_type": "stream",
     "text": [
      "11\n"
     ]
    }
   ],
   "source": [
    "print(list_3[3])"
   ]
  },
  {
   "cell_type": "code",
   "execution_count": null,
   "id": "under-success",
   "metadata": {},
   "outputs": [],
   "source": []
  }
 ],
 "metadata": {
  "kernelspec": {
   "display_name": "Python 3",
   "language": "python",
   "name": "python3"
  },
  "language_info": {
   "codemirror_mode": {
    "name": "ipython",
    "version": 3
   },
   "file_extension": ".py",
   "mimetype": "text/x-python",
   "name": "python",
   "nbconvert_exporter": "python",
   "pygments_lexer": "ipython3",
   "version": "3.8.5"
  }
 },
 "nbformat": 4,
 "nbformat_minor": 5
}
