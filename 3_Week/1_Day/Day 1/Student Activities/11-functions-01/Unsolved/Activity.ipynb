{
 "cells": [
  {
   "cell_type": "code",
   "execution_count": 3,
   "id": "comprehensive-parking",
   "metadata": {},
   "outputs": [],
   "source": [
    "def having_fun():\n",
    "    print(\"Functions are FUN!\")"
   ]
  },
  {
   "cell_type": "code",
   "execution_count": 5,
   "id": "standing-exchange",
   "metadata": {},
   "outputs": [
    {
     "name": "stdout",
     "output_type": "stream",
     "text": [
      "Functions are FUN!\n"
     ]
    }
   ],
   "source": [
    "having_fun()"
   ]
  },
  {
   "cell_type": "code",
   "execution_count": 8,
   "id": "coated-promotion",
   "metadata": {},
   "outputs": [],
   "source": [
    "def thirty_seven(x,y):\n",
    "    print(x + y)"
   ]
  },
  {
   "cell_type": "code",
   "execution_count": 9,
   "id": "alert-dispute",
   "metadata": {},
   "outputs": [
    {
     "name": "stdout",
     "output_type": "stream",
     "text": [
      "37\n"
     ]
    }
   ],
   "source": [
    "thirty_seven(18,19)"
   ]
  },
  {
   "cell_type": "code",
   "execution_count": 10,
   "id": "comprehensive-thanks",
   "metadata": {},
   "outputs": [],
   "source": [
    "def hello(x):\n",
    "    print(x)"
   ]
  },
  {
   "cell_type": "code",
   "execution_count": 12,
   "id": "electric-acoustic",
   "metadata": {},
   "outputs": [
    {
     "name": "stdout",
     "output_type": "stream",
     "text": [
      "Yo\n"
     ]
    }
   ],
   "source": [
    "hello(\"Yo\")"
   ]
  },
  {
   "cell_type": "code",
   "execution_count": 13,
   "id": "exclusive-caution",
   "metadata": {},
   "outputs": [],
   "source": [
    "def user_input(x):\n",
    "    user_name = x\n",
    "    print(user_name)"
   ]
  },
  {
   "cell_type": "code",
   "execution_count": 14,
   "id": "official-north",
   "metadata": {},
   "outputs": [
    {
     "name": "stdout",
     "output_type": "stream",
     "text": [
      "Megan\n"
     ]
    }
   ],
   "source": [
    "user_input(\"Megan\")"
   ]
  },
  {
   "cell_type": "code",
   "execution_count": 17,
   "id": "attempted-madonna",
   "metadata": {},
   "outputs": [],
   "source": [
    "def good_day():\n",
    "    x = input(\"Are you having a good day?\")\n",
    "    print(x)"
   ]
  },
  {
   "cell_type": "code",
   "execution_count": 18,
   "id": "progressive-compilation",
   "metadata": {},
   "outputs": [
    {
     "name": "stdin",
     "output_type": "stream",
     "text": [
      "Are you having a good day? YEs\n"
     ]
    },
    {
     "name": "stdout",
     "output_type": "stream",
     "text": [
      "YEs\n"
     ]
    }
   ],
   "source": [
    "good_day()"
   ]
  },
  {
   "cell_type": "code",
   "execution_count": 21,
   "id": "bulgarian-following",
   "metadata": {},
   "outputs": [],
   "source": [
    "def average(x,y):\n",
    "    calculated_average = (x + y) / 2\n",
    "    print(calculated_average)"
   ]
  },
  {
   "cell_type": "code",
   "execution_count": 22,
   "id": "leading-process",
   "metadata": {},
   "outputs": [
    {
     "name": "stdout",
     "output_type": "stream",
     "text": [
      "15.0\n"
     ]
    }
   ],
   "source": [
    "average(10,20)"
   ]
  },
  {
   "cell_type": "code",
   "execution_count": null,
   "id": "disabled-shame",
   "metadata": {},
   "outputs": [],
   "source": []
  }
 ],
 "metadata": {
  "kernelspec": {
   "display_name": "Python 3",
   "language": "python",
   "name": "python3"
  },
  "language_info": {
   "codemirror_mode": {
    "name": "ipython",
    "version": 3
   },
   "file_extension": ".py",
   "mimetype": "text/x-python",
   "name": "python",
   "nbconvert_exporter": "python",
   "pygments_lexer": "ipython3",
   "version": "3.8.5"
  }
 },
 "nbformat": 4,
 "nbformat_minor": 5
}
