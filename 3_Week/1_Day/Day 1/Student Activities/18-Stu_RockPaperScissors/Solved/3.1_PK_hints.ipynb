{
 "cells": [
  {
   "cell_type": "code",
   "execution_count": null,
   "id": "ceramic-newspaper",
   "metadata": {},
   "outputs": [],
   "source": [
    "# Create a variable named `subject` with no value (None).\n",
    "subject = None\n"
   ]
  },
  {
   "cell_type": "code",
   "execution_count": null,
   "id": "genetic-making",
   "metadata": {},
   "outputs": [],
   "source": [
    "type(subject)"
   ]
  },
  {
   "cell_type": "code",
   "execution_count": 7,
   "id": "handled-creator",
   "metadata": {},
   "outputs": [
    {
     "name": "stdout",
     "output_type": "stream",
     "text": [
      "None\n"
     ]
    }
   ],
   "source": [
    "def python_none():\n",
    "    pass\n",
    "\n",
    "\n",
    "print(python_none())"
   ]
  },
  {
   "cell_type": "code",
   "execution_count": 8,
   "id": "intense-charleston",
   "metadata": {},
   "outputs": [
    {
     "name": "stdout",
     "output_type": "stream",
     "text": [
      "\n"
     ]
    },
    {
     "data": {
      "text/plain": [
       "NoneType"
      ]
     },
     "execution_count": 8,
     "metadata": {},
     "output_type": "execute_result"
    }
   ],
   "source": [
    "type(print())"
   ]
  },
  {
   "cell_type": "code",
   "execution_count": 1,
   "id": "severe-brown",
   "metadata": {},
   "outputs": [
    {
     "name": "stdout",
     "output_type": "stream",
     "text": [
      "See \"spot\" run\n",
      " \"spot\" can't run\n"
     ]
    }
   ],
   "source": [
    "dog = \"spot\"\n",
    "print(f'See \\\"{dog}\" run') \n",
    "print(f' \"{dog}\" can\\'t run') "
   ]
  },
  {
   "cell_type": "code",
   "execution_count": 2,
   "id": "dangerous-constitution",
   "metadata": {},
   "outputs": [
    {
     "name": "stdin",
     "output_type": "stream",
     "text": [
      "gimme a fruit hi\n"
     ]
    }
   ],
   "source": [
    "banana = input(\"gimme a fruit\")"
   ]
  },
  {
   "cell_type": "code",
   "execution_count": 3,
   "id": "surrounded-democrat",
   "metadata": {},
   "outputs": [
    {
     "data": {
      "text/plain": [
       "'hi'"
      ]
     },
     "execution_count": 3,
     "metadata": {},
     "output_type": "execute_result"
    }
   ],
   "source": [
    "banana"
   ]
  },
  {
   "cell_type": "code",
   "execution_count": 4,
   "id": "optical-chance",
   "metadata": {},
   "outputs": [],
   "source": [
    "import random"
   ]
  },
  {
   "cell_type": "code",
   "execution_count": 5,
   "id": "warming-guarantee",
   "metadata": {},
   "outputs": [
    {
     "name": "stdin",
     "output_type": "stream",
     "text": [
      "what is your favourite movie? hello\n"
     ]
    }
   ],
   "source": [
    "favourite_movie = input(\"what is your favourite movie?\")"
   ]
  },
  {
   "cell_type": "code",
   "execution_count": 7,
   "id": "consistent-queens",
   "metadata": {},
   "outputs": [
    {
     "data": {
      "text/plain": [
       "'hello'"
      ]
     },
     "execution_count": 7,
     "metadata": {},
     "output_type": "execute_result"
    }
   ],
   "source": [
    "favourite_movie"
   ]
  },
  {
   "cell_type": "code",
   "execution_count": 8,
   "id": "assigned-treasure",
   "metadata": {},
   "outputs": [],
   "source": [
    "movies = [\"pulp fiction\", \"Hangover\", \"Shark\"]\n"
   ]
  },
  {
   "cell_type": "code",
   "execution_count": 9,
   "id": "expected-tennis",
   "metadata": {},
   "outputs": [
    {
     "data": {
      "text/plain": [
       "['Hangover']"
      ]
     },
     "execution_count": 9,
     "metadata": {},
     "output_type": "execute_result"
    }
   ],
   "source": [
    "random.choices(movies)"
   ]
  },
  {
   "cell_type": "code",
   "execution_count": 10,
   "id": "italic-reviewer",
   "metadata": {},
   "outputs": [
    {
     "name": "stdout",
     "output_type": "stream",
     "text": [
      "['pulp fiction']\n"
     ]
    }
   ],
   "source": [
    "rand_selection = random.choices(movies) \n",
    "print(rand_selection)"
   ]
  },
  {
   "cell_type": "code",
   "execution_count": 11,
   "id": "cordless-motor",
   "metadata": {},
   "outputs": [
    {
     "name": "stdout",
     "output_type": "stream",
     "text": [
      "['Hangover']\n",
      "['Hangover']\n",
      "['Hangover']\n",
      "['Shark']\n"
     ]
    }
   ],
   "source": [
    "for x in range(4):\n",
    "    rand_selection = random.choices(movies) \n",
    "    print(rand_selection) "
   ]
  },
  {
   "cell_type": "code",
   "execution_count": null,
   "id": "curious-claim",
   "metadata": {},
   "outputs": [],
   "source": [
    "\"\"\" :\n",
    "\n",
    "import random\n",
    "\n",
    "print(\"Let's Play Rock Paper Scissors!\")\n",
    "options = [\"r\", \"p\", \"s\"]\n",
    "computer_choice = random.choice(options) \n",
    "# computer generates random choice \n",
    "user_choice = input(\"Make your choice: ( r)ock, (p)aper, (s)cissors?\") \n",
    "# going to accept user input\n",
    "\"\"\""
   ]
  },
  {
   "cell_type": "code",
   "execution_count": null,
   "id": "interesting-creature",
   "metadata": {},
   "outputs": [],
   "source": [
    "#translate r p or s into loss or win for users\n",
    "if user_choice =='r'\":\n",
    "    If computer_choice == 's':\n",
    "        print (\"win\")\n",
    "    If computer_choice == 'p':\n",
    "        print (\"loss\")\n",
    "    if computer_choice == 'r':\n",
    "        print (\"tie\")\n"
   ]
  },
  {
   "cell_type": "code",
   "execution_count": null,
   "id": "leading-income",
   "metadata": {},
   "outputs": [],
   "source": [
    "#rotate what we're trying to do.\n",
    "if user_choice =='s'\":\n",
    "    if computer_choice == 's':\n",
    "        print (\"tie\")\n",
    "    if computer_choice == 'p':\n",
    "        print (\"win\")\n",
    "    if computer_choice == 'r':\n",
    "        print (\"loss\")\n",
    "\n",
    "if user_choice =='p'\":\n",
    "    if computer_choice == 's':\n",
    "        print (\"loss\")\n",
    "    if computer_choice == 'p':\n",
    "        print (\"tie\")\n",
    "    if computer_choice == 'r':\n",
    "        print (\"win\")\n"
   ]
  },
  {
   "cell_type": "code",
   "execution_count": null,
   "id": "packed-anderson",
   "metadata": {},
   "outputs": [],
   "source": [
    "#optimize code for ties\n",
    "if user_choice =='r'\":\n",
    "    If computer_choice == 's':\n",
    "        print (\"win\")\n",
    "    If computer_choice == 'p':\n",
    "        print (\"loss\")\n",
    "    \n",
    "        \n",
    "if user_choice =='s'\":\n",
    "    \n",
    "    if computer_choice == 'p':\n",
    "        print (\"win\")\n",
    "    if computer_choice == 'r':\n",
    "        print (\"loss\")\n",
    "\n",
    "if user_choice =='p'\":\n",
    "    if computer_choice == 's':\n",
    "        print (\"loss\")\n",
    "   \n",
    "    if computer_choice == 'r':\n",
    "        print (\"win\")\n",
    "        \n",
    "else:\n",
    "    print(\"tie\")\n"
   ]
  },
  {
   "cell_type": "code",
   "execution_count": null,
   "id": "controlling-slovakia",
   "metadata": {},
   "outputs": [],
   "source": [
    "# write a function\n",
    "import random\n",
    "\n",
    "options = ['r', 'p', 's']"
   ]
  },
  {
   "cell_type": "code",
   "execution_count": 33,
   "id": "satisfactory-defendant",
   "metadata": {
    "jupyter": {
     "source_hidden": true
    }
   },
   "outputs": [],
   "source": [
    "# keep rules separate to constants\n",
    "\n",
    "def decide_winner(user_choice, computer_choice):\n",
    "    print(f\"computer's choice is {computer_choice}\")\n",
    "    print(f\"user's choice is {user_choice}\")\n",
    "    if user_choice =='r':\n",
    "        if computer_choice == 's':\n",
    "            print (\"win\")\n",
    "        if computer_choice == 'p':\n",
    "            print (\"loss\")\n",
    "    \n",
    "        \n",
    "    if user_choice =='s':\n",
    "    \n",
    "        if computer_choice == 'p':\n",
    "            print (\"win\")\n",
    "        if computer_choice == 'r':\n",
    "            print (\"loss\")\n",
    "\n",
    "    if user_choice =='p':\n",
    "        if computer_choice == 's':\n",
    "            print (\"loss\")\n",
    "   \n",
    "        if computer_choice == 'r':\n",
    "            print (\"win\")\n",
    "        \n",
    "    else:\n",
    "        print(\"tie\")"
   ]
  },
  {
   "cell_type": "code",
   "execution_count": 37,
   "id": "expired-entrepreneur",
   "metadata": {
    "collapsed": true,
    "jupyter": {
     "outputs_hidden": true
    }
   },
   "outputs": [
    {
     "name": "stdout",
     "output_type": "stream",
     "text": [
      "Let's Play Rock Paper Scissors!\n"
     ]
    },
    {
     "name": "stdin",
     "output_type": "stream",
     "text": [
      "Make your choice: ( r)ock, (p)aper, (s)cissors? 3\n"
     ]
    },
    {
     "name": "stdout",
     "output_type": "stream",
     "text": [
      "computer's choice is s\n",
      "user's choice is 3\n",
      "tie\n"
     ]
    }
   ],
   "source": [
    "print(\"Let's Play Rock Paper Scissors!\")\n",
    "\n",
    "computer = random.choice(options) \n",
    "# computer generates random choice \n",
    "user = input(\"Make your choice: ( r)ock, (p)aper, (s)cissors?\") \n",
    "#print(f\"computer's choice is {computer_choice}\")\n",
    "#print(f\"user's choice is {user_choice}\")\n",
    "decide_winner(user, computer)\n"
   ]
  },
  {
   "cell_type": "code",
   "execution_count": 42,
   "id": "plain-registrar",
   "metadata": {
    "jupyter": {
     "source_hidden": true
    }
   },
   "outputs": [],
   "source": [
    "# catch all ties in beginning\n",
    "\n",
    "def decide_winner(user_choice, computer_choice):\n",
    "    print(f\"computer's choice is {computer_choice}\")\n",
    "    print(f\"user's choice is {user_choice}\")\n",
    "    if user_choice == computer_choice:\n",
    "        print(\"tie\")\n",
    "\n",
    "    if user_choice =='r':\n",
    "        if computer_choice == 's':\n",
    "            print (\"win\")\n",
    "        if computer_choice == 'p':\n",
    "            print (\"loss\")\n",
    "    \n",
    "        \n",
    "    if user_choice =='s':\n",
    "    \n",
    "        if computer_choice == 'p':\n",
    "            print (\"win\")\n",
    "        if computer_choice == 'r':\n",
    "            print (\"loss\")\n",
    "\n",
    "    if user_choice =='p':\n",
    "        if computer_choice == 's':\n",
    "            print (\"loss\")\n",
    "   \n",
    "        if computer_choice == 'r':\n",
    "            print (\"win\")"
   ]
  },
  {
   "cell_type": "code",
   "execution_count": 49,
   "id": "stable-brown",
   "metadata": {
    "jupyter": {
     "source_hidden": true
    }
   },
   "outputs": [],
   "source": [
    "# elif stamements added & sanitized user inputs\n",
    "\n",
    "def decide_winner(user_choice, computer_choice):\n",
    "    print(f\"computer's choice is {computer_choice}\")\n",
    "    print(f\"user's choice is {user_choice}\")\n",
    "    if user_choice == computer_choice:\n",
    "        print(\"tie\")\n",
    "\n",
    "    elif user_choice =='r':\n",
    "        if computer_choice == 's':\n",
    "            print (\"win\")\n",
    "        if computer_choice == 'p':\n",
    "            print (\"loss\")\n",
    "    \n",
    "        \n",
    "    elif user_choice =='s':\n",
    "    \n",
    "        if computer_choice == 'p':\n",
    "            print (\"win\")\n",
    "        if computer_choice == 'r':\n",
    "            print (\"loss\")\n",
    "\n",
    "    elif user_choice =='p':\n",
    "        if computer_choice == 's':\n",
    "            print (\"loss\")\n",
    "   \n",
    "        if computer_choice == 'r':\n",
    "            print (\"win\")\n",
    "            \n",
    "    else:\n",
    "        print(\"please give valid input \")\n"
   ]
  },
  {
   "cell_type": "code",
   "execution_count": 50,
   "id": "close-syria",
   "metadata": {
    "jupyter": {
     "source_hidden": true
    }
   },
   "outputs": [
    {
     "name": "stdout",
     "output_type": "stream",
     "text": [
      "Let's Play Rock Paper Scissors!\n"
     ]
    },
    {
     "name": "stdin",
     "output_type": "stream",
     "text": [
      "Make your choice: ( r)ock, (p)aper, (s)cissors? 3\n"
     ]
    },
    {
     "name": "stdout",
     "output_type": "stream",
     "text": [
      "computer's choice is s\n",
      "user's choice is 3\n",
      "please give valid input \n"
     ]
    }
   ],
   "source": [
    "print(\"Let's Play Rock Paper Scissors!\")\n",
    "\n",
    "computer = random.choice(options) \n",
    "# computer generates random choice \n",
    "user = input(\"Make your choice: ( r)ock, (p)aper, (s)cissors?\") \n",
    "#print(f\"computer's choice is {computer_choice}\")\n",
    "#print(f\"user's choice is {user_choice}\")\n",
    "decide_winner(user, computer)\n"
   ]
  },
  {
   "cell_type": "code",
   "execution_count": 55,
   "id": "cellular-portal",
   "metadata": {
    "collapsed": true,
    "jupyter": {
     "outputs_hidden": true
    }
   },
   "outputs": [
    {
     "name": "stdout",
     "output_type": "stream",
     "text": [
      "Let's Play Rock Paper Scissors!\n"
     ]
    },
    {
     "name": "stdin",
     "output_type": "stream",
     "text": [
      "Make your choice: ( r)ock, (p)aper, (s)cissors? s\n"
     ]
    },
    {
     "name": "stdout",
     "output_type": "stream",
     "text": [
      "computer's choice is p\n",
      "user's choice is s\n",
      "win\n"
     ]
    },
    {
     "name": "stdin",
     "output_type": "stream",
     "text": [
      "Make your choice: ( r)ock, (p)aper, (s)cissors? p\n"
     ]
    },
    {
     "name": "stdout",
     "output_type": "stream",
     "text": [
      "computer's choice is p\n",
      "user's choice is p\n",
      "tie\n"
     ]
    },
    {
     "ename": "KeyboardInterrupt",
     "evalue": "Interrupted by user",
     "output_type": "error",
     "traceback": [
      "\u001b[0;31m---------------------------------------------------------------------------\u001b[0m",
      "\u001b[0;31mKeyboardInterrupt\u001b[0m                         Traceback (most recent call last)",
      "\u001b[0;32m<ipython-input-55-0fd50a8b792e>\u001b[0m in \u001b[0;36m<module>\u001b[0;34m\u001b[0m\n\u001b[1;32m      4\u001b[0m         \u001b[0mcomputer\u001b[0m \u001b[0;34m=\u001b[0m \u001b[0mrandom\u001b[0m\u001b[0;34m.\u001b[0m\u001b[0mchoice\u001b[0m\u001b[0;34m(\u001b[0m\u001b[0moptions\u001b[0m\u001b[0;34m)\u001b[0m\u001b[0;34m\u001b[0m\u001b[0;34m\u001b[0m\u001b[0m\n\u001b[1;32m      5\u001b[0m \u001b[0;31m# computer generates random choice\u001b[0m\u001b[0;34m\u001b[0m\u001b[0;34m\u001b[0m\u001b[0;34m\u001b[0m\u001b[0m\n\u001b[0;32m----> 6\u001b[0;31m         \u001b[0muser\u001b[0m \u001b[0;34m=\u001b[0m \u001b[0minput\u001b[0m\u001b[0;34m(\u001b[0m\u001b[0;34m\"Make your choice: ( r)ock, (p)aper, (s)cissors?\"\u001b[0m\u001b[0;34m)\u001b[0m\u001b[0;34m\u001b[0m\u001b[0;34m\u001b[0m\u001b[0m\n\u001b[0m\u001b[1;32m      7\u001b[0m \u001b[0;31m#print(f\"computer's choice is {computer_choice}\")\u001b[0m\u001b[0;34m\u001b[0m\u001b[0;34m\u001b[0m\u001b[0;34m\u001b[0m\u001b[0m\n\u001b[1;32m      8\u001b[0m \u001b[0;31m#print(f\"user's choice is {user_choice}\")\u001b[0m\u001b[0;34m\u001b[0m\u001b[0;34m\u001b[0m\u001b[0;34m\u001b[0m\u001b[0m\n",
      "\u001b[0;32m~/opt/anaconda3/lib/python3.8/site-packages/ipykernel/kernelbase.py\u001b[0m in \u001b[0;36mraw_input\u001b[0;34m(self, prompt)\u001b[0m\n\u001b[1;32m    858\u001b[0m                 \u001b[0;34m\"raw_input was called, but this frontend does not support input requests.\"\u001b[0m\u001b[0;34m\u001b[0m\u001b[0;34m\u001b[0m\u001b[0m\n\u001b[1;32m    859\u001b[0m             )\n\u001b[0;32m--> 860\u001b[0;31m         return self._input_request(str(prompt),\n\u001b[0m\u001b[1;32m    861\u001b[0m             \u001b[0mself\u001b[0m\u001b[0;34m.\u001b[0m\u001b[0m_parent_ident\u001b[0m\u001b[0;34m,\u001b[0m\u001b[0;34m\u001b[0m\u001b[0;34m\u001b[0m\u001b[0m\n\u001b[1;32m    862\u001b[0m             \u001b[0mself\u001b[0m\u001b[0;34m.\u001b[0m\u001b[0m_parent_header\u001b[0m\u001b[0;34m,\u001b[0m\u001b[0;34m\u001b[0m\u001b[0;34m\u001b[0m\u001b[0m\n",
      "\u001b[0;32m~/opt/anaconda3/lib/python3.8/site-packages/ipykernel/kernelbase.py\u001b[0m in \u001b[0;36m_input_request\u001b[0;34m(self, prompt, ident, parent, password)\u001b[0m\n\u001b[1;32m    902\u001b[0m             \u001b[0;32mexcept\u001b[0m \u001b[0mKeyboardInterrupt\u001b[0m\u001b[0;34m:\u001b[0m\u001b[0;34m\u001b[0m\u001b[0;34m\u001b[0m\u001b[0m\n\u001b[1;32m    903\u001b[0m                 \u001b[0;31m# re-raise KeyboardInterrupt, to truncate traceback\u001b[0m\u001b[0;34m\u001b[0m\u001b[0;34m\u001b[0m\u001b[0;34m\u001b[0m\u001b[0m\n\u001b[0;32m--> 904\u001b[0;31m                 \u001b[0;32mraise\u001b[0m \u001b[0mKeyboardInterrupt\u001b[0m\u001b[0;34m(\u001b[0m\u001b[0;34m\"Interrupted by user\"\u001b[0m\u001b[0;34m)\u001b[0m \u001b[0;32mfrom\u001b[0m \u001b[0;32mNone\u001b[0m\u001b[0;34m\u001b[0m\u001b[0;34m\u001b[0m\u001b[0m\n\u001b[0m\u001b[1;32m    905\u001b[0m             \u001b[0;32mexcept\u001b[0m \u001b[0mException\u001b[0m \u001b[0;32mas\u001b[0m \u001b[0me\u001b[0m\u001b[0;34m:\u001b[0m\u001b[0;34m\u001b[0m\u001b[0;34m\u001b[0m\u001b[0m\n\u001b[1;32m    906\u001b[0m                 \u001b[0mself\u001b[0m\u001b[0;34m.\u001b[0m\u001b[0mlog\u001b[0m\u001b[0;34m.\u001b[0m\u001b[0mwarning\u001b[0m\u001b[0;34m(\u001b[0m\u001b[0;34m\"Invalid Message:\"\u001b[0m\u001b[0;34m,\u001b[0m \u001b[0mexc_info\u001b[0m\u001b[0;34m=\u001b[0m\u001b[0;32mTrue\u001b[0m\u001b[0;34m)\u001b[0m\u001b[0;34m\u001b[0m\u001b[0;34m\u001b[0m\u001b[0m\n",
      "\u001b[0;31mKeyboardInterrupt\u001b[0m: Interrupted by user"
     ]
    }
   ],
   "source": [
    "### play 5 times\n",
    "print(\"Let's Play Rock Paper Scissors!\")\n",
    "for x in range(5):\n",
    "        computer = random.choice(options) \n",
    " \n",
    "        user = input(\"Make your choice: ( r)ock, (p)aper, (s)cissors?\") \n",
    "\n",
    "        decide_winner(user, computer)\n"
   ]
  },
  {
   "cell_type": "code",
   "execution_count": 59,
   "id": "modular-kenya",
   "metadata": {
    "jupyter": {
     "source_hidden": true
    }
   },
   "outputs": [],
   "source": [
    "# restart if tie\n",
    "\n",
    "def decide_winner(user_choice, computer_choice):\n",
    "    print(f\"computer's choice is {computer_choice}\")\n",
    "    print(f\"user's choice is {user_choice}\")\n",
    "    if user_choice == computer_choice:\n",
    "        return tie\n",
    "\n",
    "    elif user_choice =='r':\n",
    "        if computer_choice == 's':\n",
    "            return \"win\"\n",
    "        if computer_choice == 'p':\n",
    "            return \"loss\"\n",
    "    \n",
    "        \n",
    "    elif user_choice =='s':\n",
    "    \n",
    "        if computer_choice == 'p':\n",
    "            return \"win\"\n",
    "        if computer_choice == 'r':\n",
    "            return \"loss\"\n",
    "\n",
    "    elif user_choice =='p':\n",
    "        if computer_choice == 's':\n",
    "            return \"loss\"\n",
    "   \n",
    "        if computer_choice == 'r':\n",
    "            return \"win\"\n",
    "            \n",
    "    else:\n",
    "        print(\"please give valid input \")\n"
   ]
  },
  {
   "cell_type": "code",
   "execution_count": 60,
   "id": "satisfactory-ghost",
   "metadata": {
    "jupyter": {
     "source_hidden": true
    }
   },
   "outputs": [
    {
     "name": "stdout",
     "output_type": "stream",
     "text": [
      "Let's Play Rock Paper Scissors!\n"
     ]
    },
    {
     "name": "stdin",
     "output_type": "stream",
     "text": [
      "Make your choice: ( r)ock, (p)aper, (s)cissors? r\n"
     ]
    },
    {
     "name": "stdout",
     "output_type": "stream",
     "text": [
      "computer's choice is s\n",
      "user's choice is r\n",
      "win\n"
     ]
    },
    {
     "name": "stdin",
     "output_type": "stream",
     "text": [
      "Make your choice: ( r)ock, (p)aper, (s)cissors? 3\n"
     ]
    },
    {
     "name": "stdout",
     "output_type": "stream",
     "text": [
      "computer's choice is s\n",
      "user's choice is 3\n",
      "please give valid input \n",
      "None\n"
     ]
    },
    {
     "name": "stdin",
     "output_type": "stream",
     "text": [
      "Make your choice: ( r)ock, (p)aper, (s)cissors? p\n"
     ]
    },
    {
     "name": "stdout",
     "output_type": "stream",
     "text": [
      "computer's choice is s\n",
      "user's choice is p\n",
      "loss\n"
     ]
    },
    {
     "name": "stdin",
     "output_type": "stream",
     "text": [
      "Make your choice: ( r)ock, (p)aper, (s)cissors? p\n"
     ]
    },
    {
     "name": "stdout",
     "output_type": "stream",
     "text": [
      "computer's choice is s\n",
      "user's choice is p\n",
      "loss\n"
     ]
    },
    {
     "name": "stdin",
     "output_type": "stream",
     "text": [
      "Make your choice: ( r)ock, (p)aper, (s)cissors? p\n"
     ]
    },
    {
     "name": "stdout",
     "output_type": "stream",
     "text": [
      "computer's choice is s\n",
      "user's choice is p\n",
      "loss\n"
     ]
    }
   ],
   "source": [
    "### store decision into another value and restart if tie\n",
    "print(\"Let's Play Rock Paper Scissors!\")\n",
    "for x in range(5):\n",
    "        computer = random.choice(options) \n",
    "        user = input(\"Make your choice: ( r)ock, (p)aper, (s)cissors?\") \n",
    "\n",
    "        result = decide_winner(user, computer)\n",
    "        if result == 'tie':\n",
    "            print(decide_winner(user, computer))\n",
    "        else:\n",
    "            print(result)\n",
    "\n"
   ]
  },
  {
   "cell_type": "code",
   "execution_count": null,
   "id": "silent-colombia",
   "metadata": {},
   "outputs": [],
   "source": []
  }
 ],
 "metadata": {
  "kernelspec": {
   "display_name": "Python 3",
   "language": "python",
   "name": "python3"
  },
  "language_info": {
   "codemirror_mode": {
    "name": "ipython",
    "version": 3
   },
   "file_extension": ".py",
   "mimetype": "text/x-python",
   "name": "python",
   "nbconvert_exporter": "python",
   "pygments_lexer": "ipython3",
   "version": "3.8.5"
  }
 },
 "nbformat": 4,
 "nbformat_minor": 5
}
