{
 "cells": [
  {
   "cell_type": "code",
   "execution_count": 1,
   "id": "motivated-compromise",
   "metadata": {},
   "outputs": [
    {
     "data": {
      "text/plain": [
       "'\\nSet up an input\\nSet up a random selection\\nCompare the two using if and elif\\n'"
      ]
     },
     "execution_count": 1,
     "metadata": {},
     "output_type": "execute_result"
    }
   ],
   "source": [
    "'''\n",
    "Set up an input\n",
    "Set up a random selection\n",
    "Compare the two using if and elif\n",
    "'''"
   ]
  },
  {
   "cell_type": "code",
   "execution_count": 32,
   "id": "treated-huntington",
   "metadata": {},
   "outputs": [
    {
     "name": "stdin",
     "output_type": "stream",
     "text": [
      "r,p or s s\n"
     ]
    }
   ],
   "source": [
    "#user_input = input(\"r,p or s\")\n",
    "choice = 'y'"
   ]
  },
  {
   "cell_type": "code",
   "execution_count": 17,
   "id": "realistic-ensemble",
   "metadata": {},
   "outputs": [],
   "source": [
    "import random\n",
    "computer_list = [\"r\",\"p\",\"s\"]"
   ]
  },
  {
   "cell_type": "code",
   "execution_count": 43,
   "id": "functioning-sleep",
   "metadata": {},
   "outputs": [
    {
     "name": "stdin",
     "output_type": "stream",
     "text": [
      "r,p or s s\n"
     ]
    },
    {
     "name": "stdout",
     "output_type": "stream",
     "text": [
      "User lost s loses r\n"
     ]
    },
    {
     "name": "stdin",
     "output_type": "stream",
     "text": [
      "Play again? y - yes ; n - no y\n",
      "r,p or s p\n"
     ]
    },
    {
     "name": "stdout",
     "output_type": "stream",
     "text": [
      "Tie p same as p\n"
     ]
    },
    {
     "name": "stdin",
     "output_type": "stream",
     "text": [
      "Play again? y - yes ; n - no n\n"
     ]
    }
   ],
   "source": [
    "choice = 'y'\n",
    "while choice == 'y':\n",
    "    comp_rand = random.choice(computer_list)\n",
    "    user_input = input(\"r,p or s\")\n",
    "    if user_input == comp_rand:\n",
    "        print(f'Tie {user_input} same as {comp_rand}')\n",
    "    elif user_input == 'r'and comp_rand == 's':\n",
    "        print(f'User wins {user_input} beats {comp_rand}')\n",
    "    elif user_input == 'r'and comp_rand == 'p':\n",
    "        print(f'User lost {user_input} loses {comp_rand}')\n",
    "    elif user_input == 'p'and comp_rand == 'r':\n",
    "        print(f'User wins {user_input} beats {comp_rand}')\n",
    "    elif user_input == 'p'and comp_rand == 's':\n",
    "        print(f'User lost {user_input} loses {comp_rand}')\n",
    "    elif user_input == 's'and comp_rand == 'p':\n",
    "        print(f'User wins {user_input} beats {comp_rand}')\n",
    "    elif user_input == 's'and comp_rand == 'r':\n",
    "        print(f'User lost {user_input} loses {comp_rand}')\n",
    "    choice = input(\"Play again? y - yes ; n - no\")"
   ]
  },
  {
   "cell_type": "code",
   "execution_count": null,
   "id": "organized-steal",
   "metadata": {},
   "outputs": [],
   "source": []
  }
 ],
 "metadata": {
  "kernelspec": {
   "display_name": "Python 3",
   "language": "python",
   "name": "python3"
  },
  "language_info": {
   "codemirror_mode": {
    "name": "ipython",
    "version": 3
   },
   "file_extension": ".py",
   "mimetype": "text/x-python",
   "name": "python",
   "nbconvert_exporter": "python",
   "pygments_lexer": "ipython3",
   "version": "3.8.5"
  }
 },
 "nbformat": 4,
 "nbformat_minor": 5
}
