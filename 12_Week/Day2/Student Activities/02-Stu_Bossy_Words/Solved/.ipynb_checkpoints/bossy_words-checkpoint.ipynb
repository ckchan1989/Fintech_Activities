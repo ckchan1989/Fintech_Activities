{
 "cells": [
  {
   "cell_type": "markdown",
   "metadata": {},
   "source": [
    " # Who are the Bossy Words?\n",
    "\n",
    "In this activity you will use TF-IDF to find the most relevant words in news articles that talk about money in the [Reuters Corpus](https://www.nltk.org/book/ch02.html#reuters-corpus) bundled in `NLTK`. Once you find the most relevant words, you should create a word cloud."
   ]
  },
  {
   "cell_type": "code",
   "execution_count": 1,
   "metadata": {},
   "outputs": [
    {
     "name": "stderr",
     "output_type": "stream",
     "text": [
      "\n",
      "Bad key \"text.kerning_factor\" on line 4 in\n",
      "/usr/local/Caskroom/miniconda/base/envs/pyvizenv/lib/python3.7/site-packages/matplotlib/mpl-data/stylelib/_classic_test_patch.mplstyle.\n",
      "You probably need to get an updated matplotlibrc file from\n",
      "http://github.com/matplotlib/matplotlib/blob/master/matplotlibrc.template\n",
      "or from the matplotlib source distribution\n"
     ]
    }
   ],
   "source": [
    "# initial imports\n",
    "import nltk\n",
    "from nltk.corpus import reuters\n",
    "import numpy as np\n",
    "import pandas as pd\n",
    "from wordcloud import WordCloud\n",
    "import matplotlib.pyplot as plt\n",
    "import matplotlib as mpl\n",
    "from sklearn.feature_extraction.text import CountVectorizer\n",
    "from sklearn.feature_extraction.text import TfidfVectorizer\n",
    "\n",
    "plt.style.use(\"seaborn-whitegrid\")\n",
    "mpl.rcParams[\"figure.figsize\"] = [20.0, 10.0]\n"
   ]
  },
  {
   "cell_type": "markdown",
   "metadata": {},
   "source": [
    " ## Loading the Reuters Corpus\n",
    "\n",
    " The first step is to load the Reuters Corpus."
   ]
  },
  {
   "cell_type": "code",
   "execution_count": 2,
   "metadata": {},
   "outputs": [
    {
     "name": "stderr",
     "output_type": "stream",
     "text": [
      "[nltk_data] Downloading package reuters to\n",
      "[nltk_data]     /Users/pankajkumar/nltk_data...\n",
      "[nltk_data]   Package reuters is already up-to-date!\n"
     ]
    },
    {
     "data": {
      "text/plain": [
       "True"
      ]
     },
     "execution_count": 2,
     "metadata": {},
     "output_type": "execute_result"
    }
   ],
   "source": [
    "# Download/update the Reuters dataset\n",
    "nltk.download(\"reuters\")\n"
   ]
  },
  {
   "cell_type": "markdown",
   "metadata": {},
   "source": [
    " ## Getting the News About Money\n",
    "\n",
    " You will analyze only news that talks about _money_. There are two categories in the Reuters Corpus that talk about money: `money-fx` and `money-supply`. In this section, you will filter the news by these categories.\n",
    "\n",
    " Take a look into the [Reuters Corpus documentation](https://www.nltk.org/book/ch02.html#reuters-corpus) and check how you can retrieve the categories of a document using the `reuters.categories()` method; write some lines of code to retrieve all the news articles that are under the `money-fx` or the `money-supply` categories.\n",
    "\n",
    " **Hint:**\n",
    " You can use a comprehension list or a for-loop to accomplish this task."
   ]
  },
  {
   "cell_type": "code",
   "execution_count": 3,
   "metadata": {},
   "outputs": [
    {
     "name": "stdout",
     "output_type": "stream",
     "text": [
      "Total number of news articles about money: 883\n"
     ]
    }
   ],
   "source": [
    "# Getting all documents ids under the money-fx and money-supply categories\n",
    "categories = [\"money-fx\", \"money-supply\"]\n",
    "all_docs_id = reuters.fileids()\n",
    "money_news_ids = [\n",
    "    doc\n",
    "    for doc in all_docs_id\n",
    "    if categories[0] in reuters.categories(doc)\n",
    "    or categories[1] in reuters.categories(doc)\n",
    "]\n",
    "\n",
    "print(f\"Total number of news articles about money: {len(money_news_ids)}\")\n",
    "\n"
   ]
  },
  {
   "cell_type": "code",
   "execution_count": 4,
   "metadata": {},
   "outputs": [
    {
     "name": "stdout",
     "output_type": "stream",
     "text": [
      "u.s. banks likely to lift prime rates again soon\n",
      "  major u.s. banks may lift prime\n",
      "  lending rates again within days due to recent increases in\n",
      "  their borrowing costs and speculation the federal reserve is\n",
      "  nudging up interest rates to help the dollar, economists said.\n",
      "      in what was the first prime rate boost since mid-1984, most\n",
      "  banks in early april lifted their rates a quarter point to\n",
      "  7-3/4 pct, citing a reduced gap between the prime and their own\n",
      "  cost of money. that spread has narrowed again.\n",
      "      \"a prime rate increase could happen as soon as tonight,\"\n",
      "  said robert brusca of nikko securities co international inc.\n",
      "      brusca said a quarter-point prime rate rise to eight pct is\n",
      "  justified because the spread between banks' cost of funds and\n",
      "  the prime rate has narrowed to less than three quarters of a\n",
      "  percentage point.\n",
      "      he said that spread had averaged around 1.4 percentage\n",
      "  points since last october until it fell below one point and\n",
      "  triggered the april prime rate rise at most banks.\n",
      "      \"we could easily have another prime rate increase as soon\n",
      "  as this week,\" said david jones of aubrey g. lanston and co.\n",
      "      \"we've got a fairly good chance of a prime rate rise in the\n",
      "  near future,\" said allan leslie of discount corp.\n",
      "      \"based on the spread between the prime rate and funding\n",
      "  costs, you would ordinarily see a prime rate increase now,\"\n",
      "  said harold nathan, economist at wells fargo bank.\n",
      "      however, he said banks may be reluctant to lift the prime\n",
      "  because that would dampen already fairly weak business loan\n",
      "  demand and because some are not sure the fed will maintain\n",
      "  recent upward pressure on money market interest rates.\n",
      "      nathan believes the fed has let market pressures lift\n",
      "  short-term rates in recent days to help the ailing dollar. he\n",
      "  said \"if there is widespread belief money market rates will\n",
      "  stay high, a prime rate rise could occur at any time.\"\n",
      "      fed officials have long expressed concern that too steep a\n",
      "  dollar drop could help rekindle u.s. inflation. as the dollar\n",
      "  fell to a 40-year low against the yen friday, currency traders\n",
      "  said the fed and other central banks supported the dollar.\n",
      "      in addition to buying dollars outright, another way to\n",
      "  stabilize the u.s. currency would be for the fed to push u.s.\n",
      "  interest rates higher relative to overseas rates.\n",
      "      based particularly on the fed's reserve management actions\n",
      "  on friday and today, nathan of wells fargo said \"it has become\n",
      "  clear that the fed is not fully resisting upward rate pressure\n",
      "  in the market. it is supplying fewer reserves than are needed.\"\n",
      "      bank funding costs and other short and long-term interest\n",
      "  rates rose sharply friday and today on heightened speculation\n",
      "  that the fed is gently firming monetary policy.\n",
      "      that was because the fed supplied far fewer reserves in the\n",
      "  market than most economists had expected.\n",
      "      on friday, the fed added reserves indirectly and in small\n",
      "  amounts via one billion dlrs of customer repurchase agreements\n",
      "  with the federal funds rate at which banks lend to one another\n",
      "  high at 6-5/16 pct. with funds trading even higher at 6-1/2 pct\n",
      "  today, the fed arranged only a slightly larger 1.5 billion dlr\n",
      "  round of customer repurchase agreements.\n",
      "      \"the fed's actions on friday and today show that it is\n",
      "  offering only token resistance to upward funds rate pressures,\"\n",
      "  said jones of lanston.\n",
      "      \"the fed is focusing its policy attention mainly on the\n",
      "  need to defend the dollar,\" jones said. he believes it is\n",
      "  merely shading policy toward restraint now, \"but to have a\n",
      "  major impact on the dollar, the fed will have to tighten policy\n",
      "  overtly at some point.\"\n",
      "      jones expects the fed to foster higher market rates by\n",
      "  becoming more restrictive in supplying reserves and, within\n",
      "  four to six weeks, to raise its discount rate from 5-1/2 pct.\n",
      "      jones said a u.s. discount rate increase to six pct might\n",
      "  well be accompanied by west german and japanese rate cuts to\n",
      "  further aid the dollar.\n",
      "      given likely fed policy firming, he said both the yield on\n",
      "  30-year treasury bonds (about 8.30 pct now) and the prime rate\n",
      "  may be at 8-1/2 pct at end-june and nine pct by year's end.\n",
      "      \"the jury is still out on whether the fed is tightening\n",
      "  policy to defend the dollar,\" said leslie of discount corp. he\n",
      "  said tax-date pressures have been pushing up fed funds lately.\n",
      "  leslie said fed actions and reserve data once these pressures\n",
      "  abate will show whether or not it is firming policy.  \n",
      "  \n",
      "\n",
      "\n"
     ]
    }
   ],
   "source": [
    "# Creating the working corpus containing the text from all the news articles about money\n",
    "money_news = [reuters.raw(doc).lower() for doc in money_news_ids]\n",
    "\n",
    "# Printing a sample article\n",
    "print(money_news[78])\n"
   ]
  },
  {
   "cell_type": "markdown",
   "metadata": {},
   "source": [
    " ## Calculating the TF-IDF Weights\n",
    "\n",
    " Calculate the TF-IDF weight for each word in the working corpus using the `TfidfVectorizer()` class. Remember to include the `stop_words='english'` parameter."
   ]
  },
  {
   "cell_type": "code",
   "execution_count": 13,
   "metadata": {},
   "outputs": [
    {
     "name": "stdout",
     "output_type": "stream",
     "text": [
      "  (0, 5050)\t0.06325662588113251\n",
      "  (0, 5353)\t0.05689945732585045\n",
      "  (0, 4763)\t0.07381188242433397\n",
      "  (0, 3029)\t0.07381188242433397\n",
      "  (0, 6684)\t0.04497437210556543\n",
      "  (0, 6079)\t0.04984008505880271\n",
      "  (0, 4450)\t0.028823566372895064\n",
      "  (0, 2107)\t0.07116089370720294\n",
      "  (0, 7206)\t0.05465807830218424\n",
      "  (0, 4805)\t0.07970741911065021\n",
      "  (0, 5366)\t0.033079914571842006\n",
      "  (0, 6379)\t0.18606090722733962\n",
      "  (0, 3723)\t0.08713491692735356\n",
      "  (0, 4690)\t0.058164618630512976\n",
      "  (0, 4209)\t0.05545865751314891\n",
      "  (0, 911)\t0.04457959176834987\n",
      "  (0, 5970)\t0.0770564303935192\n",
      "  (0, 2585)\t0.08295196707983545\n",
      "  (0, 1378)\t0.10310894014750417\n",
      "  (0, 805)\t0.10310894014750417\n",
      "  (0, 5135)\t0.06422633064032203\n",
      "  (0, 3914)\t0.08295196707983545\n",
      "  (0, 2158)\t0.07504043900260426\n",
      "  (0, 5000)\t0.09303045361366981\n",
      "  (0, 2952)\t0.0770564303935192\n",
      "  :\t:\n",
      "  (881, 2150)\t0.021982059614936284\n",
      "  (881, 272)\t0.030174229335705124\n",
      "  (881, 6761)\t0.031226157835824473\n",
      "  (881, 4270)\t0.04809278978173544\n",
      "  (881, 1353)\t0.04308673131604948\n",
      "  (881, 1510)\t0.21725545515579517\n",
      "  (882, 4601)\t0.3377000898907087\n",
      "  (882, 392)\t0.25237349383402086\n",
      "  (882, 423)\t0.213755634585835\n",
      "  (882, 4699)\t0.2257236498654645\n",
      "  (882, 6083)\t0.2357865439023603\n",
      "  (882, 2734)\t0.18441181544196417\n",
      "  (882, 5763)\t0.3264702591344723\n",
      "  (882, 4469)\t0.16323512956723615\n",
      "  (882, 801)\t0.17734380545459985\n",
      "  (882, 6622)\t0.21035263867089735\n",
      "  (882, 6080)\t0.3076913101529067\n",
      "  (882, 2667)\t0.1367600442534679\n",
      "  (882, 6397)\t0.27929418118584776\n",
      "  (882, 4424)\t0.21327651475325282\n",
      "  (882, 3062)\t0.3171708432305477\n",
      "  (882, 4450)\t0.18880459717989026\n",
      "  (882, 4265)\t0.16958746904214458\n",
      "  (882, 5876)\t0.05990627346979275\n",
      "  (882, 1252)\t0.14707300755930883\n"
     ]
    }
   ],
   "source": [
    "# Calculating TF-IDF for the working corpus.\n",
    "vectorizer = TfidfVectorizer(stop_words=\"english\")\n",
    "X = vectorizer.fit_transform(money_news)\n",
    "print(X)"
   ]
  },
  {
   "cell_type": "markdown",
   "metadata": {},
   "source": [
    " Create a DataFrame representation of the TF-IDF weights of each term in the working corpus. Use the `sum(axis=0)` method to calculate a measure similar to the term frequency based on the TF-IDF weight, this value will be used to rank the terms for the word cloud creation."
   ]
  },
  {
   "cell_type": "code",
   "execution_count": 6,
   "metadata": {},
   "outputs": [
    {
     "data": {
      "text/html": [
       "<div>\n",
       "<style scoped>\n",
       "    .dataframe tbody tr th:only-of-type {\n",
       "        vertical-align: middle;\n",
       "    }\n",
       "\n",
       "    .dataframe tbody tr th {\n",
       "        vertical-align: top;\n",
       "    }\n",
       "\n",
       "    .dataframe thead th {\n",
       "        text-align: right;\n",
       "    }\n",
       "</style>\n",
       "<table border=\"1\" class=\"dataframe\">\n",
       "  <thead>\n",
       "    <tr style=\"text-align: right;\">\n",
       "      <th></th>\n",
       "      <th>Word</th>\n",
       "      <th>Frequency</th>\n",
       "    </tr>\n",
       "  </thead>\n",
       "  <tbody>\n",
       "    <tr>\n",
       "      <th>5876</th>\n",
       "      <td>said</td>\n",
       "      <td>54.918051</td>\n",
       "    </tr>\n",
       "    <tr>\n",
       "      <th>4424</th>\n",
       "      <td>mln</td>\n",
       "      <td>51.533825</td>\n",
       "    </tr>\n",
       "    <tr>\n",
       "      <th>1252</th>\n",
       "      <td>bank</td>\n",
       "      <td>49.568996</td>\n",
       "    </tr>\n",
       "    <tr>\n",
       "      <th>6397</th>\n",
       "      <td>stg</td>\n",
       "      <td>47.236863</td>\n",
       "    </tr>\n",
       "    <tr>\n",
       "      <th>1353</th>\n",
       "      <td>billion</td>\n",
       "      <td>43.544274</td>\n",
       "    </tr>\n",
       "    <tr>\n",
       "      <th>4880</th>\n",
       "      <td>pct</td>\n",
       "      <td>41.917193</td>\n",
       "    </tr>\n",
       "    <tr>\n",
       "      <th>2461</th>\n",
       "      <td>dollar</td>\n",
       "      <td>37.178790</td>\n",
       "    </tr>\n",
       "    <tr>\n",
       "      <th>2939</th>\n",
       "      <td>fed</td>\n",
       "      <td>36.860352</td>\n",
       "    </tr>\n",
       "    <tr>\n",
       "      <th>2452</th>\n",
       "      <td>dlrs</td>\n",
       "      <td>36.273205</td>\n",
       "    </tr>\n",
       "    <tr>\n",
       "      <th>4265</th>\n",
       "      <td>market</td>\n",
       "      <td>35.086673</td>\n",
       "    </tr>\n",
       "  </tbody>\n",
       "</table>\n",
       "</div>"
      ],
      "text/plain": [
       "         Word  Frequency\n",
       "5876     said  54.918051\n",
       "4424      mln  51.533825\n",
       "1252     bank  49.568996\n",
       "6397      stg  47.236863\n",
       "1353  billion  43.544274\n",
       "4880      pct  41.917193\n",
       "2461   dollar  37.178790\n",
       "2939      fed  36.860352\n",
       "2452     dlrs  36.273205\n",
       "4265   market  35.086673"
      ]
     },
     "execution_count": 6,
     "metadata": {},
     "output_type": "execute_result"
    }
   ],
   "source": [
    "# Creating a DataFrame Representation of the TF-IDF results\n",
    "money_news_df = pd.DataFrame(\n",
    "    list(zip(vectorizer.get_feature_names(), np.ravel(X.sum(axis=0)))),\n",
    "    columns=[\"Word\", \"Frequency\"],\n",
    ")\n",
    "\n",
    "# Order the DataFrame by word frequency in descending order\n",
    "money_news_df = money_news_df.sort_values(by=[\"Frequency\"], ascending=False)\n",
    "\n",
    "# Print the top 10 words\n",
    "money_news_df.head(10)\n"
   ]
  },
  {
   "cell_type": "markdown",
   "metadata": {},
   "source": [
    " ## Retrieving the Top Words\n",
    "\n",
    " In order to create the word cloud you should get the top words; in this case we will use a rule of thumb that has been empirically tested by some NLP experts that states that words with a frequency between 10 and 30 might be the most relevant in a corpus.\n",
    "\n",
    " Following this rule, create a new DataFrame containing only those words with the mentioned frequency."
   ]
  },
  {
   "cell_type": "code",
   "execution_count": 7,
   "metadata": {},
   "outputs": [
    {
     "data": {
      "text/html": [
       "<div>\n",
       "<style scoped>\n",
       "    .dataframe tbody tr th:only-of-type {\n",
       "        vertical-align: middle;\n",
       "    }\n",
       "\n",
       "    .dataframe tbody tr th {\n",
       "        vertical-align: top;\n",
       "    }\n",
       "\n",
       "    .dataframe thead th {\n",
       "        text-align: right;\n",
       "    }\n",
       "</style>\n",
       "<table border=\"1\" class=\"dataframe\">\n",
       "  <thead>\n",
       "    <tr style=\"text-align: right;\">\n",
       "      <th></th>\n",
       "      <th>Word</th>\n",
       "      <th>Frequency</th>\n",
       "    </tr>\n",
       "  </thead>\n",
       "  <tbody>\n",
       "    <tr>\n",
       "      <th>7324</th>\n",
       "      <td>yen</td>\n",
       "      <td>28.343276</td>\n",
       "    </tr>\n",
       "    <tr>\n",
       "      <th>5913</th>\n",
       "      <td>says</td>\n",
       "      <td>26.248262</td>\n",
       "    </tr>\n",
       "    <tr>\n",
       "      <th>3844</th>\n",
       "      <td>japan</td>\n",
       "      <td>23.927655</td>\n",
       "    </tr>\n",
       "    <tr>\n",
       "      <th>2783</th>\n",
       "      <td>exchange</td>\n",
       "      <td>22.504089</td>\n",
       "    </tr>\n",
       "    <tr>\n",
       "      <th>2158</th>\n",
       "      <td>dealers</td>\n",
       "      <td>22.503656</td>\n",
       "    </tr>\n",
       "    <tr>\n",
       "      <th>5365</th>\n",
       "      <td>rate</td>\n",
       "      <td>21.277388</td>\n",
       "    </tr>\n",
       "    <tr>\n",
       "      <th>7203</th>\n",
       "      <td>week</td>\n",
       "      <td>20.247803</td>\n",
       "    </tr>\n",
       "    <tr>\n",
       "      <th>5366</th>\n",
       "      <td>rates</td>\n",
       "      <td>19.969733</td>\n",
       "    </tr>\n",
       "    <tr>\n",
       "      <th>1620</th>\n",
       "      <td>central</td>\n",
       "      <td>18.079040</td>\n",
       "    </tr>\n",
       "    <tr>\n",
       "      <th>2105</th>\n",
       "      <td>currency</td>\n",
       "      <td>17.370210</td>\n",
       "    </tr>\n",
       "  </tbody>\n",
       "</table>\n",
       "</div>"
      ],
      "text/plain": [
       "          Word  Frequency\n",
       "7324       yen  28.343276\n",
       "5913      says  26.248262\n",
       "3844     japan  23.927655\n",
       "2783  exchange  22.504089\n",
       "2158   dealers  22.503656\n",
       "5365      rate  21.277388\n",
       "7203      week  20.247803\n",
       "5366     rates  19.969733\n",
       "1620   central  18.079040\n",
       "2105  currency  17.370210"
      ]
     },
     "execution_count": 7,
     "metadata": {},
     "output_type": "execute_result"
    }
   ],
   "source": [
    "# Top words will be those with a frequency between 10 ans 30 (rule of thumb)\n",
    "top_words = money_news_df[\n",
    "    (money_news_df[\"Frequency\"] >= 10) & (money_news_df[\"Frequency\"] <= 30)\n",
    "]\n",
    "\n",
    "top_words.head(10)\n"
   ]
  },
  {
   "cell_type": "markdown",
   "metadata": {},
   "source": [
    " ## Creating Word Cloud\n",
    "\n",
    " Now you have all the pieces needed to create a word cloud based on TF-IDF weights, so use the `WordCloud` library to create it."
   ]
  },
  {
   "cell_type": "code",
   "execution_count": 8,
   "metadata": {},
   "outputs": [
    {
     "data": {
      "image/png": "[encoded data removed]",
      "text/plain": [
       "<Figure size 1440x720 with 1 Axes>"
      ]
     },
     "metadata": {},
     "output_type": "display_data"
    }
   ],
   "source": [
    "# Create a string list of terms to generate the word cloud\n",
    "terms_list = str(top_words[\"Word\"].tolist())\n",
    "\n",
    "# Create the word cloud\n",
    "wordcloud = WordCloud(colormap=\"RdYlBu\").generate(terms_list)\n",
    "plt.imshow(wordcloud)\n",
    "plt.axis(\"off\")\n",
    "fontdict = {\"fontsize\": 20, \"fontweight\": \"bold\"}\n",
    "plt.title(\"Money News Word Cloud\", fontdict=fontdict)\n",
    "plt.show()\n"
   ]
  },
  {
   "cell_type": "markdown",
   "metadata": {},
   "source": [
    "## Challenge: Looking for Documents that Contain Top Words\n",
    "\n",
    " Finally you might find it interesting to search those articles that contain the most relevant words. Create a function called `retrieve_docs(terms)` that receives a list of terms as parameter and extracts from the working corpus all those news articles that contain the search terms. In this function you should use the `reuters.words()` method to retrieve the tokenized version of each article as can be seen in the [Reuters Corpus documentation](https://www.nltk.org/book/ch02.html#reuters-corpus).\n",
    "\n",
    " **Hint:** To find any occurrence of the search terms you might find it useful to check out [this post on StackOverflow](https://stackoverflow.com/a/25102099/4325668). You should also lowercase all the words to ease your terms search."
   ]
  },
  {
   "cell_type": "code",
   "execution_count": 9,
   "metadata": {},
   "outputs": [],
   "source": [
    "def retrieve_docs(terms):\n",
    "    result_docs = []\n",
    "    for doc_id in money_news_ids:\n",
    "        found_terms = [\n",
    "            word\n",
    "            for word in reuters.words(doc_id)\n",
    "            if any(term in word.lower() for term in terms)\n",
    "        ]\n",
    "        if len(found_terms) > 0:\n",
    "            result_docs.append(doc_id)\n",
    "    return result_docs\n",
    "\n"
   ]
  },
  {
   "cell_type": "markdown",
   "metadata": {},
   "source": [
    " ### Question 1: How many articles talk about Yen?"
   ]
  },
  {
   "cell_type": "code",
   "execution_count": 10,
   "metadata": {},
   "outputs": [
    {
     "data": {
      "text/plain": [
       "182"
      ]
     },
     "execution_count": 10,
     "metadata": {},
     "output_type": "execute_result"
    }
   ],
   "source": [
    "len(retrieve_docs([\"yen\"]))\n"
   ]
  },
  {
   "cell_type": "code",
   "execution_count": 15,
   "metadata": {},
   "outputs": [
    {
     "data": {
      "text/plain": [
       "['test/14890', 'test/14913', 'test/14987', 'test/15431', 'test/15442']"
      ]
     },
     "execution_count": 15,
     "metadata": {},
     "output_type": "execute_result"
    }
   ],
   "source": [
    "retrieve_docs([\"yen\"])[:5]"
   ]
  },
  {
   "cell_type": "code",
   "execution_count": 17,
   "metadata": {},
   "outputs": [
    {
     "name": "stdout",
     "output_type": "stream",
     "text": [
      "ECONOMIC SPOTLIGHT - AUSTRALIAN MARKETS BOOMING\n",
      "  Australian markets are booming as foreign\n",
      "  fund managers redirect capital away from the United States and\n",
      "  other traditional markets, analysts said.\n",
      "      High short-term interest rates, a bullish stock market and\n",
      "  an increasingly stable currency reflect a massive inflow of\n",
      "  fresh funds in the last two months, largely from Japanese and\n",
      "  U.S. Investors, analysts polled by Reuters said.\n",
      "      Fund managers want quality markets to park their cash in\n",
      "  and have settled on Australia, Britain and Canada as they\n",
      "  diversify from volatile U.S. Dollar instruments, they said.\n",
      "      A one percentage point fall in key 10-year bonds rates in\n",
      "  the past month, record share prices and a 10-month high for the\n",
      "  currency of 0.71 U.S. Dlrs all illustrated the inflow.\n",
      "      Official figures on the latest inflow of investment capital\n",
      "  are not available, but brokers said they received almost daily\n",
      "  inquiries from Japan and the United States.\n",
      "      \"These people have got trillions of dollars sloshing about\n",
      "  and they don't know what to do with it. Some of that is ending\n",
      "  up here with the attraction of high interest rates and\n",
      "  reasonable currency stability,\" National Australia Bank Ltd\n",
      "  economist Brian Hamley said.\n",
      "      \"There is a 'flight to quality',\" Hamley said. \"Australia may\n",
      "  not be in the best (economic) position, but there aren't too\n",
      "  many other countries where you'd want to put your money.\"\n",
      "      The stronger Australian dollar was also attracting\n",
      "  investors taking advantage of an appreciating currency against\n",
      "  the volatility of the U.S. Unit, analysts said.\n",
      "      \"We're looking a more favoured market than perhaps the U.S.\n",
      "  Where some people would be concerned about the value of the\n",
      "  U.S. Dollar,\" Lloyds Bank NZA Ltd chief economist Will Buttrose\n",
      "  said. \"Why not put the money in Australia where entry is cheap\n",
      "  and the currency looks stable?\"\n",
      "      But turning that capital into more permanent productive\n",
      "  investment depends on government economic policy, he said.\n",
      "      \"It will only disappear if people lose confidence in the\n",
      "  direction in the economy,\" Buttrose said, adding that offshore\n",
      "  investors would carefully watch the government's promised tough\n",
      "  economic statement on May 14.\n",
      "      While happy to invest in bonds and other vehicles yielding\n",
      "  interest unobtainable elsewhere, fund managers could just as\n",
      "  easily reverse the flow -- particularly the Japanese, who were\n",
      "  badly hurt in the past by rapid falls in the Australian dollar\n",
      "  and hefty jumps in bond rates, analysts said.\n",
      "      \"It will remain very edgy money. If something was not to be\n",
      "  delivered, if the statement wasn't considered tough enough, one\n",
      "  might see a substantial outflow,\" Buttrose said.\n",
      "      Offshore investors are eager to see Australia take tough\n",
      "  economic decisions to curb its 100 billion dlr foreign debt and\n",
      "  stubborn current account deficit, analysts said.\n",
      "      \"They are giving us the benefit of the doubt and I think\n",
      "  they would like to leave the money here,\" Buttrose said.\n",
      "      Reserve Bank policy has also reflected the increased\n",
      "  interest in investment in Australia and the need to shield\n",
      "  Japanese investors from rapid currency fluctuations.\n",
      "      Reserve Governor Bob Johnston last week acknowledged an\n",
      "  element of targeting the rate against the yen in currency\n",
      "  policy when he said authorities could not take their \"eyes off\n",
      "  the yen\" because of the crucial role of Japanese investors.\n",
      "      Analysts said they believed the Reserve Bank had worked\n",
      "  successfully in recent months to keep the Australian dollar\n",
      "  within the range of 100 to 103 yen.\n",
      "      Apart from its recovery against a weak U.S. Dollar, the\n",
      "  Australian dollar has also risen almost three pct on a\n",
      "  trade-weighted basis in the last three weeks.\n",
      "      Offshore buying has also played a role in the booming\n",
      "  Australian share market. It has followed Wall Street and other\n",
      "  markets, but is also setting its own trend in response to the\n",
      "  weight of both domestic and offshore funds pouring into\n",
      "  equities, particularly in the gold sector.\n",
      "      The key all ordinaries index rose to a record 1,758.3\n",
      "  today, nearly 20 pct above its level at the end of 1986, while\n",
      "  the gold index has nearly doubled to a record 3,081.0 in the\n",
      "  same period.\n",
      "      The property sector is also sought after, with Japanese\n",
      "  companies that have invested heavily in the United States in\n",
      "  recent years turning their attention to undervalued real\n",
      "  estate, particularly in the tourism field.\n",
      "      Analysts pointed to the recent sale of Sydney's five-star\n",
      "  Regent Hotel to Japanese interests for more than 145 mln dlrs\n",
      "  as indicative of the type of property being sought.\n",
      "      \"They think they find good value real estate here which,\n",
      "  with long term and fixed capital investment, is the kind of\n",
      "  investment Australia needs,\" Buttrose added.\n",
      "  \n",
      "\n",
      "\n"
     ]
    }
   ],
   "source": [
    "article = reuters.raw('test/14890')\n",
    "print(article)"
   ]
  },
  {
   "cell_type": "markdown",
   "metadata": {},
   "source": [
    "### Question 2: How many articles talk about Japan or Banks?"
   ]
  },
  {
   "cell_type": "code",
   "execution_count": 11,
   "metadata": {},
   "outputs": [
    {
     "data": {
      "text/plain": [
       "326"
      ]
     },
     "execution_count": 11,
     "metadata": {},
     "output_type": "execute_result"
    }
   ],
   "source": [
    "len(retrieve_docs([\"japan\", \"banks\"]))\n"
   ]
  },
  {
   "cell_type": "code",
   "execution_count": 16,
   "metadata": {},
   "outputs": [
    {
     "data": {
      "text/plain": [
       "['test/14849', 'test/14890', 'test/14913', 'test/14931', 'test/14987']"
      ]
     },
     "execution_count": 16,
     "metadata": {},
     "output_type": "execute_result"
    }
   ],
   "source": [
    "retrieve_docs([\"japan\", \"banks\"])[:5]"
   ]
  },
  {
   "cell_type": "markdown",
   "metadata": {},
   "source": [
    " ### Question 3: How many articles talk about England or Dealers?"
   ]
  },
  {
   "cell_type": "code",
   "execution_count": 12,
   "metadata": {},
   "outputs": [
    {
     "data": {
      "text/plain": [
       "299"
      ]
     },
     "execution_count": 12,
     "metadata": {},
     "output_type": "execute_result"
    }
   ],
   "source": [
    "len(retrieve_docs([\"england\", \"dealers\"]))\n"
   ]
  }
 ],
 "metadata": {
  "file_extension": ".py",
  "kernelspec": {
   "display_name": "Python [conda env:pyvizenv] *",
   "language": "python",
   "name": "conda-env-pyvizenv-py"
  },
  "language_info": {
   "codemirror_mode": {
    "name": "ipython",
    "version": 3
   },
   "file_extension": ".py",
   "mimetype": "text/x-python",
   "name": "python",
   "nbconvert_exporter": "python",
   "pygments_lexer": "ipython3",
   "version": "3.7.7"
  },
  "mimetype": "text/x-python",
  "name": "python",
  "npconvert_exporter": "python",
  "pygments_lexer": "ipython3",
  "version": 3
 },
 "nbformat": 4,
 "nbformat_minor": 4
}
