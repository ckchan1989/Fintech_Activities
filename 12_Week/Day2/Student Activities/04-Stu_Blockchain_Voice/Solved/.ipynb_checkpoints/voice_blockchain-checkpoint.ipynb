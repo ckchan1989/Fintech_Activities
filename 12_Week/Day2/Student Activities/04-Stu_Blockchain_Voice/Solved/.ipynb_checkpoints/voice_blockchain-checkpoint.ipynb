{
 "cells": [
  {
   "cell_type": "markdown",
   "metadata": {},
   "source": [
    "# The Voice of the Blockchain\n",
    "\n",
    "Canada lies at the frontier of the blockchain sector with increasing adoption rates and favorable regulations. In this activity you will retrieve news articles regarding blockchain in Canada for both English and French languages to capture the voice of the blockchain."
   ]
  },
  {
   "cell_type": "code",
   "execution_count": 6,
   "metadata": {},
   "outputs": [],
   "source": [
    "# Initial imports\n",
    "import os\n",
    "import pandas as pd\n",
    "from path import Path\n",
    "from dotenv import load_dotenv\n",
    "from newsapi import NewsApiClient"
   ]
  },
  {
   "cell_type": "code",
   "execution_count": 7,
   "metadata": {},
   "outputs": [],
   "source": [
    "# Load environment variables and retrieve the News API key\n",
    "load_dotenv()\n",
    "api_key = os.getenv(\"NEWS_API_KEY\")"
   ]
  },
  {
   "cell_type": "code",
   "execution_count": 8,
   "metadata": {},
   "outputs": [],
   "source": [
    "# Create the newsapi client\n",
    "newsapi = NewsApiClient(api_key=api_key)"
   ]
  },
  {
   "cell_type": "markdown",
   "metadata": {},
   "source": [
    "## Getting News Articles in English\n",
    "\n",
    "In this section you have to fetch all the news articles using the News API with the keywords `blockchain`, `canada`, and `2020` in English.\n",
    "\n"
   ]
  },
  {
   "cell_type": "code",
   "execution_count": 9,
   "metadata": {},
   "outputs": [
    {
     "data": {
      "text/plain": [
       "179"
      ]
     },
     "execution_count": 9,
     "metadata": {},
     "output_type": "execute_result"
    }
   ],
   "source": [
    "# Fetch news about Canada and Blockchain in 2020 in the English language\n",
    "blockchain_news_en = newsapi.get_everything(\n",
    "    q=\"blockchain AND canada AND 2020\",\n",
    "    language=\"en\"\n",
    ")\n",
    "\n",
    "# Show the total number of news\n",
    "blockchain_news_en[\"totalResults\"]"
   ]
  },
  {
   "cell_type": "markdown",
   "metadata": {},
   "source": [
    "## Getting News Articles in French\n",
    "\n",
    "Fetching news in French will require keywords on this language, so retrieve all the news articles using the News API using the keywords `blockchain`, `canada`, and `2020`."
   ]
  },
  {
   "cell_type": "code",
   "execution_count": 10,
   "metadata": {},
   "outputs": [
    {
     "data": {
      "text/plain": [
       "3"
      ]
     },
     "execution_count": 10,
     "metadata": {},
     "output_type": "execute_result"
    }
   ],
   "source": [
    "# Fetch news about Canada and Blockchain in 2020 in the French language\n",
    "blockchain_news_fr = newsapi.get_everything(\n",
    "    q=\"blockchain AND canada AND 2020\",\n",
    "    language=\"fr\"\n",
    ")\n",
    "\n",
    "# Show the total number of news\n",
    "blockchain_news_fr[\"totalResults\"]"
   ]
  },
  {
   "cell_type": "markdown",
   "metadata": {},
   "source": [
    "## Create a DataFrame with All the Results\n",
    "\n",
    "The first task on this section is to create a function called `create_df(news, language)` that will transform the `articles` list in a DataFrame. This function will receive two parameters: `news` is the articles' list and `language` is a string to specify the language of the news articles.\n",
    "\n",
    "The resulting DataFrame should have the following columns:\n",
    "\n",
    "* Title: The article's title\n",
    "* Description: The article's description\n",
    "* Text: The article's content\n",
    "* Date: The date when the article was published, using the format `YYY-MM-DD` (eg. 2019-07-11)\n",
    "* Language: A string specifying the news language (`en` for English, `fr` for French)"
   ]
  },
  {
   "cell_type": "code",
   "execution_count": 11,
   "metadata": {},
   "outputs": [],
   "source": [
    "# Function to create a dataframe for english news and french news\n",
    "def create_df(news, language):\n",
    "    articles = []\n",
    "    for article in news:\n",
    "        try:\n",
    "            title = article[\"title\"]\n",
    "            description = article[\"description\"]\n",
    "            text = article[\"content\"]\n",
    "            date = article[\"publishedAt\"][:10]\n",
    "\n",
    "            articles.append({\n",
    "                \"title\": title,\n",
    "                \"description\": description,\n",
    "                \"text\": text,\n",
    "                \"date\": date,\n",
    "                \"language\": language\n",
    "            })\n",
    "        except AttributeError:\n",
    "            pass\n",
    "\n",
    "    return pd.DataFrame(articles)"
   ]
  },
  {
   "cell_type": "markdown",
   "metadata": {},
   "source": [
    "Use the create_df() function to create a DataFrame for the English news and another for the French news."
   ]
  },
  {
   "cell_type": "code",
   "execution_count": 12,
   "metadata": {},
   "outputs": [],
   "source": [
    "# Create a DataFrame with the news in English\n",
    "blockchain_en_df = create_df(blockchain_news_en[\"articles\"], \"en\")\n",
    "\n",
    "# Create a DataFrame with the news in French\n",
    "blockchain_fr_df = create_df(blockchain_news_fr[\"articles\"], \"fr\")"
   ]
  },
  {
   "cell_type": "markdown",
   "metadata": {},
   "source": [
    "Concatenate both DataFrames having the English news at the top and the French news at the bottom."
   ]
  },
  {
   "cell_type": "code",
   "execution_count": 13,
   "metadata": {},
   "outputs": [],
   "source": [
    "# Concatenate dataframes\n",
    "blockchain_df = pd.concat([blockchain_en_df, blockchain_fr_df])"
   ]
  },
  {
   "cell_type": "code",
   "execution_count": 14,
   "metadata": {},
   "outputs": [
    {
     "data": {
      "text/html": [
       "<div>\n",
       "<style scoped>\n",
       "    .dataframe tbody tr th:only-of-type {\n",
       "        vertical-align: middle;\n",
       "    }\n",
       "\n",
       "    .dataframe tbody tr th {\n",
       "        vertical-align: top;\n",
       "    }\n",
       "\n",
       "    .dataframe thead th {\n",
       "        text-align: right;\n",
       "    }\n",
       "</style>\n",
       "<table border=\"1\" class=\"dataframe\">\n",
       "  <thead>\n",
       "    <tr style=\"text-align: right;\">\n",
       "      <th></th>\n",
       "      <th>date</th>\n",
       "      <th>description</th>\n",
       "      <th>language</th>\n",
       "      <th>text</th>\n",
       "      <th>title</th>\n",
       "    </tr>\n",
       "  </thead>\n",
       "  <tbody>\n",
       "    <tr>\n",
       "      <th>0</th>\n",
       "      <td>2021-04-06</td>\n",
       "      <td>*To read more by the Thomson Reuters Regulator...</td>\n",
       "      <td>en</td>\n",
       "      <td>NEW YORK(Thomson Reuters Regulatory Intelligen...</td>\n",
       "      <td>INSIGHT: U.S. cryptocurrency regulatory path a...</td>\n",
       "    </tr>\n",
       "    <tr>\n",
       "      <th>1</th>\n",
       "      <td>2021-04-24</td>\n",
       "      <td>Summary List PlacementHere's a rundown of news...</td>\n",
       "      <td>en</td>\n",
       "      <td>Here's a rundown of news on hires, exits, and ...</td>\n",
       "      <td>Must-know promotions, exits, and hires at firm...</td>\n",
       "    </tr>\n",
       "    <tr>\n",
       "      <th>2</th>\n",
       "      <td>2021-05-03</td>\n",
       "      <td>The launch of ether exchange-traded funds in C...</td>\n",
       "      <td>en</td>\n",
       "      <td>SINGAPORE: Cryptocurrency ether broke past $3,...</td>\n",
       "      <td>Ethereum breaks past $3,000 to quadruple value</td>\n",
       "    </tr>\n",
       "    <tr>\n",
       "      <th>3</th>\n",
       "      <td>2021-05-03</td>\n",
       "      <td>Ether, the token transacted on the ethereum bl...</td>\n",
       "      <td>en</td>\n",
       "      <td>Cryptocurrency ether broke past $3,000 on Mond...</td>\n",
       "      <td>Ethereum breaks past $3,000 to quadruple in va...</td>\n",
       "    </tr>\n",
       "    <tr>\n",
       "      <th>4</th>\n",
       "      <td>2021-04-09</td>\n",
       "      <td>Blockchain technology was all the rage back in...</td>\n",
       "      <td>en</td>\n",
       "      <td>Blockchain technology was all the rage back in...</td>\n",
       "      <td>Blockchain ETF Lets Investors Cash In On Bitco...</td>\n",
       "    </tr>\n",
       "  </tbody>\n",
       "</table>\n",
       "</div>"
      ],
      "text/plain": [
       "         date                                        description language  \\\n",
       "0  2021-04-06  *To read more by the Thomson Reuters Regulator...       en   \n",
       "1  2021-04-24  Summary List PlacementHere's a rundown of news...       en   \n",
       "2  2021-05-03  The launch of ether exchange-traded funds in C...       en   \n",
       "3  2021-05-03  Ether, the token transacted on the ethereum bl...       en   \n",
       "4  2021-04-09  Blockchain technology was all the rage back in...       en   \n",
       "\n",
       "                                                text  \\\n",
       "0  NEW YORK(Thomson Reuters Regulatory Intelligen...   \n",
       "1  Here's a rundown of news on hires, exits, and ...   \n",
       "2  SINGAPORE: Cryptocurrency ether broke past $3,...   \n",
       "3  Cryptocurrency ether broke past $3,000 on Mond...   \n",
       "4  Blockchain technology was all the rage back in...   \n",
       "\n",
       "                                               title  \n",
       "0  INSIGHT: U.S. cryptocurrency regulatory path a...  \n",
       "1  Must-know promotions, exits, and hires at firm...  \n",
       "2     Ethereum breaks past $3,000 to quadruple value  \n",
       "3  Ethereum breaks past $3,000 to quadruple in va...  \n",
       "4  Blockchain ETF Lets Investors Cash In On Bitco...  "
      ]
     },
     "execution_count": 14,
     "metadata": {},
     "output_type": "execute_result"
    }
   ],
   "source": [
    "# Show the head articles (they are in English)\n",
    "blockchain_df.head()"
   ]
  },
  {
   "cell_type": "code",
   "execution_count": 15,
   "metadata": {},
   "outputs": [
    {
     "data": {
      "text/html": [
       "<div>\n",
       "<style scoped>\n",
       "    .dataframe tbody tr th:only-of-type {\n",
       "        vertical-align: middle;\n",
       "    }\n",
       "\n",
       "    .dataframe tbody tr th {\n",
       "        vertical-align: top;\n",
       "    }\n",
       "\n",
       "    .dataframe thead th {\n",
       "        text-align: right;\n",
       "    }\n",
       "</style>\n",
       "<table border=\"1\" class=\"dataframe\">\n",
       "  <thead>\n",
       "    <tr style=\"text-align: right;\">\n",
       "      <th></th>\n",
       "      <th>date</th>\n",
       "      <th>description</th>\n",
       "      <th>language</th>\n",
       "      <th>text</th>\n",
       "      <th>title</th>\n",
       "    </tr>\n",
       "  </thead>\n",
       "  <tbody>\n",
       "    <tr>\n",
       "      <th>18</th>\n",
       "      <td>2021-04-22</td>\n",
       "      <td>The Canadian Association of Medical Mask Manuf...</td>\n",
       "      <td>en</td>\n",
       "      <td>A leader in vertical integration, machine lear...</td>\n",
       "      <td>Inno Lifecare Joins the Canadian Association o...</td>\n",
       "    </tr>\n",
       "    <tr>\n",
       "      <th>19</th>\n",
       "      <td>2021-04-17</td>\n",
       "      <td>&lt;ol&gt;&lt;li&gt;Mark Cuban Believes DOGE ‘Will Find It...</td>\n",
       "      <td>en</td>\n",
       "      <td>(Bloomberg) -- The Nordic region is losing its...</td>\n",
       "      <td>Mark Cuban Believes DOGE ‘Will Find Its Level’...</td>\n",
       "    </tr>\n",
       "    <tr>\n",
       "      <th>0</th>\n",
       "      <td>2021-04-10</td>\n",
       "      <td>Plusieurs facteurs rendent ces cyberattaques d...</td>\n",
       "      <td>fr</td>\n",
       "      <td>Ce nest plus un secret, les ransomwares sont e...</td>\n",
       "      <td>Pourquoi les ransomwares prolifèrent-ils autan...</td>\n",
       "    </tr>\n",
       "    <tr>\n",
       "      <th>1</th>\n",
       "      <td>2021-05-02</td>\n",
       "      <td>Aujourd'hui, on va parler de cryptomonnaies et...</td>\n",
       "      <td>fr</td>\n",
       "      <td>Aujourd'hui, on va parler de cryptomonnaies et...</td>\n",
       "      <td>Une approche féministe de la blockchain est-el...</td>\n",
       "    </tr>\n",
       "    <tr>\n",
       "      <th>2</th>\n",
       "      <td>2021-04-09</td>\n",
       "      <td>PEKIN, 9 avril 2021 /PRNewswire/ -- La restaur...</td>\n",
       "      <td>fr</td>\n",
       "      <td>PEKIN, 9 avril 2021 /PRNewswire/ -- La restaur...</td>\n",
       "      <td>Les projets d'alimentation et de boissons TOJO...</td>\n",
       "    </tr>\n",
       "  </tbody>\n",
       "</table>\n",
       "</div>"
      ],
      "text/plain": [
       "          date                                        description language  \\\n",
       "18  2021-04-22  The Canadian Association of Medical Mask Manuf...       en   \n",
       "19  2021-04-17  <ol><li>Mark Cuban Believes DOGE ‘Will Find It...       en   \n",
       "0   2021-04-10  Plusieurs facteurs rendent ces cyberattaques d...       fr   \n",
       "1   2021-05-02  Aujourd'hui, on va parler de cryptomonnaies et...       fr   \n",
       "2   2021-04-09  PEKIN, 9 avril 2021 /PRNewswire/ -- La restaur...       fr   \n",
       "\n",
       "                                                 text  \\\n",
       "18  A leader in vertical integration, machine lear...   \n",
       "19  (Bloomberg) -- The Nordic region is losing its...   \n",
       "0   Ce nest plus un secret, les ransomwares sont e...   \n",
       "1   Aujourd'hui, on va parler de cryptomonnaies et...   \n",
       "2   PEKIN, 9 avril 2021 /PRNewswire/ -- La restaur...   \n",
       "\n",
       "                                                title  \n",
       "18  Inno Lifecare Joins the Canadian Association o...  \n",
       "19  Mark Cuban Believes DOGE ‘Will Find Its Level’...  \n",
       "0   Pourquoi les ransomwares prolifèrent-ils autan...  \n",
       "1   Une approche féministe de la blockchain est-el...  \n",
       "2   Les projets d'alimentation et de boissons TOJO...  "
      ]
     },
     "execution_count": 15,
     "metadata": {},
     "output_type": "execute_result"
    }
   ],
   "source": [
    "# Show the tail articles (they are in French)\n",
    "blockchain_df.tail()"
   ]
  },
  {
   "cell_type": "markdown",
   "metadata": {},
   "source": [
    "Save tha final DataFrame as a CSV file for further analysis in the forthcoming activities."
   ]
  },
  {
   "cell_type": "code",
   "execution_count": 16,
   "metadata": {},
   "outputs": [],
   "source": [
    "# Save to CSV\n",
    "file_path = Path(\"../Resources/blockchain_news_en_fr.csv\")\n",
    "blockchain_df.to_csv(file_path, index=False, encoding='utf-8-sig')"
   ]
  },
  {
   "cell_type": "code",
   "execution_count": null,
   "metadata": {},
   "outputs": [],
   "source": []
  }
 ],
 "metadata": {
  "file_extension": ".py",
  "kernelspec": {
   "display_name": "Python [conda env:pyvizenv] *",
   "language": "python",
   "name": "conda-env-pyvizenv-py"
  },
  "language_info": {
   "codemirror_mode": {
    "name": "ipython",
    "version": 3
   },
   "file_extension": ".py",
   "mimetype": "text/x-python",
   "name": "python",
   "nbconvert_exporter": "python",
   "pygments_lexer": "ipython3",
   "version": "3.7.7"
  },
  "mimetype": "text/x-python",
  "name": "python",
  "npconvert_exporter": "python",
  "pygments_lexer": "ipython3",
  "version": 3
 },
 "nbformat": 4,
 "nbformat_minor": 4
}
