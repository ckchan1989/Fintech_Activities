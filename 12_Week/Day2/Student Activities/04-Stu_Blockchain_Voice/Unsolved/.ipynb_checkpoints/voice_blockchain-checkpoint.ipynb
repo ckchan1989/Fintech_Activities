{
 "cells": [
  {
   "cell_type": "markdown",
   "metadata": {},
   "source": [
    "# The Voice of the Blockchain\n",
    "\n",
    "Canada lies at the frontier of the blockchain sector with increasing adoption rates and favorable regulations. In this activity you will retrieve news articles regarding blockchain in Canada for both English and French languages to capture the voice of the blockchain."
   ]
  },
  {
   "cell_type": "code",
   "execution_count": 1,
   "metadata": {},
   "outputs": [],
   "source": [
    "# Initial imports\n",
    "import pandas as pd\n",
    "from dotenv import load_dotenv\n",
    "import os\n",
    "from path import Path\n",
    "from newsapi import NewsApiClient\n",
    "\n"
   ]
  },
  {
   "cell_type": "code",
   "execution_count": 2,
   "metadata": {},
   "outputs": [],
   "source": [
    "# Load environment variables and retrieve the News API key\n",
    "load_dotenv()\n",
    "api_key = os.getenv(\"NEWS_API_KEY\")\n",
    "\n"
   ]
  },
  {
   "cell_type": "code",
   "execution_count": 3,
   "metadata": {},
   "outputs": [],
   "source": [
    "# Create the newsapi client\n",
    "newsapi = NewsApiClient(api_key=api_key)\n",
    "\n"
   ]
  },
  {
   "cell_type": "markdown",
   "metadata": {},
   "source": [
    "## Getting News Articles in English\n",
    "\n",
    "In this section you have to fetch all the news articles using the News API with the keywords `blockchain`, `canada`, and `2020` in English.\n",
    "\n"
   ]
  },
  {
   "cell_type": "code",
   "execution_count": 5,
   "metadata": {},
   "outputs": [
    {
     "data": {
      "text/plain": [
       "0"
      ]
     },
     "execution_count": 5,
     "metadata": {},
     "output_type": "execute_result"
    }
   ],
   "source": [
    "# Fetch news about Canada and Blockchain in 2020 in the English language\n",
    "ca_block_headlines = newsapi.get_top_headlines(q=\"blockchain AND canada AND 2020\", language=\"en\")\n",
    "#ca_block_headlines\n",
    "\n",
    "# Show the total number of news\n",
    "ca_block_headlines['totalResults']\n",
    "\n"
   ]
  },
  {
   "cell_type": "markdown",
   "metadata": {},
   "source": [
    "## Getting News Articles in French\n",
    "\n",
    "Fetching news in French will require keywords on this language, so retrieve all the news articles using the News API using the keywords `blockchain`, `canada`, and `2020`."
   ]
  },
  {
   "cell_type": "code",
   "execution_count": 5,
   "metadata": {},
   "outputs": [
    {
     "data": {
      "text/plain": [
       "2"
      ]
     },
     "execution_count": 5,
     "metadata": {},
     "output_type": "execute_result"
    }
   ],
   "source": [
    "# Fetch news about Canada and Blockchain in 2020 in the French language\n",
    "# YOUR CODE HERE\n",
    "\n",
    "# Show the total number of news\n",
    "# YOUR CODE HERE\n",
    "\n"
   ]
  },
  {
   "cell_type": "markdown",
   "metadata": {},
   "source": [
    "## Create a DataFrame with All the Results\n",
    "\n",
    "The first task on this section is to create a function called `create_df(news, language)` that will transform the `articles` list in a DataFrame. This function will receive two parameters: `news` is the articles' list and `language` is a string to specify the language of the news articles.\n",
    "\n",
    "The resulting DataFrame should have the following columns:\n",
    "\n",
    "* Title: The article's title\n",
    "* Description: The article's description\n",
    "* Text: The article's content\n",
    "* Date: The date when the article was published, using the format `YYY-MM-DD` (eg. 2019-07-11)\n",
    "* Language: A string specifying the news language (`en` for English, `fr` for French)"
   ]
  },
  {
   "cell_type": "code",
   "execution_count": 6,
   "metadata": {},
   "outputs": [],
   "source": [
    "# Function to create a dataframe for english news and french news\n",
    "def create_df(news, language):\n",
    "    # YOUR CODE HERE\n",
    "\n"
   ]
  },
  {
   "cell_type": "markdown",
   "metadata": {},
   "source": [
    "Use the create_df() function to create a DataFrame for the English news and another for the French news."
   ]
  },
  {
   "cell_type": "code",
   "execution_count": 7,
   "metadata": {},
   "outputs": [],
   "source": [
    "# Create a DataFrame with the news in English\n",
    "# YOUR CODE HERE\n",
    "\n",
    "# Create a DataFrame with the news in French\n",
    "# YOUR CODE HERE\n"
   ]
  },
  {
   "cell_type": "markdown",
   "metadata": {},
   "source": [
    "Concatenate both DataFrames having the English news at the top and the French news at the bottom."
   ]
  },
  {
   "cell_type": "code",
   "execution_count": 8,
   "metadata": {},
   "outputs": [],
   "source": [
    "# Concatenate dataframes\n",
    "# YOUR CODE HERE\n"
   ]
  },
  {
   "cell_type": "code",
   "execution_count": 9,
   "metadata": {},
   "outputs": [
    {
     "data": {
      "text/html": [
       "<div>\n",
       "<style scoped>\n",
       "    .dataframe tbody tr th:only-of-type {\n",
       "        vertical-align: middle;\n",
       "    }\n",
       "\n",
       "    .dataframe tbody tr th {\n",
       "        vertical-align: top;\n",
       "    }\n",
       "\n",
       "    .dataframe thead th {\n",
       "        text-align: right;\n",
       "    }\n",
       "</style>\n",
       "<table border=\"1\" class=\"dataframe\">\n",
       "  <thead>\n",
       "    <tr style=\"text-align: right;\">\n",
       "      <th></th>\n",
       "      <th>title</th>\n",
       "      <th>description</th>\n",
       "      <th>text</th>\n",
       "      <th>date</th>\n",
       "      <th>language</th>\n",
       "    </tr>\n",
       "  </thead>\n",
       "  <tbody>\n",
       "    <tr>\n",
       "      <td>0</td>\n",
       "      <td>Hedge Fund Manager Horizon Kinetics Expands Th...</td>\n",
       "      <td>Core Scientific announced yesterday that the h...</td>\n",
       "      <td>Bitcoin cryptocurrency representation is seen ...</td>\n",
       "      <td>2020-07-02</td>\n",
       "      <td>en</td>\n",
       "    </tr>\n",
       "    <tr>\n",
       "      <td>1</td>\n",
       "      <td>Global Blockchain Technology Industry - GlobeN...</td>\n",
       "      <td>Global Blockchain Technology Market to Reach U...</td>\n",
       "      <td>New York, July 10, 2020 (GLOBE NEWSWIRE) -- Re...</td>\n",
       "      <td>2020-07-10</td>\n",
       "      <td>en</td>\n",
       "    </tr>\n",
       "    <tr>\n",
       "      <td>2</td>\n",
       "      <td>Blockchain Bites: Digital Dollars, Ethereum’s ...</td>\n",
       "      <td>Thought leaders are decending on Washing to ta...</td>\n",
       "      <td>Australia’s stock exchange may delay its block...</td>\n",
       "      <td>2020-06-30</td>\n",
       "      <td>en</td>\n",
       "    </tr>\n",
       "    <tr>\n",
       "      <td>3</td>\n",
       "      <td>Deloitte's 2020 Global Blockchain Survey: Near...</td>\n",
       "      <td>Now in its third year, Deloitte's \"Global Bloc...</td>\n",
       "      <td>Leaders are increasingly investing in blockcha...</td>\n",
       "      <td>2020-06-16</td>\n",
       "      <td>en</td>\n",
       "    </tr>\n",
       "    <tr>\n",
       "      <td>4</td>\n",
       "      <td>Binance Gives Back: How The World’s Largest Cr...</td>\n",
       "      <td>Binance Charity launches a \"fully transparent\"...</td>\n",
       "      <td>The pandemic has changed the world as we know ...</td>\n",
       "      <td>2020-06-25</td>\n",
       "      <td>en</td>\n",
       "    </tr>\n",
       "  </tbody>\n",
       "</table>\n",
       "</div>"
      ],
      "text/plain": [
       "                                               title  \\\n",
       "0  Hedge Fund Manager Horizon Kinetics Expands Th...   \n",
       "1  Global Blockchain Technology Industry - GlobeN...   \n",
       "2  Blockchain Bites: Digital Dollars, Ethereum’s ...   \n",
       "3  Deloitte's 2020 Global Blockchain Survey: Near...   \n",
       "4  Binance Gives Back: How The World’s Largest Cr...   \n",
       "\n",
       "                                         description  \\\n",
       "0  Core Scientific announced yesterday that the h...   \n",
       "1  Global Blockchain Technology Market to Reach U...   \n",
       "2  Thought leaders are decending on Washing to ta...   \n",
       "3  Now in its third year, Deloitte's \"Global Bloc...   \n",
       "4  Binance Charity launches a \"fully transparent\"...   \n",
       "\n",
       "                                                text        date language  \n",
       "0  Bitcoin cryptocurrency representation is seen ...  2020-07-02       en  \n",
       "1  New York, July 10, 2020 (GLOBE NEWSWIRE) -- Re...  2020-07-10       en  \n",
       "2  Australia’s stock exchange may delay its block...  2020-06-30       en  \n",
       "3  Leaders are increasingly investing in blockcha...  2020-06-16       en  \n",
       "4  The pandemic has changed the world as we know ...  2020-06-25       en  "
      ]
     },
     "execution_count": 9,
     "metadata": {},
     "output_type": "execute_result"
    }
   ],
   "source": [
    "# Show the head articles (they are in English)\n",
    "# YOUR CODE HERE\n"
   ]
  },
  {
   "cell_type": "code",
   "execution_count": 10,
   "metadata": {},
   "outputs": [
    {
     "data": {
      "text/html": [
       "<div>\n",
       "<style scoped>\n",
       "    .dataframe tbody tr th:only-of-type {\n",
       "        vertical-align: middle;\n",
       "    }\n",
       "\n",
       "    .dataframe tbody tr th {\n",
       "        vertical-align: top;\n",
       "    }\n",
       "\n",
       "    .dataframe thead th {\n",
       "        text-align: right;\n",
       "    }\n",
       "</style>\n",
       "<table border=\"1\" class=\"dataframe\">\n",
       "  <thead>\n",
       "    <tr style=\"text-align: right;\">\n",
       "      <th></th>\n",
       "      <th>title</th>\n",
       "      <th>description</th>\n",
       "      <th>text</th>\n",
       "      <th>date</th>\n",
       "      <th>language</th>\n",
       "    </tr>\n",
       "  </thead>\n",
       "  <tbody>\n",
       "    <tr>\n",
       "      <td>17</td>\n",
       "      <td>The Global Blockchain in Energy Market is expe...</td>\n",
       "      <td>Read the full report: https://www.reportlinker...</td>\n",
       "      <td>Blockchain in Energy Market Research Report by...</td>\n",
       "      <td>2020-07-06</td>\n",
       "      <td>en</td>\n",
       "    </tr>\n",
       "    <tr>\n",
       "      <td>18</td>\n",
       "      <td>Silicon Valley's Top Investor Tim Draper to Ke...</td>\n",
       "      <td>Art&amp;Co.;, the world's largest online auction f...</td>\n",
       "      <td>World's Largest Online Art Auction for Covid t...</td>\n",
       "      <td>2020-06-24</td>\n",
       "      <td>en</td>\n",
       "    </tr>\n",
       "    <tr>\n",
       "      <td>19</td>\n",
       "      <td>The Global Blockchain IoT Market is expected t...</td>\n",
       "      <td>Read the full report: https://www.reportlinker...</td>\n",
       "      <td>Blockchain IoT Market Research Report by Offer...</td>\n",
       "      <td>2020-07-06</td>\n",
       "      <td>en</td>\n",
       "    </tr>\n",
       "    <tr>\n",
       "      <td>0</td>\n",
       "      <td>La plus grande vente aux enchères d'art au mon...</td>\n",
       "      <td>Brock Pierce va s'exprimer en direct sur Artan...</td>\n",
       "      <td>Brock Pierce va s'exprimer en direct sur Artan...</td>\n",
       "      <td>2020-06-28</td>\n",
       "      <td>fr</td>\n",
       "    </tr>\n",
       "    <tr>\n",
       "      <td>1</td>\n",
       "      <td>La plus grande vente aux enchères d'art en lig...</td>\n",
       "      <td>Art&amp;Co. va inclure Race on the Agenda (ROTA) e...</td>\n",
       "      <td>Art&amp;amp;Co. va inclure Race on the Agenda (ROT...</td>\n",
       "      <td>2020-06-18</td>\n",
       "      <td>fr</td>\n",
       "    </tr>\n",
       "  </tbody>\n",
       "</table>\n",
       "</div>"
      ],
      "text/plain": [
       "                                                title  \\\n",
       "17  The Global Blockchain in Energy Market is expe...   \n",
       "18  Silicon Valley's Top Investor Tim Draper to Ke...   \n",
       "19  The Global Blockchain IoT Market is expected t...   \n",
       "0   La plus grande vente aux enchères d'art au mon...   \n",
       "1   La plus grande vente aux enchères d'art en lig...   \n",
       "\n",
       "                                          description  \\\n",
       "17  Read the full report: https://www.reportlinker...   \n",
       "18  Art&Co.;, the world's largest online auction f...   \n",
       "19  Read the full report: https://www.reportlinker...   \n",
       "0   Brock Pierce va s'exprimer en direct sur Artan...   \n",
       "1   Art&Co. va inclure Race on the Agenda (ROTA) e...   \n",
       "\n",
       "                                                 text        date language  \n",
       "17  Blockchain in Energy Market Research Report by...  2020-07-06       en  \n",
       "18  World's Largest Online Art Auction for Covid t...  2020-06-24       en  \n",
       "19  Blockchain IoT Market Research Report by Offer...  2020-07-06       en  \n",
       "0   Brock Pierce va s'exprimer en direct sur Artan...  2020-06-28       fr  \n",
       "1   Art&amp;Co. va inclure Race on the Agenda (ROT...  2020-06-18       fr  "
      ]
     },
     "execution_count": 10,
     "metadata": {},
     "output_type": "execute_result"
    }
   ],
   "source": [
    "# Show the tail articles (they are in French)\n",
    "# YOUR CODE HERE\n",
    "\n"
   ]
  },
  {
   "cell_type": "markdown",
   "metadata": {},
   "source": [
    "Save tha final DataFrame as a CSV file for further analysis in the forthcoming activities."
   ]
  },
  {
   "cell_type": "code",
   "execution_count": 11,
   "metadata": {},
   "outputs": [],
   "source": [
    "# Save to CSV\n",
    "# YOUR CODE HERE\n"
   ]
  }
 ],
 "metadata": {
  "file_extension": ".py",
  "kernelspec": {
   "display_name": "Python 3",
   "language": "python",
   "name": "python3"
  },
  "language_info": {
   "codemirror_mode": {
    "name": "ipython",
    "version": 3
   },
   "file_extension": ".py",
   "mimetype": "text/x-python",
   "name": "python",
   "nbconvert_exporter": "python",
   "pygments_lexer": "ipython3",
   "version": "3.9.2"
  },
  "mimetype": "text/x-python",
  "name": "python",
  "npconvert_exporter": "python",
  "pygments_lexer": "ipython3",
  "version": 3
 },
 "nbformat": 4,
 "nbformat_minor": 4
}
