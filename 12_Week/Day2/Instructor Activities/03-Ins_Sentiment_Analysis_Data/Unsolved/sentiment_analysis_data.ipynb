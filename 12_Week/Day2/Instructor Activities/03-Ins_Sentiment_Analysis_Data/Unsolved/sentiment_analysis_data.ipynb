{
 "cells": [
  {
   "cell_type": "markdown",
   "metadata": {},
   "source": [
    "# Instructor Do: Getting Data for Sentiment Analysis"
   ]
  },
  {
   "cell_type": "code",
   "execution_count": 1,
   "metadata": {},
   "outputs": [],
   "source": [
    "# Initial imports\n",
    "import pandas as pd\n",
    "from dotenv import load_dotenv\n",
    "import os\n",
    "from newsapi import NewsApiClient\n",
    "\n"
   ]
  },
  {
   "cell_type": "code",
   "execution_count": 2,
   "metadata": {},
   "outputs": [],
   "source": [
    "# Load env variables and read the News API Key enviroment variable\n",
    "load_dotenv()\n",
    "api_key = os.getenv(\"NEWS_API_KEY\")\n",
    "\n"
   ]
  },
  {
   "cell_type": "code",
   "execution_count": 3,
   "metadata": {},
   "outputs": [],
   "source": [
    "# Create a newsapi client\n",
    "\n",
    "\n"
   ]
  },
  {
   "cell_type": "code",
   "execution_count": 4,
   "metadata": {},
   "outputs": [
    {
     "data": {
      "text/plain": [
       "{'status': 'ok',\n",
       " 'totalResults': 1,\n",
       " 'articles': [{'source': {'id': None, 'name': 'OilPrice.com'},\n",
       "   'author': 'Nick Cunningham',\n",
       "   'title': \"Extending Production Cuts Would Be 'Suicidal' For OPEC - OilPrice.com\",\n",
       "   'description': 'OPEC is set to ease production cuts in its meeting this week, with demand showing signs of recovery and a battle for market share likely to begin',\n",
       "   'url': 'https://oilprice.com/Energy/Crude-Oil/Extending-Production-Cuts-Would-Be-Suicidal-For-OPEC.html',\n",
       "   'urlToImage': 'https://d32r1sh890xpii.cloudfront.net/article/718x300/2020-07-13_bqelb759jq.jpg',\n",
       "   'publishedAt': '2020-07-14T00:00:00Z',\n",
       "   'content': None}]}"
      ]
     },
     "execution_count": 4,
     "metadata": {},
     "output_type": "execute_result"
    }
   ],
   "source": [
    "# Fetch top news articles about oil\n",
    "#Note: If there are no headlines, code in upcoming cells will throw errors.\n",
    "# If this happens, use the `get_everything()` function instead.\n",
    "\n"
   ]
  },
  {
   "cell_type": "code",
   "execution_count": 5,
   "metadata": {},
   "outputs": [
    {
     "name": "stdout",
     "output_type": "stream",
     "text": [
      "Total articles about oil: 1\n"
     ]
    },
    {
     "data": {
      "text/plain": [
       "{'source': {'id': None, 'name': 'OilPrice.com'},\n",
       " 'author': 'Nick Cunningham',\n",
       " 'title': \"Extending Production Cuts Would Be 'Suicidal' For OPEC - OilPrice.com\",\n",
       " 'description': 'OPEC is set to ease production cuts in its meeting this week, with demand showing signs of recovery and a battle for market share likely to begin',\n",
       " 'url': 'https://oilprice.com/Energy/Crude-Oil/Extending-Production-Cuts-Would-Be-Suicidal-For-OPEC.html',\n",
       " 'urlToImage': 'https://d32r1sh890xpii.cloudfront.net/article/718x300/2020-07-13_bqelb759jq.jpg',\n",
       " 'publishedAt': '2020-07-14T00:00:00Z',\n",
       " 'content': None}"
      ]
     },
     "execution_count": 5,
     "metadata": {},
     "output_type": "execute_result"
    }
   ],
   "source": [
    "# Print total articles\n",
    "\n",
    "\n",
    "# Show sample article\n",
    "\n",
    "\n"
   ]
  },
  {
   "cell_type": "code",
   "execution_count": 6,
   "metadata": {},
   "outputs": [
    {
     "data": {
      "text/html": [
       "<div>\n",
       "<style scoped>\n",
       "    .dataframe tbody tr th:only-of-type {\n",
       "        vertical-align: middle;\n",
       "    }\n",
       "\n",
       "    .dataframe tbody tr th {\n",
       "        vertical-align: top;\n",
       "    }\n",
       "\n",
       "    .dataframe thead th {\n",
       "        text-align: right;\n",
       "    }\n",
       "</style>\n",
       "<table border=\"1\" class=\"dataframe\">\n",
       "  <thead>\n",
       "    <tr style=\"text-align: right;\">\n",
       "      <th></th>\n",
       "      <th>source</th>\n",
       "      <th>author</th>\n",
       "      <th>title</th>\n",
       "      <th>description</th>\n",
       "      <th>url</th>\n",
       "      <th>urlToImage</th>\n",
       "      <th>publishedAt</th>\n",
       "      <th>content</th>\n",
       "    </tr>\n",
       "  </thead>\n",
       "  <tbody>\n",
       "    <tr>\n",
       "      <td>0</td>\n",
       "      <td>{'id': None, 'name': 'OilPrice.com'}</td>\n",
       "      <td>Nick Cunningham</td>\n",
       "      <td>Extending Production Cuts Would Be 'Suicidal' ...</td>\n",
       "      <td>OPEC is set to ease production cuts in its mee...</td>\n",
       "      <td>https://oilprice.com/Energy/Crude-Oil/Extendin...</td>\n",
       "      <td>https://d32r1sh890xpii.cloudfront.net/article/...</td>\n",
       "      <td>2020-07-14T00:00:00Z</td>\n",
       "      <td>None</td>\n",
       "    </tr>\n",
       "  </tbody>\n",
       "</table>\n",
       "</div>"
      ],
      "text/plain": [
       "                                 source           author  \\\n",
       "0  {'id': None, 'name': 'OilPrice.com'}  Nick Cunningham   \n",
       "\n",
       "                                               title  \\\n",
       "0  Extending Production Cuts Would Be 'Suicidal' ...   \n",
       "\n",
       "                                         description  \\\n",
       "0  OPEC is set to ease production cuts in its mee...   \n",
       "\n",
       "                                                 url  \\\n",
       "0  https://oilprice.com/Energy/Crude-Oil/Extendin...   \n",
       "\n",
       "                                          urlToImage           publishedAt  \\\n",
       "0  https://d32r1sh890xpii.cloudfront.net/article/...  2020-07-14T00:00:00Z   \n",
       "\n",
       "  content  \n",
       "0    None  "
      ]
     },
     "execution_count": 6,
     "metadata": {},
     "output_type": "execute_result"
    }
   ],
   "source": [
    "# Transform the response dictionary to a DataFrame\n",
    "\n",
    "\n"
   ]
  },
  {
   "cell_type": "code",
   "execution_count": 7,
   "metadata": {},
   "outputs": [
    {
     "name": "stdout",
     "output_type": "stream",
     "text": [
      "Total articles about Facebook Libra: 98\n"
     ]
    },
    {
     "data": {
      "text/plain": [
       "{'source': {'id': 'reuters', 'name': 'Reuters'},\n",
       " 'author': 'Huw Jones',\n",
       " 'title': 'Regulators plot path for cross-border payments to counter Facebook - Reuters',\n",
       " 'description': 'Streamlining anti-money laundering checks, longer central bank opening hours and linking national systems would cut cross-border payment costs, global regulators said on Monday.',\n",
       " 'url': 'https://www.reuters.com/article/us-g20-payments-idUSKCN24E2NQ',\n",
       " 'urlToImage': 'https://s3.reutersmedia.net/resources/r/?m=02&d=20200713&t=2&i=1525571576&w=1200&r=LYNXNPEG6C1JO',\n",
       " 'publishedAt': '2020-07-13T19:00:00Z',\n",
       " 'content': 'LONDON (Reuters) - Streamlining anti-money laundering checks, longer central bank opening hours and linking national systems would cut cross-border payment costs, global regulators said on Monday. \\r\\n… [+1934 chars]'}"
      ]
     },
     "execution_count": 7,
     "metadata": {},
     "output_type": "execute_result"
    }
   ],
   "source": [
    "# Fetch all the news about Facebook Libra\n",
    "\n",
    "\n",
    "# Print total articles\n",
    "\n",
    "\n",
    "# Show sample article\n",
    "\n",
    "\n"
   ]
  },
  {
   "cell_type": "code",
   "execution_count": 8,
   "metadata": {},
   "outputs": [
    {
     "data": {
      "text/html": [
       "<div>\n",
       "<style scoped>\n",
       "    .dataframe tbody tr th:only-of-type {\n",
       "        vertical-align: middle;\n",
       "    }\n",
       "\n",
       "    .dataframe tbody tr th {\n",
       "        vertical-align: top;\n",
       "    }\n",
       "\n",
       "    .dataframe thead th {\n",
       "        text-align: right;\n",
       "    }\n",
       "</style>\n",
       "<table border=\"1\" class=\"dataframe\">\n",
       "  <thead>\n",
       "    <tr style=\"text-align: right;\">\n",
       "      <th></th>\n",
       "      <th>source</th>\n",
       "      <th>author</th>\n",
       "      <th>title</th>\n",
       "      <th>description</th>\n",
       "      <th>url</th>\n",
       "      <th>urlToImage</th>\n",
       "      <th>publishedAt</th>\n",
       "      <th>content</th>\n",
       "    </tr>\n",
       "  </thead>\n",
       "  <tbody>\n",
       "    <tr>\n",
       "      <td>0</td>\n",
       "      <td>{'id': 'reuters', 'name': 'Reuters'}</td>\n",
       "      <td>Huw Jones</td>\n",
       "      <td>Regulators plot path for cross-border payments...</td>\n",
       "      <td>Streamlining anti-money laundering checks, lon...</td>\n",
       "      <td>https://www.reuters.com/article/us-g20-payment...</td>\n",
       "      <td>https://s3.reutersmedia.net/resources/r/?m=02&amp;...</td>\n",
       "      <td>2020-07-13T19:00:00Z</td>\n",
       "      <td>LONDON (Reuters) - Streamlining anti-money lau...</td>\n",
       "    </tr>\n",
       "    <tr>\n",
       "      <td>1</td>\n",
       "      <td>{'id': 'reuters', 'name': 'Reuters'}</td>\n",
       "      <td>Andrius Sytas</td>\n",
       "      <td>Lithuania dabbles in crypto-coin as central ba...</td>\n",
       "      <td>Lithuania is about to issue the first central ...</td>\n",
       "      <td>https://www.reuters.com/article/us-eu-cryptocu...</td>\n",
       "      <td>https://s4.reutersmedia.net/resources_v2/image...</td>\n",
       "      <td>2020-07-02T12:36:00Z</td>\n",
       "      <td>VILNIUS (Reuters) - Lithuania is about to issu...</td>\n",
       "    </tr>\n",
       "    <tr>\n",
       "      <td>2</td>\n",
       "      <td>{'id': 'reuters', 'name': 'Reuters'}</td>\n",
       "      <td>Carolina Mandl</td>\n",
       "      <td>Brazil suspends WhatsApp's new payments system...</td>\n",
       "      <td>Brazil's central bank effectively suspended a ...</td>\n",
       "      <td>https://in.reuters.com/article/brazil-central-...</td>\n",
       "      <td>https://s3.reutersmedia.net/resources/r/?m=02&amp;...</td>\n",
       "      <td>2020-06-24T02:08:00Z</td>\n",
       "      <td>SAO PAULO/BRASILIA (Reuters) - Brazil’s centra...</td>\n",
       "    </tr>\n",
       "    <tr>\n",
       "      <td>3</td>\n",
       "      <td>{'id': 'reuters', 'name': 'Reuters'}</td>\n",
       "      <td>Carolina Mandl</td>\n",
       "      <td>Brazil suspends WhatsApp's new payments system...</td>\n",
       "      <td>Brazil's central bank effectively suspended a ...</td>\n",
       "      <td>https://www.reuters.com/article/us-brazil-cent...</td>\n",
       "      <td>https://s4.reutersmedia.net/resources_v2/image...</td>\n",
       "      <td>2020-06-24T01:04:00Z</td>\n",
       "      <td>SAO PAULO/BRASILIA (Reuters) - Brazil’s centra...</td>\n",
       "    </tr>\n",
       "    <tr>\n",
       "      <td>4</td>\n",
       "      <td>{'id': 'reuters', 'name': 'Reuters'}</td>\n",
       "      <td>Reuters Editorial</td>\n",
       "      <td>EU urges more G20 cooperation on monetary, fis...</td>\n",
       "      <td>Global powers should cooperate better on monet...</td>\n",
       "      <td>https://www.reuters.com/article/us-eu-economy-...</td>\n",
       "      <td>https://s2.reutersmedia.net/resources/r/?m=02&amp;...</td>\n",
       "      <td>2020-07-09T13:54:00Z</td>\n",
       "      <td>BRUSSELS (Reuters) - Global powers should coop...</td>\n",
       "    </tr>\n",
       "  </tbody>\n",
       "</table>\n",
       "</div>"
      ],
      "text/plain": [
       "                                 source             author  \\\n",
       "0  {'id': 'reuters', 'name': 'Reuters'}          Huw Jones   \n",
       "1  {'id': 'reuters', 'name': 'Reuters'}      Andrius Sytas   \n",
       "2  {'id': 'reuters', 'name': 'Reuters'}     Carolina Mandl   \n",
       "3  {'id': 'reuters', 'name': 'Reuters'}     Carolina Mandl   \n",
       "4  {'id': 'reuters', 'name': 'Reuters'}  Reuters Editorial   \n",
       "\n",
       "                                               title  \\\n",
       "0  Regulators plot path for cross-border payments...   \n",
       "1  Lithuania dabbles in crypto-coin as central ba...   \n",
       "2  Brazil suspends WhatsApp's new payments system...   \n",
       "3  Brazil suspends WhatsApp's new payments system...   \n",
       "4  EU urges more G20 cooperation on monetary, fis...   \n",
       "\n",
       "                                         description  \\\n",
       "0  Streamlining anti-money laundering checks, lon...   \n",
       "1  Lithuania is about to issue the first central ...   \n",
       "2  Brazil's central bank effectively suspended a ...   \n",
       "3  Brazil's central bank effectively suspended a ...   \n",
       "4  Global powers should cooperate better on monet...   \n",
       "\n",
       "                                                 url  \\\n",
       "0  https://www.reuters.com/article/us-g20-payment...   \n",
       "1  https://www.reuters.com/article/us-eu-cryptocu...   \n",
       "2  https://in.reuters.com/article/brazil-central-...   \n",
       "3  https://www.reuters.com/article/us-brazil-cent...   \n",
       "4  https://www.reuters.com/article/us-eu-economy-...   \n",
       "\n",
       "                                          urlToImage           publishedAt  \\\n",
       "0  https://s3.reutersmedia.net/resources/r/?m=02&...  2020-07-13T19:00:00Z   \n",
       "1  https://s4.reutersmedia.net/resources_v2/image...  2020-07-02T12:36:00Z   \n",
       "2  https://s3.reutersmedia.net/resources/r/?m=02&...  2020-06-24T02:08:00Z   \n",
       "3  https://s4.reutersmedia.net/resources_v2/image...  2020-06-24T01:04:00Z   \n",
       "4  https://s2.reutersmedia.net/resources/r/?m=02&...  2020-07-09T13:54:00Z   \n",
       "\n",
       "                                             content  \n",
       "0  LONDON (Reuters) - Streamlining anti-money lau...  \n",
       "1  VILNIUS (Reuters) - Lithuania is about to issu...  \n",
       "2  SAO PAULO/BRASILIA (Reuters) - Brazil’s centra...  \n",
       "3  SAO PAULO/BRASILIA (Reuters) - Brazil’s centra...  \n",
       "4  BRUSSELS (Reuters) - Global powers should coop...  "
      ]
     },
     "execution_count": 8,
     "metadata": {},
     "output_type": "execute_result"
    }
   ],
   "source": [
    "# Transform the response dictionary to a DataFrame\n",
    "\n",
    "\n"
   ]
  }
 ],
 "metadata": {
  "file_extension": ".py",
  "kernelspec": {
   "display_name": "Python 3",
   "language": "python",
   "name": "python3"
  },
  "language_info": {
   "codemirror_mode": {
    "name": "ipython",
    "version": 3
   },
   "file_extension": ".py",
   "mimetype": "text/x-python",
   "name": "python",
   "nbconvert_exporter": "python",
   "pygments_lexer": "ipython3",
   "version": "3.7.3"
  },
  "mimetype": "text/x-python",
  "name": "python",
  "npconvert_exporter": "python",
  "pygments_lexer": "ipython3",
  "version": 3
 },
 "nbformat": 4,
 "nbformat_minor": 4
}
