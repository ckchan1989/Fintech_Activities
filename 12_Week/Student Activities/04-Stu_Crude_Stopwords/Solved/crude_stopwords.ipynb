{
 "cells": [
  {
   "cell_type": "markdown",
   "metadata": {},
   "source": [
    "# Students Do: Crude Stopwords\n",
    "For this activity, create a function that takes in an article and outputs a list of words that is free of stopwords and any non-letter characters. After looking at the results, define your own list of stopwords to add to the NLTK default set. "
   ]
  },
  {
   "cell_type": "code",
   "execution_count": 1,
   "metadata": {},
   "outputs": [],
   "source": [
    "from nltk.corpus import reuters, stopwords\n",
    "from nltk.tokenize import word_tokenize\n",
    "import re"
   ]
  },
  {
   "cell_type": "code",
   "execution_count": 9,
   "metadata": {},
   "outputs": [
    {
     "data": {
      "text/plain": [
       "str"
      ]
     },
     "execution_count": 9,
     "metadata": {},
     "output_type": "execute_result"
    }
   ],
   "source": [
    "crude_article = reuters.raw(fileids=reuters.fileids(categories='crude')[2])\n",
    "type(crude_article)"
   ]
  },
  {
   "cell_type": "code",
   "execution_count": 3,
   "metadata": {},
   "outputs": [
    {
     "name": "stdout",
     "output_type": "stream",
     "text": [
      "TURKEY CALLS FOR DIALOGUE TO SOLVE DISPUTE\n",
      "  Turkey said today its disputes with\n",
      "  Greece, including rights on the continental shelf in the Aegean\n",
      "  Sea, should be solved through negotiations.\n",
      "      A Foreign Ministry statement said the latest crisis between\n",
      "  the two NATO members stemmed from the continental shelf dispute\n",
      "  and an agreement on this issue would effect the security,\n",
      "  economy and other rights of both countries.\n",
      "      \"As the issue is basicly political, a solution can only be\n",
      "  found by bilateral negotiations,\" the statement said. Greece has\n",
      "  repeatedly said the issue was legal and could be solved at the\n",
      "  International Court of Justice.\n",
      "      The two countries approached armed confrontation last month\n",
      "  after Greece announced it planned oil exploration work in the\n",
      "  Aegean and Turkey said it would also search for oil.\n",
      "      A face-off was averted when Turkey confined its research to\n",
      "  territorrial waters. \"The latest crises created an historic\n",
      "  opportunity to solve the disputes between the two countries,\"\n",
      "  the Foreign Ministry statement said.\n",
      "      Turkey's ambassador in Athens, Nazmi Akiman, was due to\n",
      "  meet Prime Minister Andreas Papandreou today for the Greek\n",
      "  reply to a message sent last week by Turkish Prime Minister\n",
      "  Turgut Ozal. The contents of the message were not disclosed.\n",
      "  \n",
      "\n",
      "\n"
     ]
    }
   ],
   "source": [
    "print(crude_article)"
   ]
  },
  {
   "cell_type": "code",
   "execution_count": 10,
   "metadata": {},
   "outputs": [
    {
     "data": {
      "text/plain": [
       "['', 'I', 'go', '', '', '', 'to']"
      ]
     },
     "execution_count": 10,
     "metadata": {},
     "output_type": "execute_result"
    }
   ],
   "source": [
    "aa= \" I go    to\" \n",
    "aa.split(' ')"
   ]
  },
  {
   "cell_type": "code",
   "execution_count": 4,
   "metadata": {},
   "outputs": [],
   "source": [
    "# Define stopwording and regex \n",
    "def clean_text(article):\n",
    "    sw = set(stopwords.words('english'))\n",
    "    regex = re.compile(\"[^a-zA-Z ]\")\n",
    "    \n",
    "    re_clean = regex.sub('', article)\n",
    "    words = word_tokenize(re_clean)\n",
    "    output = [word.lower() for word in words if word.lower() not in sw]\n",
    "    return output"
   ]
  },
  {
   "cell_type": "code",
   "execution_count": 11,
   "metadata": {},
   "outputs": [
    {
     "name": "stdout",
     "output_type": "stream",
     "text": [
      "['turkey', 'calls', 'dialogue', 'solve', 'dispute', 'turkey', 'disputes', 'greece', 'rights', 'continental', 'shelf', 'aegean', 'sea', 'solved', 'negotiations', 'foreign', 'ministry', 'statement', 'latest', 'crisis', 'two', 'nato', 'members', 'stemmed', 'continental', 'shelf', 'dispute', 'agreement', 'issue', 'would', 'effect', 'security', 'economy', 'rights', 'countries', 'issue', 'basicly', 'political', 'solution', 'bilateral', 'negotiations', 'statement', 'greece', 'repeatedly', 'issue', 'legal', 'could', 'solved', 'international', 'court', 'justice', 'two', 'countries', 'approached', 'armed', 'confrontation', 'last', 'month', 'greece', 'planned', 'oil', 'exploration', 'work', 'aegean', 'turkey', 'would', 'search', 'oil', 'faceoff', 'averted', 'turkey', 'confined', 'research', 'territorrial', 'waters', 'latest', 'crises', 'created', 'historic', 'opportunity', 'solve', 'disputes', 'two', 'countries', 'foreign', 'ministry', 'statement', 'turkeys', 'ambassador', 'athens', 'nazmi', 'akiman', 'due', 'meet', 'prime', 'minister', 'andreas', 'papandreou', 'greek', 'reply', 'message', 'last', 'turkish', 'prime', 'minister', 'turgut', 'ozal', 'contents', 'message', 'disclosed']\n"
     ]
    }
   ],
   "source": [
    "# Store result of running clean_text\n",
    "result = clean_text(crude_article)\n",
    "print(result)"
   ]
  },
  {
   "cell_type": "code",
   "execution_count": 6,
   "metadata": {},
   "outputs": [
    {
     "name": "stdout",
     "output_type": "stream",
     "text": [
      "{'opportunity', 'due', 'turkish', 'approached', 'created', 'confined', 'continental', 'political', 'sent', 'solved', 'bilateral', 'oil', 'shelf', 'work', 'effect', 'legal', 'disclosed', 'including', 'latest', 'turgut', 'last', 'turkey', 'dialogue', 'sea', 'solve', 'minister', 'court', 'issue', 'andreas', 'solution', 'members', 'papandreou', 'statement', 'crises', 'agreement', 'negotiations', 'disputes', 'greek', 'international', 'territorrial', 'security', 'averted', 'calls', 'planned', 'would', 'ambassador', 'rights', 'search', 'akiman', 'aegean', 'reply', 'announced', 'ministry', 'month', 'research', 'stemmed', 'basicly', 'countries', 'contents', 'week', 'meet', 'waters', 'foreign', 'repeatedly', 'could', 'crisis', 'turkeys', 'nazmi', 'message', 'confrontation', 'found', 'two', 'historic', 'armed', 'said', 'faceoff', 'nato', 'prime', 'today', 'justice', 'dispute', 'also', 'greece', 'economy', 'exploration', 'athens', 'ozal'}\n"
     ]
    }
   ],
   "source": [
    "# Print unique words (a set of the result)\n",
    "print(set(result))"
   ]
  },
  {
   "cell_type": "code",
   "execution_count": 7,
   "metadata": {},
   "outputs": [],
   "source": [
    "# Second iteration, with custom stopwords\n",
    "def clean_text(article):\n",
    "    sw = set(stopwords.words('english'))\n",
    "    regex = re.compile(\"[^a-zA-Z ]\")\n",
    "    sw_addons = {'said', 'sent', 'found', 'including', 'today', 'announced', 'week', 'basically', 'also'}\n",
    "    \n",
    "    re_clean = regex.sub('', article)\n",
    "    words = word_tokenize(re_clean)\n",
    "    output = [word.lower() for word in words if word.lower() not in sw.union(sw_addons)]\n",
    "    return output"
   ]
  },
  {
   "cell_type": "code",
   "execution_count": 8,
   "metadata": {},
   "outputs": [
    {
     "name": "stdout",
     "output_type": "stream",
     "text": [
      "{'opportunity', 'due', 'turkish', 'approached', 'created', 'confined', 'continental', 'political', 'solved', 'bilateral', 'oil', 'shelf', 'work', 'effect', 'legal', 'disclosed', 'latest', 'turgut', 'last', 'turkey', 'dialogue', 'sea', 'solve', 'minister', 'court', 'issue', 'andreas', 'solution', 'members', 'papandreou', 'statement', 'crises', 'agreement', 'negotiations', 'disputes', 'greek', 'international', 'territorrial', 'security', 'averted', 'calls', 'planned', 'would', 'ambassador', 'rights', 'search', 'akiman', 'aegean', 'reply', 'ministry', 'month', 'research', 'stemmed', 'basicly', 'countries', 'contents', 'meet', 'waters', 'foreign', 'repeatedly', 'could', 'crisis', 'turkeys', 'nazmi', 'message', 'confrontation', 'two', 'historic', 'armed', 'faceoff', 'nato', 'prime', 'justice', 'dispute', 'greece', 'economy', 'exploration', 'athens', 'ozal'}\n"
     ]
    }
   ],
   "source": [
    "# Store result of running clean_text\n",
    "result2 = clean_text(crude_article)\n",
    "\n",
    "# Print unique words (a set of the result)\n",
    "print(set(result2))"
   ]
  },
  {
   "cell_type": "code",
   "execution_count": 23,
   "metadata": {},
   "outputs": [
    {
     "data": {
      "text/plain": [
       "\"Let's eat\""
      ]
     },
     "execution_count": 23,
     "metadata": {},
     "output_type": "execute_result"
    }
   ],
   "source": [
    "aa= \"Let's eat!\" \n",
    "re.sub('[^\\w \\']', '', aa)\n"
   ]
  },
  {
   "cell_type": "code",
   "execution_count": 24,
   "metadata": {},
   "outputs": [
    {
     "data": {
      "text/plain": [
       "['lets', 'eat']"
      ]
     },
     "execution_count": 24,
     "metadata": {},
     "output_type": "execute_result"
    }
   ],
   "source": [
    "re.sub('[^a-zA-Z ]', '', aa).lower().split(' ')\n"
   ]
  },
  {
   "cell_type": "code",
   "execution_count": null,
   "metadata": {},
   "outputs": [],
   "source": []
  },
  {
   "cell_type": "code",
   "execution_count": null,
   "metadata": {},
   "outputs": [],
   "source": []
  }
 ],
 "metadata": {
  "file_extension": ".py",
  "kernelspec": {
   "display_name": "Python 3",
   "language": "python",
   "name": "python3"
  },
  "language_info": {
   "codemirror_mode": {
    "name": "ipython",
    "version": 3
   },
   "file_extension": ".py",
   "mimetype": "text/x-python",
   "name": "python",
   "nbconvert_exporter": "python",
   "pygments_lexer": "ipython3",
   "version": "3.8.5"
  },
  "mimetype": "text/x-python",
  "name": "python",
  "npconvert_exporter": "python",
  "pygments_lexer": "ipython3",
  "version": 3
 },
 "nbformat": 4,
 "nbformat_minor": 4
}
