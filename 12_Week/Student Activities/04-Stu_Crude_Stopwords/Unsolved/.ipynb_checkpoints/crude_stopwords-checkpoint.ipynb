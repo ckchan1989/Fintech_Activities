{
 "cells": [
  {
   "cell_type": "markdown",
   "metadata": {},
   "source": [
    "# Students Do: Crude Stopwords\n",
    "For this activity, create a function that takes in an article and outputs a list of words that is free of stopwords and any non-letter characters. After looking at the results, define your own list of stopwords to add to the NLTK default set. "
   ]
  },
  {
   "cell_type": "code",
   "execution_count": 1,
   "metadata": {},
   "outputs": [],
   "source": [
    "from nltk.corpus import reuters, stopwords\n",
    "from nltk.tokenize import word_tokenize\n",
    "import re"
   ]
  },
  {
   "cell_type": "code",
   "execution_count": 2,
   "metadata": {},
   "outputs": [],
   "source": [
    "crude_article = reuters.raw(fileids=reuters.fileids(categories='crude')[2])"
   ]
  },
  {
   "cell_type": "code",
   "execution_count": 3,
   "metadata": {},
   "outputs": [
    {
     "name": "stdout",
     "output_type": "stream",
     "text": [
      "TURKEY CALLS FOR DIALOGUE TO SOLVE DISPUTE\n",
      "  Turkey said today its disputes with\n",
      "  Greece, including rights on the continental shelf in the Aegean\n",
      "  Sea, should be solved through negotiations.\n",
      "      A Foreign Ministry statement said the latest crisis between\n",
      "  the two NATO members stemmed from the continental shelf dispute\n",
      "  and an agreement on this issue would effect the security,\n",
      "  economy and other rights of both countries.\n",
      "      \"As the issue is basicly political, a solution can only be\n",
      "  found by bilateral negotiations,\" the statement said. Greece has\n",
      "  repeatedly said the issue was legal and could be solved at the\n",
      "  International Court of Justice.\n",
      "      The two countries approached armed confrontation last month\n",
      "  after Greece announced it planned oil exploration work in the\n",
      "  Aegean and Turkey said it would also search for oil.\n",
      "      A face-off was averted when Turkey confined its research to\n",
      "  territorrial waters. \"The latest crises created an historic\n",
      "  opportunity to solve the disputes between the two countries,\"\n",
      "  the Foreign Ministry statement said.\n",
      "      Turkey's ambassador in Athens, Nazmi Akiman, was due to\n",
      "  meet Prime Minister Andreas Papandreou today for the Greek\n",
      "  reply to a message sent last week by Turkish Prime Minister\n",
      "  Turgut Ozal. The contents of the message were not disclosed.\n",
      "  \n",
      "\n",
      "\n"
     ]
    }
   ],
   "source": [
    "print(crude_article)"
   ]
  },
  {
   "cell_type": "code",
   "execution_count": 4,
   "metadata": {},
   "outputs": [],
   "source": [
    "# Define stopwording and regex \n",
    "def clean_text(article):\n",
    "    sw = set(stopwords.words('english'))\n",
    "    regex = re.compile(\"[^a-zA-Z ]\")\n",
    "    \n",
    "    re_clean = regex.sub('', article)\n",
    "    words = word_tokenize(re_clean)\n",
    "    output = [word.lower() for word in words if word.lower() not in sw]\n",
    "    return output"
   ]
  },
  {
   "cell_type": "code",
   "execution_count": 5,
   "metadata": {},
   "outputs": [
    {
     "name": "stdout",
     "output_type": "stream",
     "text": [
      "['turkey', 'calls', 'dialogue', 'solve', 'dispute', 'turkey', 'said', 'today', 'disputes', 'greece', 'including', 'rights', 'continental', 'shelf', 'aegean', 'sea', 'solved', 'negotiations', 'foreign', 'ministry', 'statement', 'said', 'latest', 'crisis', 'two', 'nato', 'members', 'stemmed', 'continental', 'shelf', 'dispute', 'agreement', 'issue', 'would', 'effect', 'security', 'economy', 'rights', 'countries', 'issue', 'basicly', 'political', 'solution', 'found', 'bilateral', 'negotiations', 'statement', 'said', 'greece', 'repeatedly', 'said', 'issue', 'legal', 'could', 'solved', 'international', 'court', 'justice', 'two', 'countries', 'approached', 'armed', 'confrontation', 'last', 'month', 'greece', 'announced', 'planned', 'oil', 'exploration', 'work', 'aegean', 'turkey', 'said', 'would', 'also', 'search', 'oil', 'faceoff', 'averted', 'turkey', 'confined', 'research', 'territorrial', 'waters', 'latest', 'crises', 'created', 'historic', 'opportunity', 'solve', 'disputes', 'two', 'countries', 'foreign', 'ministry', 'statement', 'said', 'turkeys', 'ambassador', 'athens', 'nazmi', 'akiman', 'due', 'meet', 'prime', 'minister', 'andreas', 'papandreou', 'today', 'greek', 'reply', 'message', 'sent', 'last', 'week', 'turkish', 'prime', 'minister', 'turgut', 'ozal', 'contents', 'message', 'disclosed']\n"
     ]
    }
   ],
   "source": [
    "# Store result of running clean_text\n",
    "result = clean_text(crude_article)\n",
    "print(result)"
   ]
  },
  {
   "cell_type": "code",
   "execution_count": 6,
   "metadata": {},
   "outputs": [
    {
     "name": "stdout",
     "output_type": "stream",
     "text": [
      "{'basicly', 'confined', 'territorrial', 'would', 'search', 'research', 'stemmed', 'said', 'including', 'month', 'contents', 'also', 'ambassador', 'found', 'statement', 'could', 'political', 'dialogue', 'approached', 'continental', 'latest', 'dispute', 'akiman', 'last', 'ministry', 'crisis', 'effect', 'legal', 'solution', 'meet', 'announced', 'turkish', 'greek', 'crises', 'security', 'opportunity', 'negotiations', 'andreas', 'sent', 'solved', 'message', 'disputes', 'ozal', 'foreign', 'greece', 'members', 'agreement', 'disclosed', 'papandreou', 'nato', 'aegean', 'waters', 'nazmi', 'historic', 'solve', 'athens', 'prime', 'work', 'confrontation', 'minister', 'justice', 'repeatedly', 'turkeys', 'due', 'calls', 'rights', 'shelf', 'oil', 'issue', 'created', 'sea', 'faceoff', 'planned', 'today', 'bilateral', 'court', 'two', 'countries', 'armed', 'turgut', 'economy', 'turkey', 'reply', 'exploration', 'international', 'averted', 'week'}\n"
     ]
    }
   ],
   "source": [
    "# Print unique words (a set of the result)\n",
    "print(set(result))"
   ]
  },
  {
   "cell_type": "code",
   "execution_count": 9,
   "metadata": {},
   "outputs": [],
   "source": [
    "# Second iteration, with custom stopwords\n",
    "def clean_text(article):\n",
    "    sw = set(stopwords.words('english'))\n",
    "    regex = re.compile(\"[^a-zA-Z ]\")\n",
    "    sw_addons = {'security', 'sea', 'created', 'planned', 'today', 'announced', 'week', 'basically', 'also'}\n",
    "    \n",
    "    re_clean = regex.sub('', article)\n",
    "    words = word_tokenize(re_clean)\n",
    "    output = [word.lower() for word in words if word.lower() not in sw.union(sw_addons)]\n",
    "    return output"
   ]
  },
  {
   "cell_type": "code",
   "execution_count": 11,
   "metadata": {},
   "outputs": [
    {
     "name": "stdout",
     "output_type": "stream",
     "text": [
      "{'basicly', 'confined', 'territorrial', 'would', 'search', 'research', 'stemmed', 'said', 'including', 'month', 'contents', 'ambassador', 'found', 'statement', 'could', 'political', 'dialogue', 'approached', 'continental', 'latest', 'dispute', 'akiman', 'last', 'ministry', 'crisis', 'effect', 'legal', 'solution', 'meet', 'turkish', 'greek', 'crises', 'opportunity', 'negotiations', 'andreas', 'sent', 'solved', 'message', 'disputes', 'ozal', 'foreign', 'greece', 'members', 'agreement', 'disclosed', 'papandreou', 'nato', 'aegean', 'waters', 'nazmi', 'historic', 'solve', 'athens', 'prime', 'work', 'confrontation', 'minister', 'justice', 'repeatedly', 'turkeys', 'due', 'calls', 'rights', 'shelf', 'oil', 'issue', 'faceoff', 'bilateral', 'court', 'two', 'countries', 'armed', 'turgut', 'economy', 'turkey', 'reply', 'exploration', 'international', 'averted'}\n"
     ]
    }
   ],
   "source": [
    "# Store result of running clean_text\n",
    "result2 = clean_text(crude_article)\n",
    "\n",
    "# Print unique words (a set of the result)\n",
    "print(set(result2))"
   ]
  },
  {
   "cell_type": "code",
   "execution_count": null,
   "metadata": {},
   "outputs": [],
   "source": []
  }
 ],
 "metadata": {
  "file_extension": ".py",
  "kernelspec": {
   "display_name": "Python 3",
   "language": "python",
   "name": "python3"
  },
  "language_info": {
   "codemirror_mode": {
    "name": "ipython",
    "version": 3
   },
   "file_extension": ".py",
   "mimetype": "text/x-python",
   "name": "python",
   "nbconvert_exporter": "python",
   "pygments_lexer": "ipython3",
   "version": "3.8.5"
  },
  "mimetype": "text/x-python",
  "name": "python",
  "npconvert_exporter": "python",
  "pygments_lexer": "ipython3",
  "version": 3
 },
 "nbformat": 4,
 "nbformat_minor": 4
}
