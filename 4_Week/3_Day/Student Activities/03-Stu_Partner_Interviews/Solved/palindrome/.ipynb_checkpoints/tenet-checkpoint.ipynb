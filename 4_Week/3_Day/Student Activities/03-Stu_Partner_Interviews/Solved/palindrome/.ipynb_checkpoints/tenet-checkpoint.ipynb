{
 "cells": [
  {
   "cell_type": "code",
   "execution_count": 28,
   "id": "indirect-worry",
   "metadata": {},
   "outputs": [],
   "source": [
    "x = 'mom'"
   ]
  },
  {
   "cell_type": "code",
   "execution_count": 29,
   "id": "impossible-bottle",
   "metadata": {},
   "outputs": [],
   "source": [
    "def palindrome(x):\n",
    "    y = str(x)\n",
    "    if y == y[::-1]:\n",
    "        print(f'{x} is a palindrome')\n",
    "    else:\n",
    "        print(f'{x} is NOT a palindrome')"
   ]
  },
  {
   "cell_type": "code",
   "execution_count": 30,
   "id": "ordered-soviet",
   "metadata": {},
   "outputs": [
    {
     "name": "stdout",
     "output_type": "stream",
     "text": [
      "mom is a palindrome\n"
     ]
    }
   ],
   "source": [
    "palindrome(x)"
   ]
  },
  {
   "cell_type": "code",
   "execution_count": 18,
   "id": "reflected-seating",
   "metadata": {},
   "outputs": [
    {
     "data": {
      "text/plain": [
       "'nahSnahS'"
      ]
     },
     "execution_count": 18,
     "metadata": {},
     "output_type": "execute_result"
    }
   ],
   "source": []
  },
  {
   "cell_type": "code",
   "execution_count": null,
   "id": "violent-sydney",
   "metadata": {},
   "outputs": [],
   "source": []
  }
 ],
 "metadata": {
  "kernelspec": {
   "display_name": "Python 3",
   "language": "python",
   "name": "python3"
  },
  "language_info": {
   "codemirror_mode": {
    "name": "ipython",
    "version": 3
   },
   "file_extension": ".py",
   "mimetype": "text/x-python",
   "name": "python",
   "nbconvert_exporter": "python",
   "pygments_lexer": "ipython3",
   "version": "3.8.5"
  }
 },
 "nbformat": 4,
 "nbformat_minor": 5
}
