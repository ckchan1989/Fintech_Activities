{
 "cells": [
  {
   "cell_type": "code",
   "execution_count": 19,
   "id": "violent-absence",
   "metadata": {},
   "outputs": [],
   "source": [
    "maximin_list = [12, 33, 41, 2, 61, 32, 75, 43, 67,10000,-10000]"
   ]
  },
  {
   "cell_type": "code",
   "execution_count": 20,
   "id": "hydraulic-patch",
   "metadata": {},
   "outputs": [],
   "source": [
    "def findingminmax(x):\n",
    "    max_value = 0\n",
    "    min_value = int(x[0])\n",
    "    \n",
    "    for y in x:        \n",
    "        if y > max_value:\n",
    "            max_value = y\n",
    "        elif y < min_value:\n",
    "            min_value = y\n",
    "    print(f'The max value is {max_value} and the min value is {min_value}')"
   ]
  },
  {
   "cell_type": "code",
   "execution_count": 21,
   "id": "involved-invasion",
   "metadata": {},
   "outputs": [
    {
     "name": "stdout",
     "output_type": "stream",
     "text": [
      "The max value is 10000 and the min value is -10000\n"
     ]
    }
   ],
   "source": [
    "findingminmax(maximin_list)"
   ]
  },
  {
   "cell_type": "code",
   "execution_count": null,
   "id": "cleared-attribute",
   "metadata": {},
   "outputs": [],
   "source": []
  }
 ],
 "metadata": {
  "kernelspec": {
   "display_name": "Python 3",
   "language": "python",
   "name": "python3"
  },
  "language_info": {
   "codemirror_mode": {
    "name": "ipython",
    "version": 3
   },
   "file_extension": ".py",
   "mimetype": "text/x-python",
   "name": "python",
   "nbconvert_exporter": "python",
   "pygments_lexer": "ipython3",
   "version": "3.8.5"
  }
 },
 "nbformat": 4,
 "nbformat_minor": 5
}
