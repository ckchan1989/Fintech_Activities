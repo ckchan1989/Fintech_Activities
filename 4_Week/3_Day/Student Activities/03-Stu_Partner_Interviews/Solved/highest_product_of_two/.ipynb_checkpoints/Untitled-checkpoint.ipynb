{
 "cells": [
  {
   "cell_type": "code",
   "execution_count": 1,
   "id": "offshore-morris",
   "metadata": {},
   "outputs": [],
   "source": [
    "x = [-100, 2, 42, 100]"
   ]
  },
  {
   "cell_type": "code",
   "execution_count": 20,
   "id": "irish-princeton",
   "metadata": {},
   "outputs": [],
   "source": [
    "def high_prod(k):\n",
    "    maxi = max(k)\n",
    "    sec_max = 0\n",
    "    for x in k:\n",
    "        if (x > sec_max) & (x != maxi):\n",
    "            sec_max = x\n",
    "    print(sec_max, maxi, sec_max * maxi)"
   ]
  },
  {
   "cell_type": "code",
   "execution_count": 19,
   "id": "single-helen",
   "metadata": {},
   "outputs": [
    {
     "name": "stdout",
     "output_type": "stream",
     "text": [
      "42 100 4200\n"
     ]
    }
   ],
   "source": [
    "high_prod(x)"
   ]
  },
  {
   "cell_type": "code",
   "execution_count": null,
   "id": "liquid-findings",
   "metadata": {},
   "outputs": [],
   "source": []
  }
 ],
 "metadata": {
  "kernelspec": {
   "display_name": "Python 3",
   "language": "python",
   "name": "python3"
  },
  "language_info": {
   "codemirror_mode": {
    "name": "ipython",
    "version": 3
   },
   "file_extension": ".py",
   "mimetype": "text/x-python",
   "name": "python",
   "nbconvert_exporter": "python",
   "pygments_lexer": "ipython3",
   "version": "3.8.5"
  }
 },
 "nbformat": 4,
 "nbformat_minor": 5
}
