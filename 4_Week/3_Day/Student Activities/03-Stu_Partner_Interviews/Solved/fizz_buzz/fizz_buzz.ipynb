{
 "cells": [
  {
   "cell_type": "code",
   "execution_count": 13,
   "id": "underlying-needle",
   "metadata": {},
   "outputs": [
    {
     "data": {
      "text/plain": [
       "45"
      ]
     },
     "execution_count": 13,
     "metadata": {},
     "output_type": "execute_result"
    }
   ],
   "source": [
    "import random\n",
    "num = random.randrange(1, 100)\n",
    "num"
   ]
  },
  {
   "cell_type": "code",
   "execution_count": 14,
   "id": "thick-stephen",
   "metadata": {},
   "outputs": [
    {
     "name": "stdout",
     "output_type": "stream",
     "text": [
      "0 FizzBuzz\n",
      "1 No Buzz\n",
      "2 No Buzz\n",
      "3 Fizz\n",
      "4 No Buzz\n",
      "5 Buzz\n",
      "6 Fizz\n",
      "7 No Buzz\n",
      "8 No Buzz\n",
      "9 Fizz\n",
      "10 Buzz\n",
      "11 No Buzz\n",
      "12 Fizz\n",
      "13 No Buzz\n",
      "14 No Buzz\n",
      "15 FizzBuzz\n",
      "16 No Buzz\n",
      "17 No Buzz\n",
      "18 Fizz\n",
      "19 No Buzz\n",
      "20 Buzz\n",
      "21 Fizz\n",
      "22 No Buzz\n",
      "23 No Buzz\n",
      "24 Fizz\n",
      "25 Buzz\n",
      "26 No Buzz\n",
      "27 Fizz\n",
      "28 No Buzz\n",
      "29 No Buzz\n",
      "30 FizzBuzz\n",
      "31 No Buzz\n",
      "32 No Buzz\n",
      "33 Fizz\n",
      "34 No Buzz\n",
      "35 Buzz\n",
      "36 Fizz\n",
      "37 No Buzz\n",
      "38 No Buzz\n",
      "39 Fizz\n",
      "40 Buzz\n",
      "41 No Buzz\n",
      "42 Fizz\n",
      "43 No Buzz\n",
      "44 No Buzz\n"
     ]
    }
   ],
   "source": [
    "for x in range(num):\n",
    "    if (x % 3 == 0) & (x % 5 == 0):\n",
    "        var = 'FizzBuzz'\n",
    "    elif x % 3 == 0:\n",
    "        var ='Fizz'\n",
    "    elif x % 5 == 0:\n",
    "        var = 'Buzz'\n",
    "    else:\n",
    "        var = 'No Buzz'\n",
    "    print(x,var)\n"
   ]
  },
  {
   "cell_type": "code",
   "execution_count": null,
   "id": "attempted-adaptation",
   "metadata": {},
   "outputs": [],
   "source": []
  }
 ],
 "metadata": {
  "kernelspec": {
   "display_name": "Python 3",
   "language": "python",
   "name": "python3"
  },
  "language_info": {
   "codemirror_mode": {
    "name": "ipython",
    "version": 3
   },
   "file_extension": ".py",
   "mimetype": "text/x-python",
   "name": "python",
   "nbconvert_exporter": "python",
   "pygments_lexer": "ipython3",
   "version": "3.8.5"
  }
 },
 "nbformat": 4,
 "nbformat_minor": 5
}
