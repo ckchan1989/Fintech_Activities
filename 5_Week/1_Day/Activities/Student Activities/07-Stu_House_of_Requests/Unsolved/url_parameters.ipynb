{
 "cells": [
  {
   "cell_type": "markdown",
   "metadata": {},
   "source": [
    "# House of Requests"
   ]
  },
  {
   "cell_type": "markdown",
   "metadata": {},
   "source": [
    "Use the `Deck of Cards` API to play a game of BlackJack with a partner. Parameterize the `Deck of Cards` API `request urls` in order to create the deck of cards, as well as draw cards for the game."
   ]
  },
  {
   "cell_type": "code",
   "execution_count": 1,
   "metadata": {},
   "outputs": [],
   "source": [
    "import requests\n",
    "import json"
   ]
  },
  {
   "cell_type": "markdown",
   "metadata": {},
   "source": [
    "## Prep for the Game"
   ]
  },
  {
   "cell_type": "code",
   "execution_count": 4,
   "metadata": {},
   "outputs": [
    {
     "name": "stdout",
     "output_type": "stream",
     "text": [
      "{\n",
      "    \"success\": true,\n",
      "    \"deck_id\": \"1emkd7kt9y1a\",\n",
      "    \"remaining\": 312,\n",
      "    \"shuffled\": true\n",
      "}\n"
     ]
    }
   ],
   "source": [
    "# Declare request url to create deck id\n",
    "create_deck_url = \"https://deckofcardsapi.com/api/deck/new/shuffle/?deck_count=6\"\n",
    "\n",
    "# Execute create deck url\n",
    "create_deck = requests.get(create_deck_url).json()\n",
    "print(json.dumps(create_deck,indent=4))"
   ]
  },
  {
   "cell_type": "markdown",
   "metadata": {},
   "source": [
    "### Parse JSON and extract `deck_id`"
   ]
  },
  {
   "cell_type": "code",
   "execution_count": 6,
   "metadata": {},
   "outputs": [
    {
     "name": "stdout",
     "output_type": "stream",
     "text": [
      "1emkd7kt9y1a\n"
     ]
    }
   ],
   "source": [
    "# Select deck_id\n",
    "deck_id = create_deck['deck_id']\n",
    "print(deck_id)"
   ]
  },
  {
   "cell_type": "markdown",
   "metadata": {},
   "source": [
    "### Declare request urls to draw cards and shuffle deck"
   ]
  },
  {
   "cell_type": "code",
   "execution_count": 26,
   "metadata": {},
   "outputs": [
    {
     "name": "stdout",
     "output_type": "stream",
     "text": [
      "https://deckofcardsapi.com/api/deck/1emkd7kt9y1a/draw/?count=2\n",
      "https://deckofcardsapi.com/api/deck/1emkd7kt9y1a/shuffle/\n"
     ]
    }
   ],
   "source": [
    "# Declare draw_cards_url and shuffle_deck_url\n",
    "# Use string interpolation to incorporate the deck_id\n",
    "draw_cards_url = f\"https://deckofcardsapi.com/api/deck/{deck_id}/draw/?count=2\"\n",
    "draw_cards_url1 = f\"https://deckofcardsapi.com/api/deck/{deck_id}/draw/?count=1\"\n",
    "shuffle_deck_url = f\"https://deckofcardsapi.com/api/deck/{deck_id}/shuffle/\"\n",
    "print(draw_cards_url)\n",
    "print(shuffle_deck_url)"
   ]
  },
  {
   "cell_type": "markdown",
   "metadata": {},
   "source": [
    "## Player 1 Turn"
   ]
  },
  {
   "cell_type": "markdown",
   "metadata": {},
   "source": [
    "### Draw two cards"
   ]
  },
  {
   "cell_type": "code",
   "execution_count": 61,
   "metadata": {},
   "outputs": [],
   "source": [
    "# Draw two cards\n",
    "draw_card = requests.get(draw_cards_url).json()"
   ]
  },
  {
   "cell_type": "markdown",
   "metadata": {},
   "source": [
    "### Parse and extract `value` and `suit` elements from JSON output, for each card"
   ]
  },
  {
   "cell_type": "code",
   "execution_count": 62,
   "metadata": {},
   "outputs": [
    {
     "name": "stdout",
     "output_type": "stream",
     "text": [
      "{'success': True, 'deck_id': '1emkd7kt9y1a', 'cards': [{'code': 'JH', 'image': 'https://deckofcardsapi.com/static/img/JH.png', 'images': {'svg': 'https://deckofcardsapi.com/static/img/JH.svg', 'png': 'https://deckofcardsapi.com/static/img/JH.png'}, 'value': 'JACK', 'suit': 'HEARTS'}, {'code': '2C', 'image': 'https://deckofcardsapi.com/static/img/2C.png', 'images': {'svg': 'https://deckofcardsapi.com/static/img/2C.svg', 'png': 'https://deckofcardsapi.com/static/img/2C.png'}, 'value': '2', 'suit': 'CLUBS'}], 'remaining': 297}\n"
     ]
    }
   ],
   "source": [
    "print(draw_card)"
   ]
  },
  {
   "cell_type": "code",
   "execution_count": 63,
   "metadata": {},
   "outputs": [
    {
     "data": {
      "text/plain": [
       "'CLUBS'"
      ]
     },
     "execution_count": 63,
     "metadata": {},
     "output_type": "execute_result"
    }
   ],
   "source": [
    "draw_card['cards'][1]['value']\n",
    "draw_card['cards'][1]['suit']"
   ]
  },
  {
   "cell_type": "code",
   "execution_count": 64,
   "metadata": {},
   "outputs": [
    {
     "name": "stdout",
     "output_type": "stream",
     "text": [
      "JACK of HEARTS\n",
      "2 of CLUBS\n"
     ]
    }
   ],
   "source": [
    "player_1_count = 0\n",
    "\n",
    "# Select returned card's value and suit (i.e. 3 of clubs)\n",
    "player_1_card_1_value = draw_card['cards'][0]['value']\n",
    "player_1_card_1_suit = draw_card['cards'][0]['suit']\n",
    "player_1_card_2_value = draw_card['cards'][1]['value']\n",
    "player_1_card_2_suit = draw_card['cards'][1]['suit']\n",
    "\n",
    "\n",
    "player_1_card_1 = f'{player_1_card_1_value} of {player_1_card_1_suit}'\n",
    "player_1_card_2 = f'{player_1_card_2_value} of {player_1_card_2_suit}'\n",
    "# Print player cards\n",
    "print(player_1_card_1)\n",
    "print(player_1_card_2)\n",
    "\n"
   ]
  },
  {
   "cell_type": "code",
   "execution_count": 65,
   "metadata": {},
   "outputs": [
    {
     "name": "stdout",
     "output_type": "stream",
     "text": [
      "current value 12\n"
     ]
    }
   ],
   "source": [
    "if player_1_card_1_value == 'KING' or player_1_card_1_value == 'QUEEN' or player_1_card_1_value == 'JACK' :\n",
    "    p1_c1_value = 10\n",
    "elif player_1_card_1_value == 'ACE':\n",
    "    p1_c1_value = 11\n",
    "else:\n",
    "    p1_c1_value = player_1_card_value\n",
    "\n",
    "if player_1_card_2_value == 'KING' or player_1_card_2_value == 'QUEEN' or player_1_card_2_value == 'JACK' :\n",
    "    p1_c2_value = 10\n",
    "elif player_1_card_2_value == 'ACE':\n",
    "    p1_c2_value = 11\n",
    "else:\n",
    "    p1_c2_value = player_1_card_2_value    \n",
    "\n",
    "#print(p1_c1_value)\n",
    "#print(p1_c2_value)\n",
    "        \n",
    "player_1_count = int(p1_c1_value) + int(p1_c2_value)\n",
    "\n",
    "print(f'current value {player_1_count}')"
   ]
  },
  {
   "cell_type": "markdown",
   "metadata": {},
   "source": [
    "### Decide whether to draw another card or skip to next player turn"
   ]
  },
  {
   "cell_type": "code",
   "execution_count": 66,
   "metadata": {},
   "outputs": [
    {
     "name": "stdin",
     "output_type": "stream",
     "text": [
      "Y for Draw, N for Hold Y\n"
     ]
    },
    {
     "name": "stdout",
     "output_type": "stream",
     "text": [
      "ACE\n",
      "11\n",
      "ACE of CLUBS\n"
     ]
    }
   ],
   "source": [
    "draw = input('Y for Draw, N for Hold')\n",
    "draw_value = 0\n",
    "# Draw a third card\n",
    "if draw == 'Y':\n",
    "    draw_card_1 = requests.get(draw_cards_url1).json()\n",
    "    draw_card_1_value = draw_card_1['cards'][0]['value']\n",
    "    draw_card_1_suit = draw_card_1['cards'][0]['suit']\n",
    "    if draw_card_1_value == 'KING' or draw_card_1_value == 'QUEEN' or draw_card_1_value == 'JACK' :\n",
    "        draw_value = 10\n",
    "    elif draw_card_1_value == 'ACE':\n",
    "        draw_value = 11\n",
    "    else:\n",
    "        draw_value = draw_card_1_value\n",
    "    print(draw_card_1_value)\n",
    "    print(draw_value)\n",
    "\n",
    "    \n",
    "\n",
    "# Select returned card's value and suit (i.e. 3 of clubs)\n",
    "    print(f'{draw_card_1_value} of {draw_card_1_suit}')\n",
    "\n",
    "player_1_count = player_1_count + draw_value\n",
    "# Print player card\n",
    "#print(player_1_card_3)"
   ]
  },
  {
   "cell_type": "markdown",
   "metadata": {},
   "source": [
    "### Manually calculate player 1 points and enter below"
   ]
  },
  {
   "cell_type": "markdown",
   "metadata": {},
   "source": [
    "Player 1 points = "
   ]
  },
  {
   "cell_type": "code",
   "execution_count": 67,
   "metadata": {},
   "outputs": [
    {
     "name": "stdout",
     "output_type": "stream",
     "text": [
      "23\n"
     ]
    }
   ],
   "source": [
    "print(player_1_count)"
   ]
  },
  {
   "cell_type": "markdown",
   "metadata": {},
   "source": [
    "## Player 2 / Dealer Turn"
   ]
  },
  {
   "cell_type": "code",
   "execution_count": null,
   "metadata": {},
   "outputs": [],
   "source": [
    "# Draw two cards for player 1\n",
    "\n",
    "\n",
    "# Select card value and suit \n",
    "\n",
    "\n",
    "# Print player cards\n",
    "print(player_2_card_1)\n",
    "print(player_2_card_2)\n",
    "\n",
    "# Draw third card for player 2\n",
    "\n",
    "\n",
    "# Print player card\n",
    "print(player_2_card_3)"
   ]
  },
  {
   "cell_type": "markdown",
   "metadata": {},
   "source": [
    "### Manually calculate player 2 points and enter below"
   ]
  },
  {
   "cell_type": "markdown",
   "metadata": {},
   "source": [
    "Player 2 points ="
   ]
  },
  {
   "cell_type": "raw",
   "metadata": {},
   "source": []
  }
 ],
 "metadata": {
  "kernelspec": {
   "display_name": "Python 3",
   "language": "python",
   "name": "python3"
  },
  "language_info": {
   "codemirror_mode": {
    "name": "ipython",
    "version": 3
   },
   "file_extension": ".py",
   "mimetype": "text/x-python",
   "name": "python",
   "nbconvert_exporter": "python",
   "pygments_lexer": "ipython3",
   "version": "3.8.5"
  }
 },
 "nbformat": 4,
 "nbformat_minor": 4
}
