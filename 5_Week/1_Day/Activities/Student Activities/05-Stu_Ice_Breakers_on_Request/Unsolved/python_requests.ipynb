{
 "cells": [
  {
   "cell_type": "markdown",
   "metadata": {},
   "source": [
    "## Ice Breakers on Request"
   ]
  },
  {
   "cell_type": "markdown",
   "metadata": {},
   "source": [
    "### Import requests library"
   ]
  },
  {
   "cell_type": "code",
   "execution_count": 1,
   "metadata": {},
   "outputs": [],
   "source": [
    "import requests"
   ]
  },
  {
   "cell_type": "markdown",
   "metadata": {},
   "source": [
    "### Declare `request_urls`"
   ]
  },
  {
   "cell_type": "code",
   "execution_count": 2,
   "metadata": {},
   "outputs": [],
   "source": [
    "# Declare `url` variables\n",
    "prog_joke_url = \"https://official-joke-api.appspot.com/jokes/programming/random\"\n",
    "rand_joke_url = \"https://official-joke-api.appspot.com/jokes/random\"\n",
    "cat_facts_url = \"https://cat-fact.herokuapp.com/facts\"\n",
    "dot_spending_url = \"https://api.usaspending.gov//api/v2/references/agency/456/\"\n",
    "us_gdp_data_url = \"http://api.worldbank.org/v2/country/us?format=json\""
   ]
  },
  {
   "cell_type": "markdown",
   "metadata": {},
   "source": [
    "### Execute `GET` request using `requests` library"
   ]
  },
  {
   "cell_type": "code",
   "execution_count": 3,
   "metadata": {},
   "outputs": [],
   "source": [
    "# Execute `GET` request with url\n",
    "get_data = requests.get(rand_joke_url)"
   ]
  },
  {
   "cell_type": "markdown",
   "metadata": {},
   "source": [
    "### Get response `status code`"
   ]
  },
  {
   "cell_type": "code",
   "execution_count": 4,
   "metadata": {},
   "outputs": [
    {
     "name": "stdout",
     "output_type": "stream",
     "text": [
      "<Response [200]>\n"
     ]
    }
   ],
   "source": [
    "# Print `response_data variable\n",
    "print(get_data)"
   ]
  },
  {
   "cell_type": "markdown",
   "metadata": {},
   "source": [
    "### Extract response `content`"
   ]
  },
  {
   "cell_type": "code",
   "execution_count": 5,
   "metadata": {},
   "outputs": [
    {
     "name": "stdout",
     "output_type": "stream",
     "text": [
      "b'{\"id\":370,\"type\":\"general\",\"setup\":\"Why do you never see elephants hiding in trees?\",\"punchline\":\"Because they\\'re so good at it.\"}'\n"
     ]
    }
   ],
   "source": [
    "# Store response using `content` attribute\n",
    "content = get_data.content\n",
    "print(content)"
   ]
  },
  {
   "cell_type": "markdown",
   "metadata": {},
   "source": [
    "### Convert output to JSON"
   ]
  },
  {
   "cell_type": "code",
   "execution_count": 6,
   "metadata": {},
   "outputs": [],
   "source": [
    "# Format data as JSON\n",
    "content_json = get_data.json()"
   ]
  },
  {
   "cell_type": "markdown",
   "metadata": {},
   "source": [
    "### Format data with `json.dumps`"
   ]
  },
  {
   "cell_type": "code",
   "execution_count": 7,
   "metadata": {},
   "outputs": [
    {
     "name": "stdout",
     "output_type": "stream",
     "text": [
      "{\n",
      "  \"id\": 370,\n",
      "  \"type\": \"general\",\n",
      "  \"setup\": \"Why do you never see elephants hiding in trees?\",\n",
      "  \"punchline\": \"Because they're so good at it.\"\n",
      "}\n"
     ]
    }
   ],
   "source": [
    "import json\n",
    "print(json.dumps(content_json,indent=2))\n",
    "# Use json.dumps to format data"
   ]
  },
  {
   "cell_type": "markdown",
   "metadata": {},
   "source": [
    "### Select value and store as variable"
   ]
  },
  {
   "cell_type": "code",
   "execution_count": 8,
   "metadata": {},
   "outputs": [
    {
     "data": {
      "text/plain": [
       "'Why do you never see elephants hiding in trees?'"
      ]
     },
     "execution_count": 8,
     "metadata": {},
     "output_type": "execute_result"
    }
   ],
   "source": [
    "# Select a programming joke \n",
    "content_json['setup']\n",
    "# Select a cat joke from JSON output\n",
    "# selected_value = data['all'][0]['text']"
   ]
  },
  {
   "cell_type": "code",
   "execution_count": 9,
   "metadata": {},
   "outputs": [
    {
     "name": "stdout",
     "output_type": "stream",
     "text": [
      "hear me out.. Why do you never see elephants hiding in trees?\n",
      "wait for it....\n",
      "Because they're so good at it.... KACHOW\n"
     ]
    }
   ],
   "source": [
    "# Print selected values\n",
    "joke = content_json['setup']\n",
    "punchline = content_json['punchline']\n",
    "print(f'hear me out.. {joke}')\n",
    "print('wait for it....')\n",
    "print(f'{punchline}... KACHOW')"
   ]
  },
  {
   "cell_type": "code",
   "execution_count": null,
   "metadata": {},
   "outputs": [],
   "source": []
  }
 ],
 "metadata": {
  "kernelspec": {
   "display_name": "Python 3",
   "language": "python",
   "name": "python3"
  },
  "language_info": {
   "codemirror_mode": {
    "name": "ipython",
    "version": 3
   },
   "file_extension": ".py",
   "mimetype": "text/x-python",
   "name": "python",
   "nbconvert_exporter": "python",
   "pygments_lexer": "ipython3",
   "version": "3.8.5"
  }
 },
 "nbformat": 4,
 "nbformat_minor": 4
}
